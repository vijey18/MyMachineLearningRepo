{
 "cells": [
  {
   "cell_type": "code",
   "execution_count": 1,
   "id": "bf66bd45-f50a-47cf-9d25-27ae88194d57",
   "metadata": {},
   "outputs": [],
   "source": [
    "import pandas as pd\n",
    "import numpy as np\n",
    "import seaborn as sns\n",
    "from matplotlib import pyplot as plt\n",
    "%matplotlib inline\n"
   ]
  },
  {
   "cell_type": "code",
   "execution_count": 2,
   "id": "0e756d59-5de3-473e-b55a-95800f1cc3cf",
   "metadata": {},
   "outputs": [
    {
     "name": "stdout",
     "output_type": "stream",
     "text": [
      "--2024-11-03 17:35:42--  https://github.com/alexeygrigorev/datasets/raw/refs/heads/master/jamb_exam_results.csv\n",
      "Resolving github.com (github.com)... 140.82.114.3\n",
      "Connecting to github.com (github.com)|140.82.114.3|:443... connected.\n",
      "HTTP request sent, awaiting response... 302 Found\n",
      "Location: https://raw.githubusercontent.com/alexeygrigorev/datasets/refs/heads/master/jamb_exam_results.csv [following]\n",
      "--2024-11-03 17:35:42--  https://raw.githubusercontent.com/alexeygrigorev/datasets/refs/heads/master/jamb_exam_results.csv\n",
      "Resolving raw.githubusercontent.com (raw.githubusercontent.com)... 185.199.110.133, 185.199.111.133, 185.199.108.133, ...\n",
      "Connecting to raw.githubusercontent.com (raw.githubusercontent.com)|185.199.110.133|:443... connected.\n",
      "HTTP request sent, awaiting response... 200 OK\n",
      "Length: 391501 (382K) [text/plain]\n",
      "Saving to: ‘jamb_exam_results.csv.5’\n",
      "\n",
      "jamb_exam_results.c 100%[===================>] 382.33K  --.-KB/s    in 0.02s   \n",
      "\n",
      "2024-11-03 17:35:43 (16.4 MB/s) - ‘jamb_exam_results.csv.5’ saved [391501/391501]\n",
      "\n"
     ]
    }
   ],
   "source": [
    "!wget https://github.com/alexeygrigorev/datasets/raw/refs/heads/master/jamb_exam_results.csv"
   ]
  },
  {
   "cell_type": "code",
   "execution_count": 3,
   "id": "2e3c4074-791c-49f8-88b5-60aebb82358e",
   "metadata": {},
   "outputs": [],
   "source": [
    "df = pd.read_csv(\"jamb_exam_results.csv\")"
   ]
  },
  {
   "cell_type": "code",
   "execution_count": 4,
   "id": "baf7399f-673f-43ed-be10-b16205667142",
   "metadata": {},
   "outputs": [
    {
     "data": {
      "text/html": [
       "<div>\n",
       "<style scoped>\n",
       "    .dataframe tbody tr th:only-of-type {\n",
       "        vertical-align: middle;\n",
       "    }\n",
       "\n",
       "    .dataframe tbody tr th {\n",
       "        vertical-align: top;\n",
       "    }\n",
       "\n",
       "    .dataframe thead th {\n",
       "        text-align: right;\n",
       "    }\n",
       "</style>\n",
       "<table border=\"1\" class=\"dataframe\">\n",
       "  <thead>\n",
       "    <tr style=\"text-align: right;\">\n",
       "      <th></th>\n",
       "      <th>JAMB_Score</th>\n",
       "      <th>Study_Hours_Per_Week</th>\n",
       "      <th>Attendance_Rate</th>\n",
       "      <th>Teacher_Quality</th>\n",
       "      <th>Distance_To_School</th>\n",
       "      <th>School_Type</th>\n",
       "      <th>School_Location</th>\n",
       "      <th>Extra_Tutorials</th>\n",
       "      <th>Access_To_Learning_Materials</th>\n",
       "      <th>Parent_Involvement</th>\n",
       "      <th>IT_Knowledge</th>\n",
       "      <th>Student_ID</th>\n",
       "      <th>Age</th>\n",
       "      <th>Gender</th>\n",
       "      <th>Socioeconomic_Status</th>\n",
       "      <th>Parent_Education_Level</th>\n",
       "      <th>Assignments_Completed</th>\n",
       "    </tr>\n",
       "  </thead>\n",
       "  <tbody>\n",
       "    <tr>\n",
       "      <th>0</th>\n",
       "      <td>192</td>\n",
       "      <td>22</td>\n",
       "      <td>78</td>\n",
       "      <td>4</td>\n",
       "      <td>12.4</td>\n",
       "      <td>Public</td>\n",
       "      <td>Urban</td>\n",
       "      <td>Yes</td>\n",
       "      <td>Yes</td>\n",
       "      <td>High</td>\n",
       "      <td>Medium</td>\n",
       "      <td>1</td>\n",
       "      <td>17</td>\n",
       "      <td>Male</td>\n",
       "      <td>Low</td>\n",
       "      <td>Tertiary</td>\n",
       "      <td>2</td>\n",
       "    </tr>\n",
       "    <tr>\n",
       "      <th>1</th>\n",
       "      <td>207</td>\n",
       "      <td>14</td>\n",
       "      <td>88</td>\n",
       "      <td>4</td>\n",
       "      <td>2.7</td>\n",
       "      <td>Public</td>\n",
       "      <td>Rural</td>\n",
       "      <td>No</td>\n",
       "      <td>Yes</td>\n",
       "      <td>High</td>\n",
       "      <td>High</td>\n",
       "      <td>2</td>\n",
       "      <td>15</td>\n",
       "      <td>Male</td>\n",
       "      <td>High</td>\n",
       "      <td>NaN</td>\n",
       "      <td>1</td>\n",
       "    </tr>\n",
       "    <tr>\n",
       "      <th>2</th>\n",
       "      <td>182</td>\n",
       "      <td>29</td>\n",
       "      <td>87</td>\n",
       "      <td>2</td>\n",
       "      <td>9.6</td>\n",
       "      <td>Public</td>\n",
       "      <td>Rural</td>\n",
       "      <td>Yes</td>\n",
       "      <td>Yes</td>\n",
       "      <td>High</td>\n",
       "      <td>Medium</td>\n",
       "      <td>3</td>\n",
       "      <td>20</td>\n",
       "      <td>Female</td>\n",
       "      <td>High</td>\n",
       "      <td>Tertiary</td>\n",
       "      <td>2</td>\n",
       "    </tr>\n",
       "    <tr>\n",
       "      <th>3</th>\n",
       "      <td>210</td>\n",
       "      <td>29</td>\n",
       "      <td>99</td>\n",
       "      <td>2</td>\n",
       "      <td>2.6</td>\n",
       "      <td>Public</td>\n",
       "      <td>Urban</td>\n",
       "      <td>No</td>\n",
       "      <td>Yes</td>\n",
       "      <td>Medium</td>\n",
       "      <td>High</td>\n",
       "      <td>4</td>\n",
       "      <td>22</td>\n",
       "      <td>Female</td>\n",
       "      <td>Medium</td>\n",
       "      <td>Tertiary</td>\n",
       "      <td>1</td>\n",
       "    </tr>\n",
       "    <tr>\n",
       "      <th>4</th>\n",
       "      <td>199</td>\n",
       "      <td>12</td>\n",
       "      <td>98</td>\n",
       "      <td>3</td>\n",
       "      <td>8.8</td>\n",
       "      <td>Public</td>\n",
       "      <td>Urban</td>\n",
       "      <td>No</td>\n",
       "      <td>Yes</td>\n",
       "      <td>Medium</td>\n",
       "      <td>Medium</td>\n",
       "      <td>5</td>\n",
       "      <td>22</td>\n",
       "      <td>Female</td>\n",
       "      <td>Medium</td>\n",
       "      <td>Tertiary</td>\n",
       "      <td>1</td>\n",
       "    </tr>\n",
       "  </tbody>\n",
       "</table>\n",
       "</div>"
      ],
      "text/plain": [
       "   JAMB_Score  Study_Hours_Per_Week  Attendance_Rate  Teacher_Quality  \\\n",
       "0         192                    22               78                4   \n",
       "1         207                    14               88                4   \n",
       "2         182                    29               87                2   \n",
       "3         210                    29               99                2   \n",
       "4         199                    12               98                3   \n",
       "\n",
       "   Distance_To_School School_Type School_Location Extra_Tutorials  \\\n",
       "0                12.4      Public           Urban             Yes   \n",
       "1                 2.7      Public           Rural              No   \n",
       "2                 9.6      Public           Rural             Yes   \n",
       "3                 2.6      Public           Urban              No   \n",
       "4                 8.8      Public           Urban              No   \n",
       "\n",
       "  Access_To_Learning_Materials Parent_Involvement IT_Knowledge  Student_ID  \\\n",
       "0                          Yes               High       Medium           1   \n",
       "1                          Yes               High         High           2   \n",
       "2                          Yes               High       Medium           3   \n",
       "3                          Yes             Medium         High           4   \n",
       "4                          Yes             Medium       Medium           5   \n",
       "\n",
       "   Age  Gender Socioeconomic_Status Parent_Education_Level  \\\n",
       "0   17    Male                  Low               Tertiary   \n",
       "1   15    Male                 High                    NaN   \n",
       "2   20  Female                 High               Tertiary   \n",
       "3   22  Female               Medium               Tertiary   \n",
       "4   22  Female               Medium               Tertiary   \n",
       "\n",
       "   Assignments_Completed  \n",
       "0                      2  \n",
       "1                      1  \n",
       "2                      2  \n",
       "3                      1  \n",
       "4                      1  "
      ]
     },
     "execution_count": 4,
     "metadata": {},
     "output_type": "execute_result"
    }
   ],
   "source": [
    "df.head()"
   ]
  },
  {
   "cell_type": "code",
   "execution_count": 5,
   "id": "d89f7755-6f95-4fac-bee2-437852f14328",
   "metadata": {},
   "outputs": [],
   "source": [
    "df.columns = df.columns.str.lower().str.replace(\" \", \"_\")"
   ]
  },
  {
   "cell_type": "markdown",
   "id": "4f2e5a21-6484-4ab5-a4f8-47b155e74c1e",
   "metadata": {},
   "source": [
    "Preparation:\n",
    "\n",
    "Remove the student_id column.\n",
    "Fill missing values with zeros.\n",
    "Do train/validation/test split with 60%/20%/20% distribution.\n",
    "Use the train_test_split function and set the random_state parameter to 1.\n",
    "Use DictVectorizer(sparse=True) to turn the dataframes into matrices."
   ]
  },
  {
   "cell_type": "code",
   "execution_count": 6,
   "id": "87f048c6-f454-45cd-a46d-a4eecf12e0de",
   "metadata": {},
   "outputs": [
    {
     "data": {
      "text/plain": [
       "Index(['jamb_score', 'study_hours_per_week', 'attendance_rate',\n",
       "       'teacher_quality', 'distance_to_school', 'school_type',\n",
       "       'school_location', 'extra_tutorials', 'access_to_learning_materials',\n",
       "       'parent_involvement', 'it_knowledge', 'student_id', 'age', 'gender',\n",
       "       'socioeconomic_status', 'parent_education_level',\n",
       "       'assignments_completed'],\n",
       "      dtype='object')"
      ]
     },
     "execution_count": 6,
     "metadata": {},
     "output_type": "execute_result"
    }
   ],
   "source": [
    "df.columns"
   ]
  },
  {
   "cell_type": "code",
   "execution_count": 7,
   "id": "ab46b659-7d06-4239-8885-635b949cc0a6",
   "metadata": {},
   "outputs": [],
   "source": [
    "df = df.drop(columns=['student_id'])"
   ]
  },
  {
   "cell_type": "code",
   "execution_count": 8,
   "id": "42304454-3dc3-43e5-ac7b-402623760f86",
   "metadata": {},
   "outputs": [
    {
     "data": {
      "text/plain": [
       "jamb_score                        0\n",
       "study_hours_per_week              0\n",
       "attendance_rate                   0\n",
       "teacher_quality                   0\n",
       "distance_to_school                0\n",
       "school_type                       0\n",
       "school_location                   0\n",
       "extra_tutorials                   0\n",
       "access_to_learning_materials      0\n",
       "parent_involvement                0\n",
       "it_knowledge                      0\n",
       "age                               0\n",
       "gender                            0\n",
       "socioeconomic_status              0\n",
       "parent_education_level          891\n",
       "assignments_completed             0\n",
       "dtype: int64"
      ]
     },
     "execution_count": 8,
     "metadata": {},
     "output_type": "execute_result"
    }
   ],
   "source": [
    "df.isnull().sum()"
   ]
  },
  {
   "cell_type": "code",
   "execution_count": 9,
   "id": "8ebb4bd7-1b5f-4f0e-9178-7a158018791b",
   "metadata": {},
   "outputs": [],
   "source": [
    "df = df.fillna(0)"
   ]
  },
  {
   "cell_type": "code",
   "execution_count": 10,
   "id": "47d9732c-7d5a-4448-90be-f61fb1d11037",
   "metadata": {},
   "outputs": [
    {
     "data": {
      "text/plain": [
       "jamb_score                      0\n",
       "study_hours_per_week            0\n",
       "attendance_rate                 0\n",
       "teacher_quality                 0\n",
       "distance_to_school              0\n",
       "school_type                     0\n",
       "school_location                 0\n",
       "extra_tutorials                 0\n",
       "access_to_learning_materials    0\n",
       "parent_involvement              0\n",
       "it_knowledge                    0\n",
       "age                             0\n",
       "gender                          0\n",
       "socioeconomic_status            0\n",
       "parent_education_level          0\n",
       "assignments_completed           0\n",
       "dtype: int64"
      ]
     },
     "execution_count": 10,
     "metadata": {},
     "output_type": "execute_result"
    }
   ],
   "source": [
    "df.isnull().sum()"
   ]
  },
  {
   "cell_type": "code",
   "execution_count": 11,
   "id": "0c5db312-6d80-4c85-ba65-63b52bfc38ef",
   "metadata": {},
   "outputs": [],
   "source": [
    "from sklearn.model_selection import train_test_split\n",
    "#Do train/validation/test split with 60%/20%/20% distribution. Use the train_test_split function and set the random_state parameter to 1.\n",
    "X = df.drop(columns=['jamb_score'])\n",
    "y =df['jamb_score']\n",
    "X_train, X_temp, y_train,y_temp = train_test_split(X, y, test_size=0.4, random_state=1)\n",
    "X_val, X_test, y_val, y_test = train_test_split(X_temp, y_temp, test_size=0.5, random_state=1)\n",
    "\n",
    "#Use DictVectorizer(sparse=True) to turn the dataframes into matrices.\n",
    "from sklearn.feature_extraction import DictVectorizer\n",
    "dv = DictVectorizer(sparse=True)\n",
    "\n",
    "X_train_dict = X_train.to_dict(orient='records')\n",
    "X_val_dict = X_val.to_dict(orient='records')\n",
    "X_test_dict = X_test.to_dict(orient='records')\n",
    "\n",
    "X_train_matrix = dv.fit_transform(X_train_dict)\n",
    "\n",
    "X_val_matrix = dv.transform(X_val_dict)\n",
    "X_test_matrix = dv.transform(X_test_dict)\n"
   ]
  },
  {
   "cell_type": "raw",
   "id": "a3f766a3-25b7-492f-9da6-468db1c16f30",
   "metadata": {},
   "source": [
    "Question 1\n",
    "Let's train a decision tree regressor to predict the jamb_score variable.\n",
    "\n",
    "Train a model with max_depth=1.\n",
    "Which feature is used for splitting the data?\n",
    "\n",
    "study_hours_per_week\n",
    "attendance_rate\n",
    "teacher_quality\n",
    "distance_to_school"
   ]
  },
  {
   "cell_type": "code",
   "execution_count": 14,
   "id": "d741fa30-2d19-44f1-854f-02977ec32ef2",
   "metadata": {},
   "outputs": [],
   "source": [
    "from sklearn.tree import DecisionTreeRegressor\n",
    "\n",
    "dt = DecisionTreeRegressor(max_depth=1, random_state=1)\n",
    "dt.fit(X_train_matrix,y_train)\n",
    "\n",
    "#dt.tree_.feature\n",
    "split_feature_index = dt.tree_.feature[0]\n",
    "#print(split_feature_index)"
   ]
  },
  {
   "cell_type": "code",
   "execution_count": 15,
   "id": "915140aa-6945-4a91-b57f-af3903c49709",
   "metadata": {},
   "outputs": [
    {
     "name": "stdout",
     "output_type": "stream",
     "text": [
      "study_hours_per_week\n"
     ]
    }
   ],
   "source": [
    "split_feature_name = dv.feature_names_[split_feature_index]\n",
    "print(split_feature_name)"
   ]
  },
  {
   "cell_type": "raw",
   "id": "07d17428-a10b-405d-b93a-502af8e765ae",
   "metadata": {},
   "source": [
    "Question 2\n",
    "Train a random forest model with these parameters:\n",
    "\n",
    "n_estimators=10\n",
    "random_state=1\n",
    "n_jobs=-1 (optional - to make training faster)\n",
    "What's the RMSE of this model on validation?\n",
    "\n",
    "22.13\n",
    "42.13\n",
    "62.13\n",
    "82.12"
   ]
  },
  {
   "cell_type": "code",
   "execution_count": 16,
   "id": "a6e4f1e6-fde7-4fe1-9d25-959db4a8035a",
   "metadata": {},
   "outputs": [
    {
     "name": "stdout",
     "output_type": "stream",
     "text": [
      "the value of RMSE on this model is 43.16\n"
     ]
    }
   ],
   "source": [
    "from sklearn.ensemble import RandomForestRegressor\n",
    "from sklearn.metrics import root_mean_squared_error\n",
    "from sklearn.metrics import mean_squared_error\n",
    "rf  = RandomForestRegressor(n_estimators=10, random_state=1, n_jobs=-1)\n",
    "\n",
    "rf.fit(X_train_matrix, y_train)\n",
    "\n",
    "y_val_pred = rf.predict(X_val_matrix)\n",
    "\n",
    "rmse = (root_mean_squared_error(y_val, y_val_pred))\n",
    "\n",
    "print(f\"the value of RMSE on this model is {rmse:.2f}\")\n"
   ]
  },
  {
   "cell_type": "raw",
   "id": "748564fd-33fd-4510-b73b-992311f0dcba",
   "metadata": {},
   "source": [
    "Question 3\n",
    "Now let's experiment with the n_estimators parameter\n",
    "\n",
    "Try different values of this parameter from 10 to 200 with step 10.\n",
    "Set random_state to 1.\n",
    "Evaluate the model on the validation dataset.\n",
    "After which value of n_estimators does RMSE stop improving? Consider 3 decimal places for calculating the answer.\n",
    "\n",
    "10\n",
    "25\n",
    "80\n",
    "200"
   ]
  },
  {
   "cell_type": "code",
   "execution_count": 17,
   "id": "178a5b45-1602-41ce-9d0a-c98001322d14",
   "metadata": {},
   "outputs": [
    {
     "name": "stdout",
     "output_type": "stream",
     "text": [
      " RMSE value is 43.158 for estimator value of 10\n",
      " RMSE value is 41.790 for estimator value of 20\n",
      " RMSE value is 41.556 for estimator value of 30\n",
      " RMSE value is 41.076 for estimator value of 40\n",
      " RMSE value is 40.957 for estimator value of 50\n",
      " RMSE value is 40.774 for estimator value of 60\n",
      " RMSE value is 40.588 for estimator value of 70\n",
      " RMSE value is 40.503 for estimator value of 80\n",
      " RMSE value is 40.435 for estimator value of 90\n",
      " RMSE value is 40.365 for estimator value of 100\n",
      " RMSE value is 40.348 for estimator value of 110\n",
      " RMSE value is 40.302 for estimator value of 120\n",
      " RMSE value is 40.286 for estimator value of 130\n",
      " RMSE value is 40.263 for estimator value of 140\n",
      " RMSE value is 40.254 for estimator value of 150\n",
      " RMSE value is 40.200 for estimator value of 160\n",
      " RMSE value is 40.187 for estimator value of 170\n",
      " RMSE value is 40.136 for estimator value of 180\n",
      " RMSE value is 40.152 for estimator value of 190\n",
      " RMSE value is 40.138 for estimator value of 200\n"
     ]
    }
   ],
   "source": [
    "from sklearn.ensemble import RandomForestRegressor\n",
    "from sklearn.metrics import root_mean_squared_error\n",
    "from sklearn.metrics import mean_squared_error\n",
    "\n",
    "\n",
    "rmse_dict = {}\n",
    "# loop for rmse values for n values ranging from 10 to 200 with step of 10\n",
    "for n in range(10,201,10):\n",
    "    rf  = RandomForestRegressor(n_estimators=n, random_state=1, n_jobs=-1)\n",
    "    rf.fit(X_train_matrix, y_train)\n",
    "    y_val_pred = rf.predict(X_val_matrix)\n",
    "    rmse = (root_mean_squared_error(y_val, y_val_pred))\n",
    "    rmse_dict[n] = rmse\n",
    "    print(f\" RMSE value is {rmse:.3f} for estimator value of {n}\")\n",
    "    \n",
    "last_rmse = None\n",
    "\n",
    "for n, rmse in rmse_dict.items():\n",
    "    rounded_rmse = round(rmse,3)\n",
    "    if last_rmse is not None and rounded_rmse==last_rmse:\n",
    "        print(f\"RMSE stops improving significantly after n_estimators={n}\")\n",
    "        break\n",
    "    last_rmse = rounded_rmse\n",
    "        \n",
    "    \n",
    "\n"
   ]
  },
  {
   "cell_type": "raw",
   "id": "385e874b-93a9-4fc2-b7ce-05e82e262166",
   "metadata": {},
   "source": [
    "Question 4\n",
    "Let's select the best max_depth:\n",
    "\n",
    "Try different values of max_depth: [10, 15, 20, 25]\n",
    "For each of these values,\n",
    "try different values of n_estimators from 10 till 200 (with step 10)\n",
    "calculate the mean RMSE\n",
    "Fix the random seed: random_state=1\n",
    "What's the best max_depth, using the mean RMSE?\n",
    "\n",
    "10\n",
    "15\n",
    "20\n",
    "25\n"
   ]
  },
  {
   "cell_type": "code",
   "execution_count": 19,
   "id": "a1920818-0146-4cd9-b607-adfa876b1c92",
   "metadata": {},
   "outputs": [
    {
     "name": "stdout",
     "output_type": "stream",
     "text": [
      "Results: {10: 40.13800364122155, 15: 40.64396557212339, 20: 40.60981968462706, 25: 40.687581741749185}\n",
      "Best max_depth based on mean RMSE: 10\n"
     ]
    }
   ],
   "source": [
    "import numpy as np\n",
    "import pandas as pd\n",
    "from sklearn.model_selection import train_test_split\n",
    "from sklearn.sklearn.feature_extraction import DictVectorizer\n",
    "from sklearn.ensemble import RandomForestRegressor\n",
    "from sklearn.metrics import mean_squared_error\n",
    "\n",
    "df = pd.read_csv(\"jamb_exam_results.csv\")\n",
    "df.columns = df.columns.str.lower().str.replace(\" \", \"_\")\n",
    "df = df.drop(columns=['student_id'])\n",
    "df = df.fillna(0)\n",
    "\n",
    "X = df.drop(columns=['jamb_score'])\n",
    "y =df['jamb_score']\n",
    "X_train, X_temp, y_train,y_temp = train_test_split(X, y, test_size=0.4, random_state=1)\n",
    "X_val, X_test, y_val, y_test = train_test_split(X_temp, y_temp, test_size=0.5, random_state=1)\n",
    "\n",
    "#Use DictVectorizer(sparse=True) to turn the dataframes into matrices.\n",
    "from sklearn.feature_extraction import DictVectorizer\n",
    "dv = DictVectorizer(sparse=True)\n",
    "\n",
    "X_train_dict = X_train.to_dict(orient='records')\n",
    "X_val_dict = X_val.to_dict(orient='records')\n",
    "X_test_dict = X_test.to_dict(orient='records')\n",
    "\n",
    "X_train_matrix = dv.fit_transform(X_train_dict)\n",
    "\n",
    "X_val_matrix = dv.transform(X_val_dict)\n",
    "X_test_matrix = dv.transform(X_test_dict)\n",
    "\n",
    "max_depth_values = [10, 15, 20, 25]\n",
    "n_estimators_values = range(10, 201, 10)\n",
    "results = {}\n",
    "\n",
    "for max_depth in max_depth_values:\n",
    "    rmse_values = []\n",
    "    for n_estimators in n_estimators_values:\n",
    "        # Initialize the model with the given max_depth and n_estimators\n",
    "        rf = RandomForestRegressor(max_depth=max_depth, n_estimators=n_estimators, random_state=1,n_jobs=-1)\n",
    "        \n",
    "        # Fit the model\n",
    "        rf.fit(X_train_matrix, y_train)\n",
    "        \n",
    "        # Predict on the validation set\n",
    "        y_val_pred = rf.predict(X_val_matrix)\n",
    "        \n",
    "        # Calculate RMSE and store it\n",
    "        rmse = np.sqrt(mean_squared_error(y_val, y_val_pred))\n",
    "        rmse_values.append(rmse)\n",
    "    \n",
    "    # Calculate the mean RMSE for the current max_depth\n",
    "    mean_rmse = np.mean(rmse_values)\n",
    "    results[max_depth] = mean_rmse\n",
    "\n",
    "# Find the best max_depth based on mean RMSE\n",
    "best_max_depth = min(results, key=results.get)\n",
    "\n",
    "print(\"Results:\", results)\n",
    "print(\"Best max_depth based on mean RMSE:\", best_max_depth)"
   ]
  },
  {
   "cell_type": "raw",
   "id": "ca85a797-2031-4e7f-b565-434f33b3d177",
   "metadata": {},
   "source": [
    "Question 5\n",
    "We can extract feature importance information from tree-based models.\n",
    "\n",
    "At each step of the decision tree learning algorithm, it finds the best split. When doing it, we can calculate \"gain\" - the reduction in impurity before and after the split. This gain is quite useful in understanding what are the important features for tree-based models.\n",
    "\n",
    "In Scikit-Learn, tree-based models contain this information in the feature_importances_ field.\n",
    "\n",
    "For this homework question, we'll find the most important feature:\n",
    "\n",
    "Train the model with these parameters:\n",
    "n_estimators=10,\n",
    "max_depth=20,\n",
    "random_state=1,\n",
    "n_jobs=-1 (optional)\n",
    "Get the feature importance information from this model\n",
    "What's the most important feature (among these 4)?\n",
    "\n",
    "study_hours_per_week\n",
    "attendance_rate\n",
    "distance_to_school\n",
    "teacher_quality"
   ]
  },
  {
   "cell_type": "code",
   "execution_count": 28,
   "id": "5ec57cfa-d144-4d7e-9f2a-cbf52cc25d61",
   "metadata": {},
   "outputs": [
    {
     "name": "stdout",
     "output_type": "stream",
     "text": [
      "The most important feature is study_hours_per_week with feature value of 0.25407520246568593\n"
     ]
    }
   ],
   "source": [
    "import numpy as np\n",
    "import pandas as pd\n",
    "from sklearn.model_selection import train_test_split\n",
    "from sklearn.feature_extraction import DictVectorizer\n",
    "from sklearn.ensemble import RandomForestRegressor\n",
    "from sklearn.metrics import mean_squared_error\n",
    "\n",
    "df = pd.read_csv(\"jamb_exam_results.csv\")\n",
    "df.columns = df.columns.str.lower().str.replace(\" \", \"_\")\n",
    "df = df.drop(columns=['student_id'])\n",
    "df = df.fillna(0)\n",
    "\n",
    "X = df.drop(columns=['jamb_score'])\n",
    "y =df['jamb_score']\n",
    "X_train, X_temp, y_train,y_temp = train_test_split(X, y, test_size=0.4, random_state=1)\n",
    "X_val, X_test, y_val, y_test = train_test_split(X_temp, y_temp, test_size=0.5, random_state=1)\n",
    "\n",
    "#Use DictVectorizer(sparse=True) to turn the dataframes into matrices.\n",
    "from sklearn.feature_extraction import DictVectorizer\n",
    "dv = DictVectorizer(sparse=True)\n",
    "\n",
    "X_train_dict = X_train.to_dict(orient='records')\n",
    "X_val_dict = X_val.to_dict(orient='records')\n",
    "X_test_dict = X_test.to_dict(orient='records')\n",
    "\n",
    "X_train_matrix = dv.fit_transform(X_train_dict)\n",
    "\n",
    "X_val_matrix = dv.transform(X_val_dict)\n",
    "X_test_matrix = dv.transform(X_test_dict)\n",
    "\n",
    "rf1 = RandomForestRegressor(n_estimators=10, max_depth=20, random_state=1, n_jobs=-1)\n",
    "rf1.fit(X_train_matrix, y_train)\n",
    "\n",
    "\n",
    "importances = rf1.feature_importances_\n",
    "#print(importances)\n",
    "feature_names = dv.get_feature_names_out()\n",
    "#print(feature_names)\n",
    "feature_importance_dict = dict(zip(feature_names, importances))\n",
    "\n",
    "#print(feature_importance_dict)\n",
    "\n",
    "most_important_feature = max(feature_importance_dict, key=feature_importance_dict.get)\n",
    "most_import_feature_value = feature_importance_dict[most_important_feature]\n",
    "#print(most_important_feature)\n",
    "print(f\"The most important feature is {most_important_feature} with feature value of {most_import_feature_value}\")"
   ]
  },
  {
   "cell_type": "raw",
   "id": "232a0f23-4aef-4be7-9b6a-9a700c502c57",
   "metadata": {},
   "source": [
    "Question 6\n"
   ]
  },
  {
   "cell_type": "code",
   "execution_count": 33,
   "id": "bb24e576-6a3d-43fc-828a-8ec20e007ac9",
   "metadata": {},
   "outputs": [
    {
     "name": "stdout",
     "output_type": "stream",
     "text": [
      "Requirement already satisfied: xgboost in /home/ubuntu/anaconda3/lib/python3.12/site-packages (2.1.2)\n",
      "Requirement already satisfied: numpy in /home/ubuntu/anaconda3/lib/python3.12/site-packages (from xgboost) (1.26.4)\n",
      "Requirement already satisfied: nvidia-nccl-cu12 in /home/ubuntu/anaconda3/lib/python3.12/site-packages (from xgboost) (2.23.4)\n",
      "Requirement already satisfied: scipy in /home/ubuntu/anaconda3/lib/python3.12/site-packages (from xgboost) (1.13.1)\n",
      "RMSE with eta=0.3: 43.343\n",
      "RMSE with eta=0.1: 40.832\n",
      "Best eta: 0.1\n"
     ]
    }
   ],
   "source": [
    "!pip install xgboost\n",
    "import xgboost as xgb\n",
    "from sklearn.metrics import mean_squared_error\n",
    "import numpy as np\n",
    "\n",
    "df = pd.read_csv(\"jamb_exam_results.csv\")\n",
    "df.columns = df.columns.str.lower().str.replace(\" \", \"_\")\n",
    "df = df.drop(columns=['student_id'])\n",
    "df = df.fillna(0)\n",
    "\n",
    "X = df.drop(columns=['jamb_score'])\n",
    "y =df['jamb_score']\n",
    "X_train, X_temp, y_train,y_temp = train_test_split(X, y, test_size=0.4, random_state=1)\n",
    "X_val, X_test, y_val, y_test = train_test_split(X_temp, y_temp, test_size=0.5, random_state=1)\n",
    "\n",
    "#Use DictVectorizer(sparse=True) to turn the dataframes into matrices.\n",
    "from sklearn.feature_extraction import DictVectorizer\n",
    "dv = DictVectorizer(sparse=True)\n",
    "\n",
    "X_train_dict = X_train.to_dict(orient='records')\n",
    "X_val_dict = X_val.to_dict(orient='records')\n",
    "X_test_dict = X_test.to_dict(orient='records')\n",
    "\n",
    "X_train_matrix = dv.fit_transform(X_train_dict)\n",
    "\n",
    "X_val_matrix = dv.transform(X_val_dict)\n",
    "X_test_matrix = dv.transform(X_test_dict)\n",
    "# Prepare data in DMatrix format\n",
    "dtrain = xgb.DMatrix(X_train_matrix, label=y_train)\n",
    "dval = xgb.DMatrix(X_val_matrix, label=y_val)\n",
    "\n",
    "# Create a watchlist to track train and validation errors\n",
    "watchlist = [(dtrain, 'train'), (dval, 'eval')]\n",
    "\n",
    "# Function to train and evaluate the model\n",
    "def train_xgboost(params, num_rounds=100):\n",
    "    model = xgb.train(params, dtrain, num_rounds, evals=watchlist, verbose_eval=False)\n",
    "    y_pred = model.predict(dval)\n",
    "    rmse = np.sqrt(mean_squared_error(y_val, y_pred))\n",
    "    return rmse\n",
    "\n",
    "# Set up parameters\n",
    "xgb_params = {\n",
    "    'max_depth': 6,\n",
    "    'min_child_weight': 1,\n",
    "    'objective': 'reg:squarederror',\n",
    "    'nthread': 8,\n",
    "    'seed': 1,\n",
    "    'verbosity': 1,\n",
    "}\n",
    "\n",
    "# Train with eta = 0.3\n",
    "xgb_params['eta'] = 0.3\n",
    "rmse_eta_03 = train_xgboost(xgb_params)\n",
    "\n",
    "# Train with eta = 0.1\n",
    "xgb_params['eta'] = 0.1\n",
    "rmse_eta_01 = train_xgboost(xgb_params)\n",
    "\n",
    "# Print RMSE results\n",
    "print(f\"RMSE with eta=0.3: {rmse_eta_03:.3f}\")\n",
    "print(f\"RMSE with eta=0.1: {rmse_eta_01:.3f}\")\n",
    "\n",
    "# Determine the best eta\n",
    "best_eta = 0.1 if rmse_eta_01 < rmse_eta_03 else 0.3\n",
    "print(f\"Best eta: {best_eta}\")\n"
   ]
  },
  {
   "cell_type": "code",
   "execution_count": null,
   "id": "068acf6a-a5ba-4dbd-92e3-68218d3b171f",
   "metadata": {},
   "outputs": [],
   "source": []
  }
 ],
 "metadata": {
  "kernelspec": {
   "display_name": "Python 3 (ipykernel)",
   "language": "python",
   "name": "python3"
  },
  "language_info": {
   "codemirror_mode": {
    "name": "ipython",
    "version": 3
   },
   "file_extension": ".py",
   "mimetype": "text/x-python",
   "name": "python",
   "nbconvert_exporter": "python",
   "pygments_lexer": "ipython3",
   "version": "3.12.4"
  }
 },
 "nbformat": 4,
 "nbformat_minor": 5
}
