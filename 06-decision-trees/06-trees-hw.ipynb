{
 "cells": [
  {
   "cell_type": "code",
   "execution_count": 26,
   "id": "bf66bd45-f50a-47cf-9d25-27ae88194d57",
   "metadata": {},
   "outputs": [],
   "source": [
    "import pandas as pd\n",
    "import numpy as np\n",
    "import seaborn as sns\n",
    "from matplotlib import pyplot as plt\n",
    "%matplotlib inline\n"
   ]
  },
  {
   "cell_type": "code",
   "execution_count": 27,
   "id": "0e756d59-5de3-473e-b55a-95800f1cc3cf",
   "metadata": {},
   "outputs": [
    {
     "name": "stdout",
     "output_type": "stream",
     "text": [
      "--2024-11-02 09:27:11--  https://github.com/alexeygrigorev/datasets/raw/refs/heads/master/jamb_exam_results.csv\n",
      "Resolving github.com (github.com)... 140.82.114.4\n",
      "Connecting to github.com (github.com)|140.82.114.4|:443... connected.\n",
      "HTTP request sent, awaiting response... 302 Found\n",
      "Location: https://raw.githubusercontent.com/alexeygrigorev/datasets/refs/heads/master/jamb_exam_results.csv [following]\n",
      "--2024-11-02 09:27:12--  https://raw.githubusercontent.com/alexeygrigorev/datasets/refs/heads/master/jamb_exam_results.csv\n",
      "Resolving raw.githubusercontent.com (raw.githubusercontent.com)... 185.199.109.133, 185.199.110.133, 185.199.111.133, ...\n",
      "Connecting to raw.githubusercontent.com (raw.githubusercontent.com)|185.199.109.133|:443... connected.\n",
      "HTTP request sent, awaiting response... 200 OK\n",
      "Length: 391501 (382K) [text/plain]\n",
      "Saving to: ‘jamb_exam_results.csv.4’\n",
      "\n",
      "jamb_exam_results.c 100%[===================>] 382.33K  --.-KB/s    in 0.02s   \n",
      "\n",
      "2024-11-02 09:27:12 (17.1 MB/s) - ‘jamb_exam_results.csv.4’ saved [391501/391501]\n",
      "\n"
     ]
    }
   ],
   "source": [
    "!wget https://github.com/alexeygrigorev/datasets/raw/refs/heads/master/jamb_exam_results.csv"
   ]
  },
  {
   "cell_type": "code",
   "execution_count": 28,
   "id": "2e3c4074-791c-49f8-88b5-60aebb82358e",
   "metadata": {},
   "outputs": [],
   "source": [
    "df = pd.read_csv(\"jamb_exam_results.csv\")"
   ]
  },
  {
   "cell_type": "code",
   "execution_count": 29,
   "id": "baf7399f-673f-43ed-be10-b16205667142",
   "metadata": {},
   "outputs": [
    {
     "data": {
      "text/html": [
       "<div>\n",
       "<style scoped>\n",
       "    .dataframe tbody tr th:only-of-type {\n",
       "        vertical-align: middle;\n",
       "    }\n",
       "\n",
       "    .dataframe tbody tr th {\n",
       "        vertical-align: top;\n",
       "    }\n",
       "\n",
       "    .dataframe thead th {\n",
       "        text-align: right;\n",
       "    }\n",
       "</style>\n",
       "<table border=\"1\" class=\"dataframe\">\n",
       "  <thead>\n",
       "    <tr style=\"text-align: right;\">\n",
       "      <th></th>\n",
       "      <th>JAMB_Score</th>\n",
       "      <th>Study_Hours_Per_Week</th>\n",
       "      <th>Attendance_Rate</th>\n",
       "      <th>Teacher_Quality</th>\n",
       "      <th>Distance_To_School</th>\n",
       "      <th>School_Type</th>\n",
       "      <th>School_Location</th>\n",
       "      <th>Extra_Tutorials</th>\n",
       "      <th>Access_To_Learning_Materials</th>\n",
       "      <th>Parent_Involvement</th>\n",
       "      <th>IT_Knowledge</th>\n",
       "      <th>Student_ID</th>\n",
       "      <th>Age</th>\n",
       "      <th>Gender</th>\n",
       "      <th>Socioeconomic_Status</th>\n",
       "      <th>Parent_Education_Level</th>\n",
       "      <th>Assignments_Completed</th>\n",
       "    </tr>\n",
       "  </thead>\n",
       "  <tbody>\n",
       "    <tr>\n",
       "      <th>0</th>\n",
       "      <td>192</td>\n",
       "      <td>22</td>\n",
       "      <td>78</td>\n",
       "      <td>4</td>\n",
       "      <td>12.4</td>\n",
       "      <td>Public</td>\n",
       "      <td>Urban</td>\n",
       "      <td>Yes</td>\n",
       "      <td>Yes</td>\n",
       "      <td>High</td>\n",
       "      <td>Medium</td>\n",
       "      <td>1</td>\n",
       "      <td>17</td>\n",
       "      <td>Male</td>\n",
       "      <td>Low</td>\n",
       "      <td>Tertiary</td>\n",
       "      <td>2</td>\n",
       "    </tr>\n",
       "    <tr>\n",
       "      <th>1</th>\n",
       "      <td>207</td>\n",
       "      <td>14</td>\n",
       "      <td>88</td>\n",
       "      <td>4</td>\n",
       "      <td>2.7</td>\n",
       "      <td>Public</td>\n",
       "      <td>Rural</td>\n",
       "      <td>No</td>\n",
       "      <td>Yes</td>\n",
       "      <td>High</td>\n",
       "      <td>High</td>\n",
       "      <td>2</td>\n",
       "      <td>15</td>\n",
       "      <td>Male</td>\n",
       "      <td>High</td>\n",
       "      <td>NaN</td>\n",
       "      <td>1</td>\n",
       "    </tr>\n",
       "    <tr>\n",
       "      <th>2</th>\n",
       "      <td>182</td>\n",
       "      <td>29</td>\n",
       "      <td>87</td>\n",
       "      <td>2</td>\n",
       "      <td>9.6</td>\n",
       "      <td>Public</td>\n",
       "      <td>Rural</td>\n",
       "      <td>Yes</td>\n",
       "      <td>Yes</td>\n",
       "      <td>High</td>\n",
       "      <td>Medium</td>\n",
       "      <td>3</td>\n",
       "      <td>20</td>\n",
       "      <td>Female</td>\n",
       "      <td>High</td>\n",
       "      <td>Tertiary</td>\n",
       "      <td>2</td>\n",
       "    </tr>\n",
       "    <tr>\n",
       "      <th>3</th>\n",
       "      <td>210</td>\n",
       "      <td>29</td>\n",
       "      <td>99</td>\n",
       "      <td>2</td>\n",
       "      <td>2.6</td>\n",
       "      <td>Public</td>\n",
       "      <td>Urban</td>\n",
       "      <td>No</td>\n",
       "      <td>Yes</td>\n",
       "      <td>Medium</td>\n",
       "      <td>High</td>\n",
       "      <td>4</td>\n",
       "      <td>22</td>\n",
       "      <td>Female</td>\n",
       "      <td>Medium</td>\n",
       "      <td>Tertiary</td>\n",
       "      <td>1</td>\n",
       "    </tr>\n",
       "    <tr>\n",
       "      <th>4</th>\n",
       "      <td>199</td>\n",
       "      <td>12</td>\n",
       "      <td>98</td>\n",
       "      <td>3</td>\n",
       "      <td>8.8</td>\n",
       "      <td>Public</td>\n",
       "      <td>Urban</td>\n",
       "      <td>No</td>\n",
       "      <td>Yes</td>\n",
       "      <td>Medium</td>\n",
       "      <td>Medium</td>\n",
       "      <td>5</td>\n",
       "      <td>22</td>\n",
       "      <td>Female</td>\n",
       "      <td>Medium</td>\n",
       "      <td>Tertiary</td>\n",
       "      <td>1</td>\n",
       "    </tr>\n",
       "  </tbody>\n",
       "</table>\n",
       "</div>"
      ],
      "text/plain": [
       "   JAMB_Score  Study_Hours_Per_Week  Attendance_Rate  Teacher_Quality  \\\n",
       "0         192                    22               78                4   \n",
       "1         207                    14               88                4   \n",
       "2         182                    29               87                2   \n",
       "3         210                    29               99                2   \n",
       "4         199                    12               98                3   \n",
       "\n",
       "   Distance_To_School School_Type School_Location Extra_Tutorials  \\\n",
       "0                12.4      Public           Urban             Yes   \n",
       "1                 2.7      Public           Rural              No   \n",
       "2                 9.6      Public           Rural             Yes   \n",
       "3                 2.6      Public           Urban              No   \n",
       "4                 8.8      Public           Urban              No   \n",
       "\n",
       "  Access_To_Learning_Materials Parent_Involvement IT_Knowledge  Student_ID  \\\n",
       "0                          Yes               High       Medium           1   \n",
       "1                          Yes               High         High           2   \n",
       "2                          Yes               High       Medium           3   \n",
       "3                          Yes             Medium         High           4   \n",
       "4                          Yes             Medium       Medium           5   \n",
       "\n",
       "   Age  Gender Socioeconomic_Status Parent_Education_Level  \\\n",
       "0   17    Male                  Low               Tertiary   \n",
       "1   15    Male                 High                    NaN   \n",
       "2   20  Female                 High               Tertiary   \n",
       "3   22  Female               Medium               Tertiary   \n",
       "4   22  Female               Medium               Tertiary   \n",
       "\n",
       "   Assignments_Completed  \n",
       "0                      2  \n",
       "1                      1  \n",
       "2                      2  \n",
       "3                      1  \n",
       "4                      1  "
      ]
     },
     "execution_count": 29,
     "metadata": {},
     "output_type": "execute_result"
    }
   ],
   "source": [
    "df.head()"
   ]
  },
  {
   "cell_type": "code",
   "execution_count": 33,
   "id": "d89f7755-6f95-4fac-bee2-437852f14328",
   "metadata": {},
   "outputs": [],
   "source": [
    "df.columns = df.columns.str.lower().str.replace(\" \", \"_\")"
   ]
  },
  {
   "cell_type": "markdown",
   "id": "4f2e5a21-6484-4ab5-a4f8-47b155e74c1e",
   "metadata": {},
   "source": [
    "Preparation:\n",
    "\n",
    "Remove the student_id column.\n",
    "Fill missing values with zeros.\n",
    "Do train/validation/test split with 60%/20%/20% distribution.\n",
    "Use the train_test_split function and set the random_state parameter to 1.\n",
    "Use DictVectorizer(sparse=True) to turn the dataframes into matrices."
   ]
  },
  {
   "cell_type": "code",
   "execution_count": 34,
   "id": "87f048c6-f454-45cd-a46d-a4eecf12e0de",
   "metadata": {},
   "outputs": [
    {
     "data": {
      "text/plain": [
       "Index(['jamb_score', 'study_hours_per_week', 'attendance_rate',\n",
       "       'teacher_quality', 'distance_to_school', 'school_type',\n",
       "       'school_location', 'extra_tutorials', 'access_to_learning_materials',\n",
       "       'parent_involvement', 'it_knowledge', 'student_id', 'age', 'gender',\n",
       "       'socioeconomic_status', 'parent_education_level',\n",
       "       'assignments_completed'],\n",
       "      dtype='object')"
      ]
     },
     "execution_count": 34,
     "metadata": {},
     "output_type": "execute_result"
    }
   ],
   "source": [
    "df.columns"
   ]
  },
  {
   "cell_type": "code",
   "execution_count": 35,
   "id": "ab46b659-7d06-4239-8885-635b949cc0a6",
   "metadata": {},
   "outputs": [],
   "source": [
    "df = df.drop(columns=['student_id'])"
   ]
  },
  {
   "cell_type": "code",
   "execution_count": 36,
   "id": "42304454-3dc3-43e5-ac7b-402623760f86",
   "metadata": {},
   "outputs": [
    {
     "data": {
      "text/plain": [
       "jamb_score                        0\n",
       "study_hours_per_week              0\n",
       "attendance_rate                   0\n",
       "teacher_quality                   0\n",
       "distance_to_school                0\n",
       "school_type                       0\n",
       "school_location                   0\n",
       "extra_tutorials                   0\n",
       "access_to_learning_materials      0\n",
       "parent_involvement                0\n",
       "it_knowledge                      0\n",
       "age                               0\n",
       "gender                            0\n",
       "socioeconomic_status              0\n",
       "parent_education_level          891\n",
       "assignments_completed             0\n",
       "dtype: int64"
      ]
     },
     "execution_count": 36,
     "metadata": {},
     "output_type": "execute_result"
    }
   ],
   "source": [
    "df.isnull().sum()"
   ]
  },
  {
   "cell_type": "code",
   "execution_count": 37,
   "id": "8ebb4bd7-1b5f-4f0e-9178-7a158018791b",
   "metadata": {},
   "outputs": [],
   "source": [
    "df = df.fillna(0)"
   ]
  },
  {
   "cell_type": "code",
   "execution_count": 38,
   "id": "47d9732c-7d5a-4448-90be-f61fb1d11037",
   "metadata": {},
   "outputs": [
    {
     "data": {
      "text/plain": [
       "jamb_score                      0\n",
       "study_hours_per_week            0\n",
       "attendance_rate                 0\n",
       "teacher_quality                 0\n",
       "distance_to_school              0\n",
       "school_type                     0\n",
       "school_location                 0\n",
       "extra_tutorials                 0\n",
       "access_to_learning_materials    0\n",
       "parent_involvement              0\n",
       "it_knowledge                    0\n",
       "age                             0\n",
       "gender                          0\n",
       "socioeconomic_status            0\n",
       "parent_education_level          0\n",
       "assignments_completed           0\n",
       "dtype: int64"
      ]
     },
     "execution_count": 38,
     "metadata": {},
     "output_type": "execute_result"
    }
   ],
   "source": [
    "df.isnull().sum()"
   ]
  },
  {
   "cell_type": "code",
   "execution_count": 39,
   "id": "0c5db312-6d80-4c85-ba65-63b52bfc38ef",
   "metadata": {},
   "outputs": [],
   "source": [
    "from sklearn.model_selection import train_test_split\n",
    "#Do train/validation/test split with 60%/20%/20% distribution. Use the train_test_split function and set the random_state parameter to 1.\n",
    "X = df.drop(columns=['jamb_score'])\n",
    "y =df['jamb_score']\n",
    "X_train, X_temp, y_train,y_temp = train_test_split(X, y, test_size=0.4, random_state=1)\n",
    "X_val, X_test, y_val, y_test = train_test_split(X_temp, y_temp, test_size=0.5, random_state=1)\n",
    "\n",
    "#Use DictVectorizer(sparse=True) to turn the dataframes into matrices.\n",
    "from sklearn.feature_extraction import DictVectorizer\n",
    "dv = DictVectorizer(sparse=True)\n",
    "\n",
    "X_train_dict = X_train.to_dict(orient='records')\n",
    "X_val_dict = X_val.to_dict(orient='records')\n",
    "X_test_dict = X_test.to_dict(orient='records')\n",
    "\n",
    "X_train_matrix = dv.fit_transform(X_train_dict)\n",
    "\n",
    "X_val_matrix = dv.transform(X_val_dict)\n",
    "X_test_matrix = dv.transform(X_test_dict)\n"
   ]
  },
  {
   "cell_type": "raw",
   "id": "a3f766a3-25b7-492f-9da6-468db1c16f30",
   "metadata": {},
   "source": [
    "Question 1\n",
    "Let's train a decision tree regressor to predict the jamb_score variable.\n",
    "\n",
    "Train a model with max_depth=1.\n",
    "Which feature is used for splitting the data?\n",
    "\n",
    "study_hours_per_week\n",
    "attendance_rate\n",
    "teacher_quality\n",
    "distance_to_school"
   ]
  },
  {
   "cell_type": "code",
   "execution_count": 42,
   "id": "d741fa30-2d19-44f1-854f-02977ec32ef2",
   "metadata": {},
   "outputs": [
    {
     "data": {
      "text/plain": [
       "array([27, -2, -2], dtype=int64)"
      ]
     },
     "execution_count": 42,
     "metadata": {},
     "output_type": "execute_result"
    }
   ],
   "source": [
    "from sklearn.tree import DecisionTreeRegressor\n",
    "\n",
    "dt = DecisionTreeRegressor(max_depth=1, random_state=1)\n",
    "dt.fit(X_train_matrix,y_train)\n",
    "\n",
    "dt.tree_.feature\n",
    "#split_feature_index = dt.tree_.feature[0]\n",
    "#print(split_feature_index)"
   ]
  },
  {
   "cell_type": "code",
   "execution_count": 41,
   "id": "915140aa-6945-4a91-b57f-af3903c49709",
   "metadata": {},
   "outputs": [
    {
     "name": "stdout",
     "output_type": "stream",
     "text": [
      "study_hours_per_week\n"
     ]
    }
   ],
   "source": [
    "split_feature_name = dv.feature_names_[split_feature_index]\n",
    "print(split_feature_name)"
   ]
  },
  {
   "cell_type": "raw",
   "id": "07d17428-a10b-405d-b93a-502af8e765ae",
   "metadata": {},
   "source": [
    "Question 2\n",
    "Train a random forest model with these parameters:\n",
    "\n",
    "n_estimators=10\n",
    "random_state=1\n",
    "n_jobs=-1 (optional - to make training faster)\n",
    "What's the RMSE of this model on validation?\n",
    "\n",
    "22.13\n",
    "42.13\n",
    "62.13\n",
    "82.12"
   ]
  },
  {
   "cell_type": "code",
   "execution_count": 46,
   "id": "a6e4f1e6-fde7-4fe1-9d25-959db4a8035a",
   "metadata": {},
   "outputs": [
    {
     "name": "stdout",
     "output_type": "stream",
     "text": [
      "the value of RMSE on this model is 43.16\n"
     ]
    }
   ],
   "source": [
    "from sklearn.ensemble import RandomForestRegressor\n",
    "from sklearn.metrics import root_mean_squared_error\n",
    "from sklearn.metrics import mean_squared_error\n",
    "rf  = RandomForestRegressor(n_estimators=10, random_state=1, n_jobs=-1)\n",
    "\n",
    "rf.fit(X_train_matrix, y_train)\n",
    "\n",
    "y_val_pred = rf.predict(X_val_matrix)\n",
    "\n",
    "rmse = (root_mean_squared_error(y_val, y_val_pred))\n",
    "\n",
    "print(f\"the value of RMSE on this model is {rmse:.2f}\")\n"
   ]
  },
  {
   "cell_type": "raw",
   "id": "748564fd-33fd-4510-b73b-992311f0dcba",
   "metadata": {},
   "source": [
    "Question 3\n",
    "Now let's experiment with the n_estimators parameter\n",
    "\n",
    "Try different values of this parameter from 10 to 200 with step 10.\n",
    "Set random_state to 1.\n",
    "Evaluate the model on the validation dataset.\n",
    "After which value of n_estimators does RMSE stop improving? Consider 3 decimal places for calculating the answer.\n",
    "\n",
    "10\n",
    "25\n",
    "80\n",
    "200"
   ]
  },
  {
   "cell_type": "code",
   "execution_count": 49,
   "id": "178a5b45-1602-41ce-9d0a-c98001322d14",
   "metadata": {},
   "outputs": [
    {
     "name": "stdout",
     "output_type": "stream",
     "text": [
      " RMSE value is 43.157759 for estimator value of 10\n",
      " RMSE value is 41.790440 for estimator value of 20\n",
      " RMSE value is 41.555818 for estimator value of 30\n",
      " RMSE value is 41.075632 for estimator value of 40\n",
      " RMSE value is 40.957157 for estimator value of 50\n",
      " RMSE value is 40.773685 for estimator value of 60\n",
      " RMSE value is 40.587806 for estimator value of 70\n",
      " RMSE value is 40.502704 for estimator value of 80\n",
      " RMSE value is 40.434922 for estimator value of 90\n",
      " RMSE value is 40.364910 for estimator value of 100\n",
      " RMSE value is 40.347525 for estimator value of 110\n",
      " RMSE value is 40.301918 for estimator value of 120\n",
      " RMSE value is 40.285789 for estimator value of 130\n",
      " RMSE value is 40.263461 for estimator value of 140\n",
      " RMSE value is 40.254264 for estimator value of 150\n",
      " RMSE value is 40.199666 for estimator value of 160\n",
      " RMSE value is 40.187326 for estimator value of 170\n",
      " RMSE value is 40.135963 for estimator value of 180\n",
      " RMSE value is 40.152166 for estimator value of 190\n",
      " RMSE value is 40.138466 for estimator value of 200\n"
     ]
    }
   ],
   "source": [
    "from sklearn.ensemble import RandomForestRegressor\n",
    "from sklearn.metrics import root_mean_squared_error\n",
    "from sklearn.metrics import mean_squared_error\n",
    "\n",
    "\n",
    "rmse_dict = {}\n",
    "# loop for rmse values for n values ranging from 10 to 200 with step of 10\n",
    "for n in range(10,201,10):\n",
    "    rf  = RandomForestRegressor(n_estimators=n, random_state=1, n_jobs=-1)\n",
    "    rf.fit(X_train_matrix, y_train)\n",
    "    y_val_pred = rf.predict(X_val_matrix)\n",
    "    rmse = (root_mean_squared_error(y_val, y_val_pred))\n",
    "    rmse_dict[n] = rmse\n",
    "    print(f\" RMSE value is {rmse:.3f} for estimator value of {n}\")\n",
    "    \n",
    "last_rmse = None\n",
    "\n",
    "for n, rmse in rmse_dict.items():\n",
    "    rounded_rmse = round(rmse,3)\n",
    "    if last_rmse is not None and rounded_rmse==last_rmse:\n",
    "        print(f\"RMSE stops improving significantly after n_estimators={n}\")\n",
    "        break\n",
    "    last_rmse = rounded_rmse\n",
    "        \n",
    "    \n",
    "\n"
   ]
  },
  {
   "cell_type": "code",
   "execution_count": null,
   "id": "9155fc70-8b23-4a4a-a159-711c24095818",
   "metadata": {},
   "outputs": [],
   "source": [
    "\n",
    "\n"
   ]
  },
  {
   "cell_type": "code",
   "execution_count": null,
   "id": "a1920818-0146-4cd9-b607-adfa876b1c92",
   "metadata": {},
   "outputs": [],
   "source": []
  }
 ],
 "metadata": {
  "kernelspec": {
   "display_name": "Python 3 (ipykernel)",
   "language": "python",
   "name": "python3"
  },
  "language_info": {
   "codemirror_mode": {
    "name": "ipython",
    "version": 3
   },
   "file_extension": ".py",
   "mimetype": "text/x-python",
   "name": "python",
   "nbconvert_exporter": "python",
   "pygments_lexer": "ipython3",
   "version": "3.12.4"
  }
 },
 "nbformat": 4,
 "nbformat_minor": 5
}
