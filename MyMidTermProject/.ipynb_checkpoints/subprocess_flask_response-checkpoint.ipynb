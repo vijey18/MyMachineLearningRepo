{
 "cells": [
  {
   "cell_type": "code",
   "execution_count": 1,
   "id": "d4db4a9d-2fbd-486b-bc4a-114ff1b007a4",
   "metadata": {},
   "outputs": [
    {
     "name": "stdout",
     "output_type": "stream",
     "text": [
      "Curl Output: {\n",
      "  \"prediction\": 1,\n",
      "  \"probability\": [\n",
      "    0.018636345863342285,\n",
      "    0.9813636541366577\n",
      "  ]\n",
      "}\n",
      "\n",
      "Curl Error:   % Total    % Received % Xferd  Average Speed   Time    Time     Time  Current\n",
      "                                 Dload  Upload   Total   Spent    Left  Speed\n",
      "\n",
      "  0     0    0     0    0     0      0      0 --:--:-- --:--:-- --:--:--     0\n",
      "100   177  100    95  100    82  22694  19589 --:--:-- --:--:-- --:--:-- 44250\n",
      "\n"
     ]
    }
   ],
   "source": [
    "# post Running app.py in the console, instead of using curl in the command line, one can use python subprocess to get the same\n",
    "#curl output.\n",
    "\n",
    "import subprocess\n",
    "\n",
    "command = [\n",
    "    \"curl\",\n",
    "    \"-X\", \"POST\",\n",
    "    \"-H\", \"Content-Type: application/json\",\n",
    "    \"-d\", '{\"features\": [-3.970049,-2.512336,5.346330,-1.012009,1.844900,0.329840,-0.491590]}',\n",
    "    \"http://127.0.0.1:5000/predict\"\n",
    "]\n",
    "\n",
    "# Execute the command\n",
    "result = subprocess.run(command, capture_output=True, text=True)\n",
    "\n",
    "# Print the response\n",
    "print(\"Curl Output:\", result.stdout)\n",
    "print(\"Curl Error:\", result.stderr)\n"
   ]
  },
  {
   "cell_type": "code",
   "execution_count": null,
   "id": "f5c6f1ca-f6c0-4022-a4e3-b15b2159dd9c",
   "metadata": {},
   "outputs": [],
   "source": []
  }
 ],
 "metadata": {
  "kernelspec": {
   "display_name": "Python 3 (ipykernel)",
   "language": "python",
   "name": "python3"
  },
  "language_info": {
   "codemirror_mode": {
    "name": "ipython",
    "version": 3
   },
   "file_extension": ".py",
   "mimetype": "text/x-python",
   "name": "python",
   "nbconvert_exporter": "python",
   "pygments_lexer": "ipython3",
   "version": "3.12.4"
  }
 },
 "nbformat": 4,
 "nbformat_minor": 5
}
