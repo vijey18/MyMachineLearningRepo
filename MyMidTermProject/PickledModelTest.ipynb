{
 "cells": [
  {
   "cell_type": "code",
   "execution_count": 1,
   "id": "4d50df42-ebab-41dd-95cd-7fd9bfc427ea",
   "metadata": {},
   "outputs": [
    {
     "name": "stdout",
     "output_type": "stream",
     "text": [
      "Prediction: 1\n",
      "Probabilities: [0.01863635 0.98136365]\n"
     ]
    },
    {
     "name": "stderr",
     "output_type": "stream",
     "text": [
      "/home/ubuntu/anaconda3/lib/python3.12/site-packages/sklearn/base.py:493: UserWarning: X does not have valid feature names, but StandardScaler was fitted with feature names\n",
      "  warnings.warn(\n",
      "/home/ubuntu/anaconda3/lib/python3.12/site-packages/sklearn/base.py:493: UserWarning: X does not have valid feature names, but StandardScaler was fitted with feature names\n",
      "  warnings.warn(\n"
     ]
    }
   ],
   "source": [
    "# test the pickled model before flask integration\n",
    "\n",
    "import pickle\n",
    "import numpy as np\n",
    "\n",
    "# Load model\n",
    "with open(\"xgboost_apple_quality_model.pkl\", \"rb\") as f:\n",
    "    model = pickle.load(f)\n",
    "\n",
    "# Test sample input\n",
    "features = np.array([-3.970049,-2.512336,5.346330,-1.012009,1.844900,0.329840,-0.491590]).reshape(1, -1)\n",
    "prediction = model.predict(features)\n",
    "probability = model.predict_proba(features)\n",
    "\n",
    "print(\"Prediction:\", prediction[0])\n",
    "print(\"Probabilities:\", probability[0])"
   ]
  },
  {
   "cell_type": "code",
   "execution_count": null,
   "id": "a877cb13-444c-4388-a050-3c73008a1587",
   "metadata": {},
   "outputs": [],
   "source": []
  }
 ],
 "metadata": {
  "kernelspec": {
   "display_name": "Python 3 (ipykernel)",
   "language": "python",
   "name": "python3"
  },
  "language_info": {
   "codemirror_mode": {
    "name": "ipython",
    "version": 3
   },
   "file_extension": ".py",
   "mimetype": "text/x-python",
   "name": "python",
   "nbconvert_exporter": "python",
   "pygments_lexer": "ipython3",
   "version": "3.12.4"
  }
 },
 "nbformat": 4,
 "nbformat_minor": 5
}
