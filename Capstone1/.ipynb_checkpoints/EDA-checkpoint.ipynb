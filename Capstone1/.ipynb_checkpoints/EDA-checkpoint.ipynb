{
 "cells": [
  {
   "cell_type": "code",
   "execution_count": 26,
   "id": "c1a10716-dbfc-4fa1-a47d-a8bd37a05167",
   "metadata": {},
   "outputs": [
    {
     "data": {
      "text/plain": [
       "(1000, 13)"
      ]
     },
     "execution_count": 26,
     "metadata": {},
     "output_type": "execute_result"
    }
   ],
   "source": [
    "import pandas as pd\n",
    "import numpy as np\n",
    "from sklearn.model_selection import train_test_split\n",
    "\n",
    "data = pd.read_csv(\"GRAPE_QUALITY.csv\")\n",
    "data.head()\n",
    "data.shape"
   ]
  },
  {
   "cell_type": "code",
   "execution_count": 27,
   "id": "a36d03fe-4119-4a0d-b9f0-560ca5cd869b",
   "metadata": {},
   "outputs": [
    {
     "name": "stdout",
     "output_type": "stream",
     "text": [
      "<class 'pandas.core.frame.DataFrame'>\n",
      "RangeIndex: 1000 entries, 0 to 999\n",
      "Data columns (total 13 columns):\n",
      " #   Column                 Non-Null Count  Dtype  \n",
      "---  ------                 --------------  -----  \n",
      " 0   sample_id              1000 non-null   int64  \n",
      " 1   variety                1000 non-null   object \n",
      " 2   region                 1000 non-null   object \n",
      " 3   quality_score          1000 non-null   float64\n",
      " 4   quality_category       1000 non-null   object \n",
      " 5   sugar_content_brix     1000 non-null   float64\n",
      " 6   acidity_ph             1000 non-null   float64\n",
      " 7   cluster_weight_g       1000 non-null   float64\n",
      " 8   berry_size_mm          1000 non-null   float64\n",
      " 9   harvest_date           1000 non-null   object \n",
      " 10  sun_exposure_hours     1000 non-null   float64\n",
      " 11  soil_moisture_percent  1000 non-null   float64\n",
      " 12  rainfall_mm            1000 non-null   float64\n",
      "dtypes: float64(8), int64(1), object(4)\n",
      "memory usage: 101.7+ KB\n"
     ]
    }
   ],
   "source": [
    "data.info()"
   ]
  },
  {
   "cell_type": "code",
   "execution_count": 28,
   "id": "076d43b4-2ac8-4e66-8c2c-1ee50714b1f6",
   "metadata": {},
   "outputs": [],
   "source": [
    "data = data.drop('sample_id', axis = 1)\n",
    "X = data.drop('quality_category', axis = 1)\n",
    "y = data['quality_category']\n",
    "\n",
    "# split data into train/va/test in the ratio 60/20/20\n",
    "X_train, X_temp, y_train, y_temp = train_test_split(X,y,test_size=0.6,random_state=25)\n",
    "X_val, X_test, y_val, y_test = train_test_split(X_temp, y_temp, test_size=0.5, random_state=25)"
   ]
  },
  {
   "cell_type": "code",
   "execution_count": 29,
   "id": "f9e4fc86-dc07-4979-b283-c0fb00b0145b",
   "metadata": {},
   "outputs": [
    {
     "name": "stdout",
     "output_type": "stream",
     "text": [
      "Categorical Columns:  ['variety', 'region', 'harvest_date']\n",
      "Numerical Columns:  ['quality_score', 'sugar_content_brix', 'acidity_ph', 'cluster_weight_g', 'berry_size_mm', 'sun_exposure_hours', 'soil_moisture_percent', 'rainfall_mm']\n"
     ]
    }
   ],
   "source": [
    "#Data Preprocessing --split columns into categorical and numerical and then preprocess accordingly\n",
    "\n",
    "cat_column = [col for col in X_train.columns if X_train[col].dtype == 'object']\n",
    "num_column = [col for col in X_train.columns if X_train[col].dtype in ['int', 'float']]\n",
    "\n",
    "print('Categorical Columns: ', cat_column)\n",
    "print('Numerical Columns: ', num_column)\n"
   ]
  },
  {
   "cell_type": "code",
   "execution_count": 30,
   "id": "fdd79878-d293-49dd-aee7-62ea643e8be6",
   "metadata": {},
   "outputs": [
    {
     "data": {
      "text/plain": [
       "variety\n",
       "Pinot Noir            146\n",
       "Zinfandel             134\n",
       "Cabernet Sauvignon    133\n",
       "Sauvignon Blanc       125\n",
       "Riesling              119\n",
       "Chardonnay            117\n",
       "Merlot                113\n",
       "Syrah                 113\n",
       "Name: count, dtype: int64"
      ]
     },
     "execution_count": 30,
     "metadata": {},
     "output_type": "execute_result"
    }
   ],
   "source": [
    "data.variety.value_counts()"
   ]
  },
  {
   "cell_type": "code",
   "execution_count": 31,
   "id": "f1bd9786-daa5-4bc7-98c7-a5f6faa99b06",
   "metadata": {},
   "outputs": [
    {
     "data": {
      "text/plain": [
       "region\n",
       "Napa Valley       137\n",
       "Barossa Valley    136\n",
       "Bordeaux          133\n",
       "Mendoza           130\n",
       "Sonoma            127\n",
       "Loire Valley      126\n",
       "Rioja             107\n",
       "Tuscany           104\n",
       "Name: count, dtype: int64"
      ]
     },
     "execution_count": 31,
     "metadata": {},
     "output_type": "execute_result"
    }
   ],
   "source": [
    "data.region.value_counts()"
   ]
  },
  {
   "cell_type": "code",
   "execution_count": 32,
   "id": "e0c38530-cbc3-4b02-b171-d9301cbbddd3",
   "metadata": {},
   "outputs": [
    {
     "data": {
      "text/plain": [
       "harvest_date\n",
       "2023-08-20    29\n",
       "2023-09-04    28\n",
       "2023-09-11    25\n",
       "2023-09-03    24\n",
       "2023-08-16    23\n",
       "              ..\n",
       "2023-08-09    11\n",
       "2023-09-06    11\n",
       "2023-09-08    11\n",
       "2023-08-31     8\n",
       "2023-09-12     6\n",
       "Name: count, Length: 61, dtype: int64"
      ]
     },
     "execution_count": 32,
     "metadata": {},
     "output_type": "execute_result"
    }
   ],
   "source": [
    "data.harvest_date.value_counts()"
   ]
  },
  {
   "cell_type": "code",
   "execution_count": 45,
   "id": "913fb4c7-5a99-4eb6-a4db-a2de3c64fef1",
   "metadata": {},
   "outputs": [
    {
     "data": {
      "text/plain": [
       "quality_category\n",
       "Medium     477\n",
       "High       468\n",
       "Premium     29\n",
       "Low         26\n",
       "Name: count, dtype: int64"
      ]
     },
     "execution_count": 45,
     "metadata": {},
     "output_type": "execute_result"
    }
   ],
   "source": [
    "data.quality_category.value_counts()"
   ]
  },
  {
   "cell_type": "code",
   "execution_count": 46,
   "id": "fa037590-5ef6-4b5d-8649-99fd11368108",
   "metadata": {},
   "outputs": [
    {
     "data": {
      "image/png": "[encoded data removed]",
      "text/plain": [
       "<Figure size 800x800 with 1 Axes>"
      ]
     },
     "metadata": {},
     "output_type": "display_data"
    }
   ],
   "source": [
    "import matplotlib.pyplot as plt\n",
    "\n",
    "# Data\n",
    "quality_category_counts = {\n",
    "    'Medium': 477,\n",
    "    'High': 468,\n",
    "    'Premium': 29,\n",
    "    'Low': 26\n",
    "}\n",
    "\n",
    "# Labels and values\n",
    "labels = quality_category_counts.keys()\n",
    "values = quality_category_counts.values()\n",
    "\n",
    "# Pie chart\n",
    "plt.figure(figsize=(8, 8))\n",
    "plt.pie(\n",
    "    values, \n",
    "    labels=labels, \n",
    "    autopct='%1.1f%%', \n",
    "    startangle=140, \n",
    "    colors=['#ff9999','#66b3ff','#99ff99','#ffcc99']\n",
    ")\n",
    "plt.title('Distribution of Quality Categories')\n",
    "plt.show()\n"
   ]
  },
  {
   "cell_type": "code",
   "execution_count": 47,
   "id": "d4aaf096-292d-4e75-b9fb-1de4f9a88ba7",
   "metadata": {},
   "outputs": [
    {
     "data": {
      "text/plain": [
       "variety\n",
       "Pinot Noir            146\n",
       "Zinfandel             134\n",
       "Cabernet Sauvignon    133\n",
       "Sauvignon Blanc       125\n",
       "Riesling              119\n",
       "Chardonnay            117\n",
       "Merlot                113\n",
       "Syrah                 113\n",
       "Name: count, dtype: int64"
      ]
     },
     "execution_count": 47,
     "metadata": {},
     "output_type": "execute_result"
    }
   ],
   "source": [
    "data.variety.value_counts()"
   ]
  },
  {
   "cell_type": "code",
   "execution_count": 50,
   "id": "3bc9c0fa-4bfc-4ae5-9f43-4c4b714d69c3",
   "metadata": {},
   "outputs": [
    {
     "data": {
      "image/png": "[encoded data removed]",
      "text/plain": [
       "<Figure size 1000x600 with 1 Axes>"
      ]
     },
     "metadata": {},
     "output_type": "display_data"
    }
   ],
   "source": [
    "import matplotlib.pyplot as plt\n",
    "\n",
    "# Data\n",
    "variety_counts = {\n",
    "    'Pinot Noir': 146,\n",
    "    'Zinfandel': 134,\n",
    "    'Cabernet Sauvignon': 133,\n",
    "    'Sauvignon Blanc': 125,\n",
    "    'Riesling': 119,\n",
    "    'Chardonnay': 117,\n",
    "    'Merlot': 113,\n",
    "    'Syrah': 113\n",
    "}\n",
    "\n",
    "# Extract labels and values\n",
    "varieties = list(variety_counts.keys())\n",
    "counts = list(variety_counts.values())\n",
    "\n",
    "colors = ['#ff9999', '#66b3ff', '#99ff99', '#ffcc99', '#c2c2f0', '#ffb3e6', '#c2f0c2', '#ff6666']\n",
    "# Bar chart\n",
    "plt.figure(figsize=(10, 6))\n",
    "plt.barh(varieties, counts, color=colors)\n",
    "plt.xlabel('Count')\n",
    "plt.ylabel('Variety')\n",
    "plt.title('Distribution of Grape Varieties')\n",
    "plt.gca().invert_yaxis()  # Invert y-axis to show the largest count on top\n",
    "plt.tight_layout()\n",
    "plt.show()\n"
   ]
  },
  {
   "cell_type": "code",
   "execution_count": 53,
   "id": "9d6da5fb-995f-4179-bda9-12eca3f54fda",
   "metadata": {},
   "outputs": [
    {
     "data": {
      "application/vnd.plotly.v1+json": {
       "config": {
        "plotlyServerURL": "https://plot.ly"
       },
       "data": [
        {
         "alignmentgroup": "True",
         "hovertemplate": "x=%{x}<br>y=%{y}<extra></extra>",
         "legendgroup": "",
         "marker": {
          "color": [
           "red",
           "turquoise",
           "seashell",
           "chocolate",
           "mintcream",
           "green",
           "purple",
           "yellow"
          ],
          "line": {
           "color": "darkslategray",
           "width": 2
          },
          "pattern": {
           "shape": ""
          }
         },
         "name": "",
         "offsetgroup": "",
         "orientation": "v",
         "showlegend": false,
         "textposition": "auto",
         "texttemplate": "%{y}",
         "type": "bar",
         "x": [
          "Napa Valley",
          "Barossa Valley",
          "Bordeaux",
          "Mendoza",
          "Sonoma",
          "Loire Valley",
          "Rioja",
          "Tuscany"
         ],
         "xaxis": "x",
         "y": [
          137,
          136,
          133,
          130,
          127,
          126,
          107,
          104
         ],
         "yaxis": "y"
        }
       ],
       "layout": {
        "barmode": "relative",
        "font": {
         "color": "teal"
        },
        "legend": {
         "tracegroupgap": 0
        },
        "template": {
         "data": {
          "bar": [
           {
            "error_x": {
             "color": "#2a3f5f"
            },
            "error_y": {
             "color": "#2a3f5f"
            },
            "marker": {
             "line": {
              "color": "#E5ECF6",
              "width": 0.5
             },
             "pattern": {
              "fillmode": "overlay",
              "size": 10,
              "solidity": 0.2
             }
            },
            "type": "bar"
           }
          ],
          "barpolar": [
           {
            "marker": {
             "line": {
              "color": "#E5ECF6",
              "width": 0.5
             },
             "pattern": {
              "fillmode": "overlay",
              "size": 10,
              "solidity": 0.2
             }
            },
            "type": "barpolar"
           }
          ],
          "carpet": [
           {
            "aaxis": {
             "endlinecolor": "#2a3f5f",
             "gridcolor": "white",
             "linecolor": "white",
             "minorgridcolor": "white",
             "startlinecolor": "#2a3f5f"
            },
            "baxis": {
             "endlinecolor": "#2a3f5f",
             "gridcolor": "white",
             "linecolor": "white",
             "minorgridcolor": "white",
             "startlinecolor": "#2a3f5f"
            },
            "type": "carpet"
           }
          ],
          "choropleth": [
           {
            "colorbar": {
             "outlinewidth": 0,
             "ticks": ""
            },
            "type": "choropleth"
           }
          ],
          "contour": [
           {
            "colorbar": {
             "outlinewidth": 0,
             "ticks": ""
            },
            "colorscale": [
             [
              0,
              "#0d0887"
             ],
             [
              0.1111111111111111,
              "#46039f"
             ],
             [
              0.2222222222222222,
              "#7201a8"
             ],
             [
              0.3333333333333333,
              "#9c179e"
             ],
             [
              0.4444444444444444,
              "#bd3786"
             ],
             [
              0.5555555555555556,
              "#d8576b"
             ],
             [
              0.6666666666666666,
              "#ed7953"
             ],
             [
              0.7777777777777778,
              "#fb9f3a"
             ],
             [
              0.8888888888888888,
              "#fdca26"
             ],
             [
              1,
              "#f0f921"
             ]
            ],
            "type": "contour"
           }
          ],
          "contourcarpet": [
           {
            "colorbar": {
             "outlinewidth": 0,
             "ticks": ""
            },
            "type": "contourcarpet"
           }
          ],
          "heatmap": [
           {
            "colorbar": {
             "outlinewidth": 0,
             "ticks": ""
            },
            "colorscale": [
             [
              0,
              "#0d0887"
             ],
             [
              0.1111111111111111,
              "#46039f"
             ],
             [
              0.2222222222222222,
              "#7201a8"
             ],
             [
              0.3333333333333333,
              "#9c179e"
             ],
             [
              0.4444444444444444,
              "#bd3786"
             ],
             [
              0.5555555555555556,
              "#d8576b"
             ],
             [
              0.6666666666666666,
              "#ed7953"
             ],
             [
              0.7777777777777778,
              "#fb9f3a"
             ],
             [
              0.8888888888888888,
              "#fdca26"
             ],
             [
              1,
              "#f0f921"
             ]
            ],
            "type": "heatmap"
           }
          ],
          "heatmapgl": [
           {
            "colorbar": {
             "outlinewidth": 0,
             "ticks": ""
            },
            "colorscale": [
             [
              0,
              "#0d0887"
             ],
             [
              0.1111111111111111,
              "#46039f"
             ],
             [
              0.2222222222222222,
              "#7201a8"
             ],
             [
              0.3333333333333333,
              "#9c179e"
             ],
             [
              0.4444444444444444,
              "#bd3786"
             ],
             [
              0.5555555555555556,
              "#d8576b"
             ],
             [
              0.6666666666666666,
              "#ed7953"
             ],
             [
              0.7777777777777778,
              "#fb9f3a"
             ],
             [
              0.8888888888888888,
              "#fdca26"
             ],
             [
              1,
              "#f0f921"
             ]
            ],
            "type": "heatmapgl"
           }
          ],
          "histogram": [
           {
            "marker": {
             "pattern": {
              "fillmode": "overlay",
              "size": 10,
              "solidity": 0.2
             }
            },
            "type": "histogram"
           }
          ],
          "histogram2d": [
           {
            "colorbar": {
             "outlinewidth": 0,
             "ticks": ""
            },
            "colorscale": [
             [
              0,
              "#0d0887"
             ],
             [
              0.1111111111111111,
              "#46039f"
             ],
             [
              0.2222222222222222,
              "#7201a8"
             ],
             [
              0.3333333333333333,
              "#9c179e"
             ],
             [
              0.4444444444444444,
              "#bd3786"
             ],
             [
              0.5555555555555556,
              "#d8576b"
             ],
             [
              0.6666666666666666,
              "#ed7953"
             ],
             [
              0.7777777777777778,
              "#fb9f3a"
             ],
             [
              0.8888888888888888,
              "#fdca26"
             ],
             [
              1,
              "#f0f921"
             ]
            ],
            "type": "histogram2d"
           }
          ],
          "histogram2dcontour": [
           {
            "colorbar": {
             "outlinewidth": 0,
             "ticks": ""
            },
            "colorscale": [
             [
              0,
              "#0d0887"
             ],
             [
              0.1111111111111111,
              "#46039f"
             ],
             [
              0.2222222222222222,
              "#7201a8"
             ],
             [
              0.3333333333333333,
              "#9c179e"
             ],
             [
              0.4444444444444444,
              "#bd3786"
             ],
             [
              0.5555555555555556,
              "#d8576b"
             ],
             [
              0.6666666666666666,
              "#ed7953"
             ],
             [
              0.7777777777777778,
              "#fb9f3a"
             ],
             [
              0.8888888888888888,
              "#fdca26"
             ],
             [
              1,
              "#f0f921"
             ]
            ],
            "type": "histogram2dcontour"
           }
          ],
          "mesh3d": [
           {
            "colorbar": {
             "outlinewidth": 0,
             "ticks": ""
            },
            "type": "mesh3d"
           }
          ],
          "parcoords": [
           {
            "line": {
             "colorbar": {
              "outlinewidth": 0,
              "ticks": ""
             }
            },
            "type": "parcoords"
           }
          ],
          "pie": [
           {
            "automargin": true,
            "type": "pie"
           }
          ],
          "scatter": [
           {
            "fillpattern": {
             "fillmode": "overlay",
             "size": 10,
             "solidity": 0.2
            },
            "type": "scatter"
           }
          ],
          "scatter3d": [
           {
            "line": {
             "colorbar": {
              "outlinewidth": 0,
              "ticks": ""
             }
            },
            "marker": {
             "colorbar": {
              "outlinewidth": 0,
              "ticks": ""
             }
            },
            "type": "scatter3d"
           }
          ],
          "scattercarpet": [
           {
            "marker": {
             "colorbar": {
              "outlinewidth": 0,
              "ticks": ""
             }
            },
            "type": "scattercarpet"
           }
          ],
          "scattergeo": [
           {
            "marker": {
             "colorbar": {
              "outlinewidth": 0,
              "ticks": ""
             }
            },
            "type": "scattergeo"
           }
          ],
          "scattergl": [
           {
            "marker": {
             "colorbar": {
              "outlinewidth": 0,
              "ticks": ""
             }
            },
            "type": "scattergl"
           }
          ],
          "scattermapbox": [
           {
            "marker": {
             "colorbar": {
              "outlinewidth": 0,
              "ticks": ""
             }
            },
            "type": "scattermapbox"
           }
          ],
          "scatterpolar": [
           {
            "marker": {
             "colorbar": {
              "outlinewidth": 0,
              "ticks": ""
             }
            },
            "type": "scatterpolar"
           }
          ],
          "scatterpolargl": [
           {
            "marker": {
             "colorbar": {
              "outlinewidth": 0,
              "ticks": ""
             }
            },
            "type": "scatterpolargl"
           }
          ],
          "scatterternary": [
           {
            "marker": {
             "colorbar": {
              "outlinewidth": 0,
              "ticks": ""
             }
            },
            "type": "scatterternary"
           }
          ],
          "surface": [
           {
            "colorbar": {
             "outlinewidth": 0,
             "ticks": ""
            },
            "colorscale": [
             [
              0,
              "#0d0887"
             ],
             [
              0.1111111111111111,
              "#46039f"
             ],
             [
              0.2222222222222222,
              "#7201a8"
             ],
             [
              0.3333333333333333,
              "#9c179e"
             ],
             [
              0.4444444444444444,
              "#bd3786"
             ],
             [
              0.5555555555555556,
              "#d8576b"
             ],
             [
              0.6666666666666666,
              "#ed7953"
             ],
             [
              0.7777777777777778,
              "#fb9f3a"
             ],
             [
              0.8888888888888888,
              "#fdca26"
             ],
             [
              1,
              "#f0f921"
             ]
            ],
            "type": "surface"
           }
          ],
          "table": [
           {
            "cells": {
             "fill": {
              "color": "#EBF0F8"
             },
             "line": {
              "color": "white"
             }
            },
            "header": {
             "fill": {
              "color": "#C8D4E3"
             },
             "line": {
              "color": "white"
             }
            },
            "type": "table"
           }
          ]
         },
         "layout": {
          "annotationdefaults": {
           "arrowcolor": "#2a3f5f",
           "arrowhead": 0,
           "arrowwidth": 1
          },
          "autotypenumbers": "strict",
          "coloraxis": {
           "colorbar": {
            "outlinewidth": 0,
            "ticks": ""
           }
          },
          "colorscale": {
           "diverging": [
            [
             0,
             "#8e0152"
            ],
            [
             0.1,
             "#c51b7d"
            ],
            [
             0.2,
             "#de77ae"
            ],
            [
             0.3,
             "#f1b6da"
            ],
            [
             0.4,
             "#fde0ef"
            ],
            [
             0.5,
             "#f7f7f7"
            ],
            [
             0.6,
             "#e6f5d0"
            ],
            [
             0.7,
             "#b8e186"
            ],
            [
             0.8,
             "#7fbc41"
            ],
            [
             0.9,
             "#4d9221"
            ],
            [
             1,
             "#276419"
            ]
           ],
           "sequential": [
            [
             0,
             "#0d0887"
            ],
            [
             0.1111111111111111,
             "#46039f"
            ],
            [
             0.2222222222222222,
             "#7201a8"
            ],
            [
             0.3333333333333333,
             "#9c179e"
            ],
            [
             0.4444444444444444,
             "#bd3786"
            ],
            [
             0.5555555555555556,
             "#d8576b"
            ],
            [
             0.6666666666666666,
             "#ed7953"
            ],
            [
             0.7777777777777778,
             "#fb9f3a"
            ],
            [
             0.8888888888888888,
             "#fdca26"
            ],
            [
             1,
             "#f0f921"
            ]
           ],
           "sequentialminus": [
            [
             0,
             "#0d0887"
            ],
            [
             0.1111111111111111,
             "#46039f"
            ],
            [
             0.2222222222222222,
             "#7201a8"
            ],
            [
             0.3333333333333333,
             "#9c179e"
            ],
            [
             0.4444444444444444,
             "#bd3786"
            ],
            [
             0.5555555555555556,
             "#d8576b"
            ],
            [
             0.6666666666666666,
             "#ed7953"
            ],
            [
             0.7777777777777778,
             "#fb9f3a"
            ],
            [
             0.8888888888888888,
             "#fdca26"
            ],
            [
             1,
             "#f0f921"
            ]
           ]
          },
          "colorway": [
           "#636efa",
           "#EF553B",
           "#00cc96",
           "#ab63fa",
           "#FFA15A",
           "#19d3f3",
           "#FF6692",
           "#B6E880",
           "#FF97FF",
           "#FECB52"
          ],
          "font": {
           "color": "#2a3f5f"
          },
          "geo": {
           "bgcolor": "white",
           "lakecolor": "white",
           "landcolor": "#E5ECF6",
           "showlakes": true,
           "showland": true,
           "subunitcolor": "white"
          },
          "hoverlabel": {
           "align": "left"
          },
          "hovermode": "closest",
          "mapbox": {
           "style": "light"
          },
          "paper_bgcolor": "white",
          "plot_bgcolor": "#E5ECF6",
          "polar": {
           "angularaxis": {
            "gridcolor": "white",
            "linecolor": "white",
            "ticks": ""
           },
           "bgcolor": "#E5ECF6",
           "radialaxis": {
            "gridcolor": "white",
            "linecolor": "white",
            "ticks": ""
           }
          },
          "scene": {
           "xaxis": {
            "backgroundcolor": "#E5ECF6",
            "gridcolor": "white",
            "gridwidth": 2,
            "linecolor": "white",
            "showbackground": true,
            "ticks": "",
            "zerolinecolor": "white"
           },
           "yaxis": {
            "backgroundcolor": "#E5ECF6",
            "gridcolor": "white",
            "gridwidth": 2,
            "linecolor": "white",
            "showbackground": true,
            "ticks": "",
            "zerolinecolor": "white"
           },
           "zaxis": {
            "backgroundcolor": "#E5ECF6",
            "gridcolor": "white",
            "gridwidth": 2,
            "linecolor": "white",
            "showbackground": true,
            "ticks": "",
            "zerolinecolor": "white"
           }
          },
          "shapedefaults": {
           "line": {
            "color": "#2a3f5f"
           }
          },
          "ternary": {
           "aaxis": {
            "gridcolor": "white",
            "linecolor": "white",
            "ticks": ""
           },
           "baxis": {
            "gridcolor": "white",
            "linecolor": "white",
            "ticks": ""
           },
           "bgcolor": "#E5ECF6",
           "caxis": {
            "gridcolor": "white",
            "linecolor": "white",
            "ticks": ""
           }
          },
          "title": {
           "x": 0.05
          },
          "xaxis": {
           "automargin": true,
           "gridcolor": "white",
           "linecolor": "white",
           "ticks": "",
           "title": {
            "standoff": 15
           },
           "zerolinecolor": "white",
           "zerolinewidth": 2
          },
          "yaxis": {
           "automargin": true,
           "gridcolor": "white",
           "linecolor": "white",
           "ticks": "",
           "title": {
            "standoff": 15
           },
           "zerolinecolor": "white",
           "zerolinewidth": 2
          }
         }
        },
        "title": {
         "font": {
          "color": "coral"
         },
         "text": "Count Of Grapes Producing Region",
         "x": 0.5,
         "xanchor": "center",
         "y": 0.9,
         "yanchor": "top"
        },
        "xaxis": {
         "anchor": "y",
         "domain": [
          0,
          1
         ],
         "title": {
          "text": "Region"
         }
        },
        "yaxis": {
         "anchor": "x",
         "domain": [
          0,
          1
         ],
         "title": {
          "text": "Count"
         }
        }
       }
      },
      "image/png": "[encoded data removed]",
      "text/html": [
       "<div>                            <div id=\"702e0181-2a3c-43cb-82f3-caad6dcaa938\" class=\"plotly-graph-div\" style=\"height:525px; width:100%;\"></div>            <script type=\"text/javascript\">                require([\"plotly\"], function(Plotly) {                    window.PLOTLYENV=window.PLOTLYENV || {};                                    if (document.getElementById(\"702e0181-2a3c-43cb-82f3-caad6dcaa938\")) {                    Plotly.newPlot(                        \"702e0181-2a3c-43cb-82f3-caad6dcaa938\",                        [{\"alignmentgroup\":\"True\",\"hovertemplate\":\"x=%{x}\\u003cbr\\u003ey=%{y}\\u003cextra\\u003e\\u003c\\u002fextra\\u003e\",\"legendgroup\":\"\",\"marker\":{\"color\":[\"red\",\"turquoise\",\"seashell\",\"chocolate\",\"mintcream\",\"green\",\"purple\",\"yellow\"],\"pattern\":{\"shape\":\"\"},\"line\":{\"color\":\"darkslategray\",\"width\":2}},\"name\":\"\",\"offsetgroup\":\"\",\"orientation\":\"v\",\"showlegend\":false,\"textposition\":\"auto\",\"texttemplate\":\"%{y}\",\"x\":[\"Napa Valley\",\"Barossa Valley\",\"Bordeaux\",\"Mendoza\",\"Sonoma\",\"Loire Valley\",\"Rioja\",\"Tuscany\"],\"xaxis\":\"x\",\"y\":[137,136,133,130,127,126,107,104],\"yaxis\":\"y\",\"type\":\"bar\"}],                        {\"template\":{\"data\":{\"histogram2dcontour\":[{\"type\":\"histogram2dcontour\",\"colorbar\":{\"outlinewidth\":0,\"ticks\":\"\"},\"colorscale\":[[0.0,\"#0d0887\"],[0.1111111111111111,\"#46039f\"],[0.2222222222222222,\"#7201a8\"],[0.3333333333333333,\"#9c179e\"],[0.4444444444444444,\"#bd3786\"],[0.5555555555555556,\"#d8576b\"],[0.6666666666666666,\"#ed7953\"],[0.7777777777777778,\"#fb9f3a\"],[0.8888888888888888,\"#fdca26\"],[1.0,\"#f0f921\"]]}],\"choropleth\":[{\"type\":\"choropleth\",\"colorbar\":{\"outlinewidth\":0,\"ticks\":\"\"}}],\"histogram2d\":[{\"type\":\"histogram2d\",\"colorbar\":{\"outlinewidth\":0,\"ticks\":\"\"},\"colorscale\":[[0.0,\"#0d0887\"],[0.1111111111111111,\"#46039f\"],[0.2222222222222222,\"#7201a8\"],[0.3333333333333333,\"#9c179e\"],[0.4444444444444444,\"#bd3786\"],[0.5555555555555556,\"#d8576b\"],[0.6666666666666666,\"#ed7953\"],[0.7777777777777778,\"#fb9f3a\"],[0.8888888888888888,\"#fdca26\"],[1.0,\"#f0f921\"]]}],\"heatmap\":[{\"type\":\"heatmap\",\"colorbar\":{\"outlinewidth\":0,\"ticks\":\"\"},\"colorscale\":[[0.0,\"#0d0887\"],[0.1111111111111111,\"#46039f\"],[0.2222222222222222,\"#7201a8\"],[0.3333333333333333,\"#9c179e\"],[0.4444444444444444,\"#bd3786\"],[0.5555555555555556,\"#d8576b\"],[0.6666666666666666,\"#ed7953\"],[0.7777777777777778,\"#fb9f3a\"],[0.8888888888888888,\"#fdca26\"],[1.0,\"#f0f921\"]]}],\"heatmapgl\":[{\"type\":\"heatmapgl\",\"colorbar\":{\"outlinewidth\":0,\"ticks\":\"\"},\"colorscale\":[[0.0,\"#0d0887\"],[0.1111111111111111,\"#46039f\"],[0.2222222222222222,\"#7201a8\"],[0.3333333333333333,\"#9c179e\"],[0.4444444444444444,\"#bd3786\"],[0.5555555555555556,\"#d8576b\"],[0.6666666666666666,\"#ed7953\"],[0.7777777777777778,\"#fb9f3a\"],[0.8888888888888888,\"#fdca26\"],[1.0,\"#f0f921\"]]}],\"contourcarpet\":[{\"type\":\"contourcarpet\",\"colorbar\":{\"outlinewidth\":0,\"ticks\":\"\"}}],\"contour\":[{\"type\":\"contour\",\"colorbar\":{\"outlinewidth\":0,\"ticks\":\"\"},\"colorscale\":[[0.0,\"#0d0887\"],[0.1111111111111111,\"#46039f\"],[0.2222222222222222,\"#7201a8\"],[0.3333333333333333,\"#9c179e\"],[0.4444444444444444,\"#bd3786\"],[0.5555555555555556,\"#d8576b\"],[0.6666666666666666,\"#ed7953\"],[0.7777777777777778,\"#fb9f3a\"],[0.8888888888888888,\"#fdca26\"],[1.0,\"#f0f921\"]]}],\"surface\":[{\"type\":\"surface\",\"colorbar\":{\"outlinewidth\":0,\"ticks\":\"\"},\"colorscale\":[[0.0,\"#0d0887\"],[0.1111111111111111,\"#46039f\"],[0.2222222222222222,\"#7201a8\"],[0.3333333333333333,\"#9c179e\"],[0.4444444444444444,\"#bd3786\"],[0.5555555555555556,\"#d8576b\"],[0.6666666666666666,\"#ed7953\"],[0.7777777777777778,\"#fb9f3a\"],[0.8888888888888888,\"#fdca26\"],[1.0,\"#f0f921\"]]}],\"mesh3d\":[{\"type\":\"mesh3d\",\"colorbar\":{\"outlinewidth\":0,\"ticks\":\"\"}}],\"scatter\":[{\"fillpattern\":{\"fillmode\":\"overlay\",\"size\":10,\"solidity\":0.2},\"type\":\"scatter\"}],\"parcoords\":[{\"type\":\"parcoords\",\"line\":{\"colorbar\":{\"outlinewidth\":0,\"ticks\":\"\"}}}],\"scatterpolargl\":[{\"type\":\"scatterpolargl\",\"marker\":{\"colorbar\":{\"outlinewidth\":0,\"ticks\":\"\"}}}],\"bar\":[{\"error_x\":{\"color\":\"#2a3f5f\"},\"error_y\":{\"color\":\"#2a3f5f\"},\"marker\":{\"line\":{\"color\":\"#E5ECF6\",\"width\":0.5},\"pattern\":{\"fillmode\":\"overlay\",\"size\":10,\"solidity\":0.2}},\"type\":\"bar\"}],\"scattergeo\":[{\"type\":\"scattergeo\",\"marker\":{\"colorbar\":{\"outlinewidth\":0,\"ticks\":\"\"}}}],\"scatterpolar\":[{\"type\":\"scatterpolar\",\"marker\":{\"colorbar\":{\"outlinewidth\":0,\"ticks\":\"\"}}}],\"histogram\":[{\"marker\":{\"pattern\":{\"fillmode\":\"overlay\",\"size\":10,\"solidity\":0.2}},\"type\":\"histogram\"}],\"scattergl\":[{\"type\":\"scattergl\",\"marker\":{\"colorbar\":{\"outlinewidth\":0,\"ticks\":\"\"}}}],\"scatter3d\":[{\"type\":\"scatter3d\",\"line\":{\"colorbar\":{\"outlinewidth\":0,\"ticks\":\"\"}},\"marker\":{\"colorbar\":{\"outlinewidth\":0,\"ticks\":\"\"}}}],\"scattermapbox\":[{\"type\":\"scattermapbox\",\"marker\":{\"colorbar\":{\"outlinewidth\":0,\"ticks\":\"\"}}}],\"scatterternary\":[{\"type\":\"scatterternary\",\"marker\":{\"colorbar\":{\"outlinewidth\":0,\"ticks\":\"\"}}}],\"scattercarpet\":[{\"type\":\"scattercarpet\",\"marker\":{\"colorbar\":{\"outlinewidth\":0,\"ticks\":\"\"}}}],\"carpet\":[{\"aaxis\":{\"endlinecolor\":\"#2a3f5f\",\"gridcolor\":\"white\",\"linecolor\":\"white\",\"minorgridcolor\":\"white\",\"startlinecolor\":\"#2a3f5f\"},\"baxis\":{\"endlinecolor\":\"#2a3f5f\",\"gridcolor\":\"white\",\"linecolor\":\"white\",\"minorgridcolor\":\"white\",\"startlinecolor\":\"#2a3f5f\"},\"type\":\"carpet\"}],\"table\":[{\"cells\":{\"fill\":{\"color\":\"#EBF0F8\"},\"line\":{\"color\":\"white\"}},\"header\":{\"fill\":{\"color\":\"#C8D4E3\"},\"line\":{\"color\":\"white\"}},\"type\":\"table\"}],\"barpolar\":[{\"marker\":{\"line\":{\"color\":\"#E5ECF6\",\"width\":0.5},\"pattern\":{\"fillmode\":\"overlay\",\"size\":10,\"solidity\":0.2}},\"type\":\"barpolar\"}],\"pie\":[{\"automargin\":true,\"type\":\"pie\"}]},\"layout\":{\"autotypenumbers\":\"strict\",\"colorway\":[\"#636efa\",\"#EF553B\",\"#00cc96\",\"#ab63fa\",\"#FFA15A\",\"#19d3f3\",\"#FF6692\",\"#B6E880\",\"#FF97FF\",\"#FECB52\"],\"font\":{\"color\":\"#2a3f5f\"},\"hovermode\":\"closest\",\"hoverlabel\":{\"align\":\"left\"},\"paper_bgcolor\":\"white\",\"plot_bgcolor\":\"#E5ECF6\",\"polar\":{\"bgcolor\":\"#E5ECF6\",\"angularaxis\":{\"gridcolor\":\"white\",\"linecolor\":\"white\",\"ticks\":\"\"},\"radialaxis\":{\"gridcolor\":\"white\",\"linecolor\":\"white\",\"ticks\":\"\"}},\"ternary\":{\"bgcolor\":\"#E5ECF6\",\"aaxis\":{\"gridcolor\":\"white\",\"linecolor\":\"white\",\"ticks\":\"\"},\"baxis\":{\"gridcolor\":\"white\",\"linecolor\":\"white\",\"ticks\":\"\"},\"caxis\":{\"gridcolor\":\"white\",\"linecolor\":\"white\",\"ticks\":\"\"}},\"coloraxis\":{\"colorbar\":{\"outlinewidth\":0,\"ticks\":\"\"}},\"colorscale\":{\"sequential\":[[0.0,\"#0d0887\"],[0.1111111111111111,\"#46039f\"],[0.2222222222222222,\"#7201a8\"],[0.3333333333333333,\"#9c179e\"],[0.4444444444444444,\"#bd3786\"],[0.5555555555555556,\"#d8576b\"],[0.6666666666666666,\"#ed7953\"],[0.7777777777777778,\"#fb9f3a\"],[0.8888888888888888,\"#fdca26\"],[1.0,\"#f0f921\"]],\"sequentialminus\":[[0.0,\"#0d0887\"],[0.1111111111111111,\"#46039f\"],[0.2222222222222222,\"#7201a8\"],[0.3333333333333333,\"#9c179e\"],[0.4444444444444444,\"#bd3786\"],[0.5555555555555556,\"#d8576b\"],[0.6666666666666666,\"#ed7953\"],[0.7777777777777778,\"#fb9f3a\"],[0.8888888888888888,\"#fdca26\"],[1.0,\"#f0f921\"]],\"diverging\":[[0,\"#8e0152\"],[0.1,\"#c51b7d\"],[0.2,\"#de77ae\"],[0.3,\"#f1b6da\"],[0.4,\"#fde0ef\"],[0.5,\"#f7f7f7\"],[0.6,\"#e6f5d0\"],[0.7,\"#b8e186\"],[0.8,\"#7fbc41\"],[0.9,\"#4d9221\"],[1,\"#276419\"]]},\"xaxis\":{\"gridcolor\":\"white\",\"linecolor\":\"white\",\"ticks\":\"\",\"title\":{\"standoff\":15},\"zerolinecolor\":\"white\",\"automargin\":true,\"zerolinewidth\":2},\"yaxis\":{\"gridcolor\":\"white\",\"linecolor\":\"white\",\"ticks\":\"\",\"title\":{\"standoff\":15},\"zerolinecolor\":\"white\",\"automargin\":true,\"zerolinewidth\":2},\"scene\":{\"xaxis\":{\"backgroundcolor\":\"#E5ECF6\",\"gridcolor\":\"white\",\"linecolor\":\"white\",\"showbackground\":true,\"ticks\":\"\",\"zerolinecolor\":\"white\",\"gridwidth\":2},\"yaxis\":{\"backgroundcolor\":\"#E5ECF6\",\"gridcolor\":\"white\",\"linecolor\":\"white\",\"showbackground\":true,\"ticks\":\"\",\"zerolinecolor\":\"white\",\"gridwidth\":2},\"zaxis\":{\"backgroundcolor\":\"#E5ECF6\",\"gridcolor\":\"white\",\"linecolor\":\"white\",\"showbackground\":true,\"ticks\":\"\",\"zerolinecolor\":\"white\",\"gridwidth\":2}},\"shapedefaults\":{\"line\":{\"color\":\"#2a3f5f\"}},\"annotationdefaults\":{\"arrowcolor\":\"#2a3f5f\",\"arrowhead\":0,\"arrowwidth\":1},\"geo\":{\"bgcolor\":\"white\",\"landcolor\":\"#E5ECF6\",\"subunitcolor\":\"white\",\"showland\":true,\"showlakes\":true,\"lakecolor\":\"white\"},\"title\":{\"x\":0.05},\"mapbox\":{\"style\":\"light\"}}},\"xaxis\":{\"anchor\":\"y\",\"domain\":[0.0,1.0],\"title\":{\"text\":\"Region\"}},\"yaxis\":{\"anchor\":\"x\",\"domain\":[0.0,1.0],\"title\":{\"text\":\"Count\"}},\"legend\":{\"tracegroupgap\":0},\"title\":{\"text\":\"Count Of Grapes Producing Region\",\"font\":{\"color\":\"coral\"},\"x\":0.5,\"y\":0.9,\"xanchor\":\"center\",\"yanchor\":\"top\"},\"barmode\":\"relative\",\"font\":{\"color\":\"teal\"}},                        {\"responsive\": true}                    ).then(function(){\n",
       "                            \n",
       "var gd = document.getElementById('702e0181-2a3c-43cb-82f3-caad6dcaa938');\n",
       "var x = new MutationObserver(function (mutations, observer) {{\n",
       "        var display = window.getComputedStyle(gd).display;\n",
       "        if (!display || display === 'none') {{\n",
       "            console.log([gd, 'removed!']);\n",
       "            Plotly.purge(gd);\n",
       "            observer.disconnect();\n",
       "        }}\n",
       "}});\n",
       "\n",
       "// Listen for the removal of the full notebook cells\n",
       "var notebookContainer = gd.closest('#notebook-container');\n",
       "if (notebookContainer) {{\n",
       "    x.observe(notebookContainer, {childList: true});\n",
       "}}\n",
       "\n",
       "// Listen for the clearing of the current output cell\n",
       "var outputEl = gd.closest('.output');\n",
       "if (outputEl) {{\n",
       "    x.observe(outputEl, {childList: true});\n",
       "}}\n",
       "\n",
       "                        })                };                });            </script>        </div>"
      ]
     },
     "metadata": {},
     "output_type": "display_data"
    }
   ],
   "source": [
    "import plotly.express as px\n",
    "import plotly.graph_objects as go\n",
    "from scipy import stats\n",
    "import matplotlib.pyplot as plt\n",
    "import seaborn as sns\n",
    "\n",
    "fig = px.bar(x = data.region.value_counts().index.tolist(), y = data.region.value_counts(),\n",
    "             text_auto = True, title = 'Count Of Grapes Producing Region')\n",
    "fig.update_traces(marker_color = ['red', 'turquoise', 'seashell', 'chocolate',\n",
    "                                  'mintcream', 'green', 'purple', 'yellow'],\n",
    "                  marker_line_color = 'darkslategray', marker_line_width = 2)\n",
    "fig.update_xaxes(title = 'Region')\n",
    "fig.update_yaxes(title = 'Count')\n",
    "fig.update_layout(title = {'font_color' : 'coral', 'x' : 0.5, 'y' : 0.9,\n",
    "                           'xanchor' : 'center', 'yanchor' : 'top'},\n",
    "                  font_color = 'teal')\n",
    "fig.show()\n"
   ]
  },
  {
   "cell_type": "code",
   "execution_count": 54,
   "id": "6338a64c-ba1f-41d2-995f-9b55822391f9",
   "metadata": {},
   "outputs": [
    {
     "data": {
      "text/html": [
       "<div>\n",
       "<style scoped>\n",
       "    .dataframe tbody tr th:only-of-type {\n",
       "        vertical-align: middle;\n",
       "    }\n",
       "\n",
       "    .dataframe tbody tr th {\n",
       "        vertical-align: top;\n",
       "    }\n",
       "\n",
       "    .dataframe thead th {\n",
       "        text-align: right;\n",
       "    }\n",
       "</style>\n",
       "<table border=\"1\" class=\"dataframe\">\n",
       "  <thead>\n",
       "    <tr style=\"text-align: right;\">\n",
       "      <th></th>\n",
       "      <th>region</th>\n",
       "      <th>variety</th>\n",
       "      <th>quality_category</th>\n",
       "      <th>quality_score</th>\n",
       "    </tr>\n",
       "  </thead>\n",
       "  <tbody>\n",
       "    <tr>\n",
       "      <th>0</th>\n",
       "      <td>Barossa Valley</td>\n",
       "      <td>Cabernet Sauvignon</td>\n",
       "      <td>High</td>\n",
       "      <td>20.06</td>\n",
       "    </tr>\n",
       "    <tr>\n",
       "      <th>1</th>\n",
       "      <td>Barossa Valley</td>\n",
       "      <td>Cabernet Sauvignon</td>\n",
       "      <td>Medium</td>\n",
       "      <td>23.13</td>\n",
       "    </tr>\n",
       "    <tr>\n",
       "      <th>2</th>\n",
       "      <td>Barossa Valley</td>\n",
       "      <td>Chardonnay</td>\n",
       "      <td>High</td>\n",
       "      <td>23.42</td>\n",
       "    </tr>\n",
       "    <tr>\n",
       "      <th>3</th>\n",
       "      <td>Barossa Valley</td>\n",
       "      <td>Chardonnay</td>\n",
       "      <td>Low</td>\n",
       "      <td>2.58</td>\n",
       "    </tr>\n",
       "    <tr>\n",
       "      <th>4</th>\n",
       "      <td>Barossa Valley</td>\n",
       "      <td>Chardonnay</td>\n",
       "      <td>Medium</td>\n",
       "      <td>15.63</td>\n",
       "    </tr>\n",
       "    <tr>\n",
       "      <th>...</th>\n",
       "      <td>...</td>\n",
       "      <td>...</td>\n",
       "      <td>...</td>\n",
       "      <td>...</td>\n",
       "    </tr>\n",
       "    <tr>\n",
       "      <th>165</th>\n",
       "      <td>Tuscany</td>\n",
       "      <td>Syrah</td>\n",
       "      <td>High</td>\n",
       "      <td>20.03</td>\n",
       "    </tr>\n",
       "    <tr>\n",
       "      <th>166</th>\n",
       "      <td>Tuscany</td>\n",
       "      <td>Syrah</td>\n",
       "      <td>Medium</td>\n",
       "      <td>5.98</td>\n",
       "    </tr>\n",
       "    <tr>\n",
       "      <th>167</th>\n",
       "      <td>Tuscany</td>\n",
       "      <td>Syrah</td>\n",
       "      <td>Premium</td>\n",
       "      <td>3.61</td>\n",
       "    </tr>\n",
       "    <tr>\n",
       "      <th>168</th>\n",
       "      <td>Tuscany</td>\n",
       "      <td>Zinfandel</td>\n",
       "      <td>High</td>\n",
       "      <td>16.72</td>\n",
       "    </tr>\n",
       "    <tr>\n",
       "      <th>169</th>\n",
       "      <td>Tuscany</td>\n",
       "      <td>Zinfandel</td>\n",
       "      <td>Medium</td>\n",
       "      <td>25.56</td>\n",
       "    </tr>\n",
       "  </tbody>\n",
       "</table>\n",
       "<p>170 rows × 4 columns</p>\n",
       "</div>"
      ],
      "text/plain": [
       "             region             variety quality_category  quality_score\n",
       "0    Barossa Valley  Cabernet Sauvignon             High          20.06\n",
       "1    Barossa Valley  Cabernet Sauvignon           Medium          23.13\n",
       "2    Barossa Valley          Chardonnay             High          23.42\n",
       "3    Barossa Valley          Chardonnay              Low           2.58\n",
       "4    Barossa Valley          Chardonnay           Medium          15.63\n",
       "..              ...                 ...              ...            ...\n",
       "165         Tuscany               Syrah             High          20.03\n",
       "166         Tuscany               Syrah           Medium           5.98\n",
       "167         Tuscany               Syrah          Premium           3.61\n",
       "168         Tuscany           Zinfandel             High          16.72\n",
       "169         Tuscany           Zinfandel           Medium          25.56\n",
       "\n",
       "[170 rows x 4 columns]"
      ]
     },
     "execution_count": 54,
     "metadata": {},
     "output_type": "execute_result"
    }
   ],
   "source": [
    "region = data.groupby(['region', 'variety', 'quality_category'])[['quality_score']].sum().reset_index()\n",
    "region"
   ]
  },
  {
   "cell_type": "code",
   "execution_count": 56,
   "id": "e1aeb067-60bd-4e51-8c51-3fbd87ceb8b6",
   "metadata": {},
   "outputs": [
    {
     "data": {
      "application/vnd.plotly.v1+json": {
       "config": {
        "plotlyServerURL": "https://plot.ly"
       },
       "data": [
        {
         "alignmentgroup": "True",
         "bingroup": "x",
         "histfunc": "sum",
         "hovertemplate": "quality_category=High<br>region=%{x}<br>sum of quality_score=%{y}<extra></extra>",
         "legendgroup": "High",
         "marker": {
          "color": "#636efa",
          "line": {
           "width": 1
          },
          "pattern": {
           "shape": ""
          }
         },
         "name": "High",
         "offsetgroup": "High",
         "orientation": "v",
         "showlegend": true,
         "type": "histogram",
         "x": [
          "Barossa Valley",
          "Barossa Valley",
          "Barossa Valley",
          "Barossa Valley",
          "Barossa Valley",
          "Barossa Valley",
          "Barossa Valley",
          "Barossa Valley",
          "Bordeaux",
          "Bordeaux",
          "Bordeaux",
          "Bordeaux",
          "Bordeaux",
          "Bordeaux",
          "Bordeaux",
          "Bordeaux",
          "Loire Valley",
          "Loire Valley",
          "Loire Valley",
          "Loire Valley",
          "Loire Valley",
          "Loire Valley",
          "Loire Valley",
          "Loire Valley",
          "Mendoza",
          "Mendoza",
          "Mendoza",
          "Mendoza",
          "Mendoza",
          "Mendoza",
          "Mendoza",
          "Mendoza",
          "Napa Valley",
          "Napa Valley",
          "Napa Valley",
          "Napa Valley",
          "Napa Valley",
          "Napa Valley",
          "Napa Valley",
          "Napa Valley",
          "Rioja",
          "Rioja",
          "Rioja",
          "Rioja",
          "Rioja",
          "Rioja",
          "Rioja",
          "Rioja",
          "Sonoma",
          "Sonoma",
          "Sonoma",
          "Sonoma",
          "Sonoma",
          "Sonoma",
          "Sonoma",
          "Sonoma",
          "Tuscany",
          "Tuscany",
          "Tuscany",
          "Tuscany",
          "Tuscany",
          "Tuscany",
          "Tuscany",
          "Tuscany"
         ],
         "xaxis": "x",
         "y": [
          20.06,
          23.42,
          20.03,
          19.61,
          28.77,
          41.2,
          20.68,
          26.04,
          11.79,
          10.66,
          28.72,
          23.28,
          25.31,
          28.58,
          16.419999999999998,
          13.709999999999999,
          26.05,
          14.120000000000001,
          26.240000000000002,
          32.47,
          8.68,
          17.09,
          20.2,
          11.66,
          28.29,
          22.94,
          8.68,
          23.52,
          35.04,
          14.92,
          22.84,
          26.26,
          23.02,
          23.35,
          29.57,
          19.48,
          15.24,
          20.1,
          25.3,
          24.06,
          15.25,
          14.27,
          22.24,
          22.85,
          22.59,
          10.84,
          27.41,
          34.34,
          20.3,
          22.490000000000002,
          16.95,
          11.709999999999999,
          23.09,
          17.52,
          25.93,
          24.66,
          24.05,
          21.77,
          11.86,
          18.45,
          20.16,
          9.129999999999999,
          20.03,
          16.72
         ],
         "yaxis": "y"
        },
        {
         "alignmentgroup": "True",
         "bingroup": "x",
         "histfunc": "sum",
         "hovertemplate": "quality_category=Medium<br>region=%{x}<br>sum of quality_score=%{y}<extra></extra>",
         "legendgroup": "Medium",
         "marker": {
          "color": "#EF553B",
          "line": {
           "width": 1
          },
          "pattern": {
           "shape": ""
          }
         },
         "name": "Medium",
         "offsetgroup": "Medium",
         "orientation": "v",
         "showlegend": true,
         "type": "histogram",
         "x": [
          "Barossa Valley",
          "Barossa Valley",
          "Barossa Valley",
          "Barossa Valley",
          "Barossa Valley",
          "Barossa Valley",
          "Barossa Valley",
          "Barossa Valley",
          "Bordeaux",
          "Bordeaux",
          "Bordeaux",
          "Bordeaux",
          "Bordeaux",
          "Bordeaux",
          "Bordeaux",
          "Bordeaux",
          "Loire Valley",
          "Loire Valley",
          "Loire Valley",
          "Loire Valley",
          "Loire Valley",
          "Loire Valley",
          "Loire Valley",
          "Loire Valley",
          "Mendoza",
          "Mendoza",
          "Mendoza",
          "Mendoza",
          "Mendoza",
          "Mendoza",
          "Mendoza",
          "Mendoza",
          "Napa Valley",
          "Napa Valley",
          "Napa Valley",
          "Napa Valley",
          "Napa Valley",
          "Napa Valley",
          "Napa Valley",
          "Napa Valley",
          "Rioja",
          "Rioja",
          "Rioja",
          "Rioja",
          "Rioja",
          "Rioja",
          "Rioja",
          "Rioja",
          "Sonoma",
          "Sonoma",
          "Sonoma",
          "Sonoma",
          "Sonoma",
          "Sonoma",
          "Sonoma",
          "Sonoma",
          "Tuscany",
          "Tuscany",
          "Tuscany",
          "Tuscany",
          "Tuscany",
          "Tuscany",
          "Tuscany",
          "Tuscany"
         ],
         "xaxis": "x",
         "y": [
          23.13,
          15.63,
          12.75,
          19.31,
          18.65,
          17.68,
          4.08,
          14.37,
          17.37,
          14.2,
          11.870000000000001,
          27.82,
          15.26,
          14.96,
          8.42,
          29.91,
          35.82,
          16.9,
          8.79,
          31.36,
          8.77,
          28.31,
          5.47,
          4.609999999999999,
          6.51,
          20.3,
          14.709999999999999,
          20.34,
          12.23,
          14.120000000000001,
          14.08,
          18.4,
          15.15,
          14.370000000000001,
          23.28,
          17.669999999999998,
          18.79,
          12.73,
          24.34,
          18.18,
          13.73,
          10.84,
          12.28,
          22.1,
          6.67,
          9.78,
          8.77,
          12.7,
          27.39,
          10.4,
          12.35,
          15.14,
          18.71,
          12.35,
          18.65,
          14.709999999999999,
          9.07,
          12.51,
          12.76,
          14.190000000000001,
          9.85,
          14.64,
          5.98,
          25.56
         ],
         "yaxis": "y"
        },
        {
         "alignmentgroup": "True",
         "bingroup": "x",
         "histfunc": "sum",
         "hovertemplate": "quality_category=Low<br>region=%{x}<br>sum of quality_score=%{y}<extra></extra>",
         "legendgroup": "Low",
         "marker": {
          "color": "#00cc96",
          "line": {
           "width": 1
          },
          "pattern": {
           "shape": ""
          }
         },
         "name": "Low",
         "offsetgroup": "Low",
         "orientation": "v",
         "showlegend": true,
         "type": "histogram",
         "x": [
          "Barossa Valley",
          "Barossa Valley",
          "Barossa Valley",
          "Bordeaux",
          "Bordeaux",
          "Bordeaux",
          "Bordeaux",
          "Loire Valley",
          "Loire Valley",
          "Mendoza",
          "Mendoza",
          "Mendoza",
          "Mendoza",
          "Mendoza",
          "Napa Valley",
          "Napa Valley",
          "Sonoma",
          "Sonoma",
          "Sonoma",
          "Tuscany"
         ],
         "xaxis": "x",
         "y": [
          2.58,
          2.71,
          2.83,
          1.12,
          1.41,
          1.46,
          2.79,
          1.32,
          1.37,
          1.23,
          2.64,
          1.29,
          2.9699999999999998,
          1.46,
          1.21,
          1.38,
          1.4,
          1.5,
          1.28,
          1.48
         ],
         "yaxis": "y"
        },
        {
         "alignmentgroup": "True",
         "bingroup": "x",
         "histfunc": "sum",
         "hovertemplate": "quality_category=Premium<br>region=%{x}<br>sum of quality_score=%{y}<extra></extra>",
         "legendgroup": "Premium",
         "marker": {
          "color": "#ab63fa",
          "line": {
           "width": 1
          },
          "pattern": {
           "shape": ""
          }
         },
         "name": "Premium",
         "offsetgroup": "Premium",
         "orientation": "v",
         "showlegend": true,
         "type": "histogram",
         "x": [
          "Barossa Valley",
          "Bordeaux",
          "Bordeaux",
          "Bordeaux",
          "Loire Valley",
          "Loire Valley",
          "Mendoza",
          "Mendoza",
          "Mendoza",
          "Napa Valley",
          "Napa Valley",
          "Napa Valley",
          "Napa Valley",
          "Rioja",
          "Rioja",
          "Sonoma",
          "Sonoma",
          "Sonoma",
          "Sonoma",
          "Tuscany",
          "Tuscany",
          "Tuscany"
         ],
         "xaxis": "x",
         "y": [
          3.55,
          3.57,
          3.59,
          10.71,
          7.34,
          3.57,
          7.34,
          3.68,
          3.62,
          3.55,
          3.65,
          3.7,
          7.220000000000001,
          3.71,
          3.55,
          3.58,
          3.97,
          3.73,
          3.52,
          7.16,
          7.23,
          3.61
         ],
         "yaxis": "y"
        }
       ],
       "layout": {
        "barmode": "group",
        "font": {
         "color": "orchid"
        },
        "legend": {
         "title": {
          "font": {
           "color": "purple"
          },
          "text": "quality_category"
         },
         "tracegroupgap": 0
        },
        "template": {
         "data": {
          "bar": [
           {
            "error_x": {
             "color": "#2a3f5f"
            },
            "error_y": {
             "color": "#2a3f5f"
            },
            "marker": {
             "line": {
              "color": "#E5ECF6",
              "width": 0.5
             },
             "pattern": {
              "fillmode": "overlay",
              "size": 10,
              "solidity": 0.2
             }
            },
            "type": "bar"
           }
          ],
          "barpolar": [
           {
            "marker": {
             "line": {
              "color": "#E5ECF6",
              "width": 0.5
             },
             "pattern": {
              "fillmode": "overlay",
              "size": 10,
              "solidity": 0.2
             }
            },
            "type": "barpolar"
           }
          ],
          "carpet": [
           {
            "aaxis": {
             "endlinecolor": "#2a3f5f",
             "gridcolor": "white",
             "linecolor": "white",
             "minorgridcolor": "white",
             "startlinecolor": "#2a3f5f"
            },
            "baxis": {
             "endlinecolor": "#2a3f5f",
             "gridcolor": "white",
             "linecolor": "white",
             "minorgridcolor": "white",
             "startlinecolor": "#2a3f5f"
            },
            "type": "carpet"
           }
          ],
          "choropleth": [
           {
            "colorbar": {
             "outlinewidth": 0,
             "ticks": ""
            },
            "type": "choropleth"
           }
          ],
          "contour": [
           {
            "colorbar": {
             "outlinewidth": 0,
             "ticks": ""
            },
            "colorscale": [
             [
              0,
              "#0d0887"
             ],
             [
              0.1111111111111111,
              "#46039f"
             ],
             [
              0.2222222222222222,
              "#7201a8"
             ],
             [
              0.3333333333333333,
              "#9c179e"
             ],
             [
              0.4444444444444444,
              "#bd3786"
             ],
             [
              0.5555555555555556,
              "#d8576b"
             ],
             [
              0.6666666666666666,
              "#ed7953"
             ],
             [
              0.7777777777777778,
              "#fb9f3a"
             ],
             [
              0.8888888888888888,
              "#fdca26"
             ],
             [
              1,
              "#f0f921"
             ]
            ],
            "type": "contour"
           }
          ],
          "contourcarpet": [
           {
            "colorbar": {
             "outlinewidth": 0,
             "ticks": ""
            },
            "type": "contourcarpet"
           }
          ],
          "heatmap": [
           {
            "colorbar": {
             "outlinewidth": 0,
             "ticks": ""
            },
            "colorscale": [
             [
              0,
              "#0d0887"
             ],
             [
              0.1111111111111111,
              "#46039f"
             ],
             [
              0.2222222222222222,
              "#7201a8"
             ],
             [
              0.3333333333333333,
              "#9c179e"
             ],
             [
              0.4444444444444444,
              "#bd3786"
             ],
             [
              0.5555555555555556,
              "#d8576b"
             ],
             [
              0.6666666666666666,
              "#ed7953"
             ],
             [
              0.7777777777777778,
              "#fb9f3a"
             ],
             [
              0.8888888888888888,
              "#fdca26"
             ],
             [
              1,
              "#f0f921"
             ]
            ],
            "type": "heatmap"
           }
          ],
          "heatmapgl": [
           {
            "colorbar": {
             "outlinewidth": 0,
             "ticks": ""
            },
            "colorscale": [
             [
              0,
              "#0d0887"
             ],
             [
              0.1111111111111111,
              "#46039f"
             ],
             [
              0.2222222222222222,
              "#7201a8"
             ],
             [
              0.3333333333333333,
              "#9c179e"
             ],
             [
              0.4444444444444444,
              "#bd3786"
             ],
             [
              0.5555555555555556,
              "#d8576b"
             ],
             [
              0.6666666666666666,
              "#ed7953"
             ],
             [
              0.7777777777777778,
              "#fb9f3a"
             ],
             [
              0.8888888888888888,
              "#fdca26"
             ],
             [
              1,
              "#f0f921"
             ]
            ],
            "type": "heatmapgl"
           }
          ],
          "histogram": [
           {
            "marker": {
             "pattern": {
              "fillmode": "overlay",
              "size": 10,
              "solidity": 0.2
             }
            },
            "type": "histogram"
           }
          ],
          "histogram2d": [
           {
            "colorbar": {
             "outlinewidth": 0,
             "ticks": ""
            },
            "colorscale": [
             [
              0,
              "#0d0887"
             ],
             [
              0.1111111111111111,
              "#46039f"
             ],
             [
              0.2222222222222222,
              "#7201a8"
             ],
             [
              0.3333333333333333,
              "#9c179e"
             ],
             [
              0.4444444444444444,
              "#bd3786"
             ],
             [
              0.5555555555555556,
              "#d8576b"
             ],
             [
              0.6666666666666666,
              "#ed7953"
             ],
             [
              0.7777777777777778,
              "#fb9f3a"
             ],
             [
              0.8888888888888888,
              "#fdca26"
             ],
             [
              1,
              "#f0f921"
             ]
            ],
            "type": "histogram2d"
           }
          ],
          "histogram2dcontour": [
           {
            "colorbar": {
             "outlinewidth": 0,
             "ticks": ""
            },
            "colorscale": [
             [
              0,
              "#0d0887"
             ],
             [
              0.1111111111111111,
              "#46039f"
             ],
             [
              0.2222222222222222,
              "#7201a8"
             ],
             [
              0.3333333333333333,
              "#9c179e"
             ],
             [
              0.4444444444444444,
              "#bd3786"
             ],
             [
              0.5555555555555556,
              "#d8576b"
             ],
             [
              0.6666666666666666,
              "#ed7953"
             ],
             [
              0.7777777777777778,
              "#fb9f3a"
             ],
             [
              0.8888888888888888,
              "#fdca26"
             ],
             [
              1,
              "#f0f921"
             ]
            ],
            "type": "histogram2dcontour"
           }
          ],
          "mesh3d": [
           {
            "colorbar": {
             "outlinewidth": 0,
             "ticks": ""
            },
            "type": "mesh3d"
           }
          ],
          "parcoords": [
           {
            "line": {
             "colorbar": {
              "outlinewidth": 0,
              "ticks": ""
             }
            },
            "type": "parcoords"
           }
          ],
          "pie": [
           {
            "automargin": true,
            "type": "pie"
           }
          ],
          "scatter": [
           {
            "fillpattern": {
             "fillmode": "overlay",
             "size": 10,
             "solidity": 0.2
            },
            "type": "scatter"
           }
          ],
          "scatter3d": [
           {
            "line": {
             "colorbar": {
              "outlinewidth": 0,
              "ticks": ""
             }
            },
            "marker": {
             "colorbar": {
              "outlinewidth": 0,
              "ticks": ""
             }
            },
            "type": "scatter3d"
           }
          ],
          "scattercarpet": [
           {
            "marker": {
             "colorbar": {
              "outlinewidth": 0,
              "ticks": ""
             }
            },
            "type": "scattercarpet"
           }
          ],
          "scattergeo": [
           {
            "marker": {
             "colorbar": {
              "outlinewidth": 0,
              "ticks": ""
             }
            },
            "type": "scattergeo"
           }
          ],
          "scattergl": [
           {
            "marker": {
             "colorbar": {
              "outlinewidth": 0,
              "ticks": ""
             }
            },
            "type": "scattergl"
           }
          ],
          "scattermapbox": [
           {
            "marker": {
             "colorbar": {
              "outlinewidth": 0,
              "ticks": ""
             }
            },
            "type": "scattermapbox"
           }
          ],
          "scatterpolar": [
           {
            "marker": {
             "colorbar": {
              "outlinewidth": 0,
              "ticks": ""
             }
            },
            "type": "scatterpolar"
           }
          ],
          "scatterpolargl": [
           {
            "marker": {
             "colorbar": {
              "outlinewidth": 0,
              "ticks": ""
             }
            },
            "type": "scatterpolargl"
           }
          ],
          "scatterternary": [
           {
            "marker": {
             "colorbar": {
              "outlinewidth": 0,
              "ticks": ""
             }
            },
            "type": "scatterternary"
           }
          ],
          "surface": [
           {
            "colorbar": {
             "outlinewidth": 0,
             "ticks": ""
            },
            "colorscale": [
             [
              0,
              "#0d0887"
             ],
             [
              0.1111111111111111,
              "#46039f"
             ],
             [
              0.2222222222222222,
              "#7201a8"
             ],
             [
              0.3333333333333333,
              "#9c179e"
             ],
             [
              0.4444444444444444,
              "#bd3786"
             ],
             [
              0.5555555555555556,
              "#d8576b"
             ],
             [
              0.6666666666666666,
              "#ed7953"
             ],
             [
              0.7777777777777778,
              "#fb9f3a"
             ],
             [
              0.8888888888888888,
              "#fdca26"
             ],
             [
              1,
              "#f0f921"
             ]
            ],
            "type": "surface"
           }
          ],
          "table": [
           {
            "cells": {
             "fill": {
              "color": "#EBF0F8"
             },
             "line": {
              "color": "white"
             }
            },
            "header": {
             "fill": {
              "color": "#C8D4E3"
             },
             "line": {
              "color": "white"
             }
            },
            "type": "table"
           }
          ]
         },
         "layout": {
          "annotationdefaults": {
           "arrowcolor": "#2a3f5f",
           "arrowhead": 0,
           "arrowwidth": 1
          },
          "autotypenumbers": "strict",
          "coloraxis": {
           "colorbar": {
            "outlinewidth": 0,
            "ticks": ""
           }
          },
          "colorscale": {
           "diverging": [
            [
             0,
             "#8e0152"
            ],
            [
             0.1,
             "#c51b7d"
            ],
            [
             0.2,
             "#de77ae"
            ],
            [
             0.3,
             "#f1b6da"
            ],
            [
             0.4,
             "#fde0ef"
            ],
            [
             0.5,
             "#f7f7f7"
            ],
            [
             0.6,
             "#e6f5d0"
            ],
            [
             0.7,
             "#b8e186"
            ],
            [
             0.8,
             "#7fbc41"
            ],
            [
             0.9,
             "#4d9221"
            ],
            [
             1,
             "#276419"
            ]
           ],
           "sequential": [
            [
             0,
             "#0d0887"
            ],
            [
             0.1111111111111111,
             "#46039f"
            ],
            [
             0.2222222222222222,
             "#7201a8"
            ],
            [
             0.3333333333333333,
             "#9c179e"
            ],
            [
             0.4444444444444444,
             "#bd3786"
            ],
            [
             0.5555555555555556,
             "#d8576b"
            ],
            [
             0.6666666666666666,
             "#ed7953"
            ],
            [
             0.7777777777777778,
             "#fb9f3a"
            ],
            [
             0.8888888888888888,
             "#fdca26"
            ],
            [
             1,
             "#f0f921"
            ]
           ],
           "sequentialminus": [
            [
             0,
             "#0d0887"
            ],
            [
             0.1111111111111111,
             "#46039f"
            ],
            [
             0.2222222222222222,
             "#7201a8"
            ],
            [
             0.3333333333333333,
             "#9c179e"
            ],
            [
             0.4444444444444444,
             "#bd3786"
            ],
            [
             0.5555555555555556,
             "#d8576b"
            ],
            [
             0.6666666666666666,
             "#ed7953"
            ],
            [
             0.7777777777777778,
             "#fb9f3a"
            ],
            [
             0.8888888888888888,
             "#fdca26"
            ],
            [
             1,
             "#f0f921"
            ]
           ]
          },
          "colorway": [
           "#636efa",
           "#EF553B",
           "#00cc96",
           "#ab63fa",
           "#FFA15A",
           "#19d3f3",
           "#FF6692",
           "#B6E880",
           "#FF97FF",
           "#FECB52"
          ],
          "font": {
           "color": "#2a3f5f"
          },
          "geo": {
           "bgcolor": "white",
           "lakecolor": "white",
           "landcolor": "#E5ECF6",
           "showlakes": true,
           "showland": true,
           "subunitcolor": "white"
          },
          "hoverlabel": {
           "align": "left"
          },
          "hovermode": "closest",
          "mapbox": {
           "style": "light"
          },
          "paper_bgcolor": "white",
          "plot_bgcolor": "#E5ECF6",
          "polar": {
           "angularaxis": {
            "gridcolor": "white",
            "linecolor": "white",
            "ticks": ""
           },
           "bgcolor": "#E5ECF6",
           "radialaxis": {
            "gridcolor": "white",
            "linecolor": "white",
            "ticks": ""
           }
          },
          "scene": {
           "xaxis": {
            "backgroundcolor": "#E5ECF6",
            "gridcolor": "white",
            "gridwidth": 2,
            "linecolor": "white",
            "showbackground": true,
            "ticks": "",
            "zerolinecolor": "white"
           },
           "yaxis": {
            "backgroundcolor": "#E5ECF6",
            "gridcolor": "white",
            "gridwidth": 2,
            "linecolor": "white",
            "showbackground": true,
            "ticks": "",
            "zerolinecolor": "white"
           },
           "zaxis": {
            "backgroundcolor": "#E5ECF6",
            "gridcolor": "white",
            "gridwidth": 2,
            "linecolor": "white",
            "showbackground": true,
            "ticks": "",
            "zerolinecolor": "white"
           }
          },
          "shapedefaults": {
           "line": {
            "color": "#2a3f5f"
           }
          },
          "ternary": {
           "aaxis": {
            "gridcolor": "white",
            "linecolor": "white",
            "ticks": ""
           },
           "baxis": {
            "gridcolor": "white",
            "linecolor": "white",
            "ticks": ""
           },
           "bgcolor": "#E5ECF6",
           "caxis": {
            "gridcolor": "white",
            "linecolor": "white",
            "ticks": ""
           }
          },
          "title": {
           "x": 0.05
          },
          "xaxis": {
           "automargin": true,
           "gridcolor": "white",
           "linecolor": "white",
           "ticks": "",
           "title": {
            "standoff": 15
           },
           "zerolinecolor": "white",
           "zerolinewidth": 2
          },
          "yaxis": {
           "automargin": true,
           "gridcolor": "white",
           "linecolor": "white",
           "ticks": "",
           "title": {
            "standoff": 15
           },
           "zerolinecolor": "white",
           "zerolinewidth": 2
          }
         }
        },
        "title": {
         "font": {
          "color": "green"
         },
         "text": "Regionwise Harvest Of Various Quality Of Grapes",
         "x": 0.5,
         "xanchor": "center",
         "y": 0.9,
         "yanchor": "top"
        },
        "xaxis": {
         "anchor": "y",
         "domain": [
          0,
          1
         ],
         "title": {
          "text": "region"
         }
        },
        "yaxis": {
         "anchor": "x",
         "domain": [
          0,
          1
         ],
         "title": {
          "text": "sum of quality_score"
         }
        }
       }
      },
      "image/png": "[encoded data removed]",
      "text/html": [
       "<div>                            <div id=\"c6d5047e-d37c-4919-8a39-f39dd857c006\" class=\"plotly-graph-div\" style=\"height:525px; width:100%;\"></div>            <script type=\"text/javascript\">                require([\"plotly\"], function(Plotly) {                    window.PLOTLYENV=window.PLOTLYENV || {};                                    if (document.getElementById(\"c6d5047e-d37c-4919-8a39-f39dd857c006\")) {                    Plotly.newPlot(                        \"c6d5047e-d37c-4919-8a39-f39dd857c006\",                        [{\"alignmentgroup\":\"True\",\"bingroup\":\"x\",\"histfunc\":\"sum\",\"hovertemplate\":\"quality_category=High\\u003cbr\\u003eregion=%{x}\\u003cbr\\u003esum of quality_score=%{y}\\u003cextra\\u003e\\u003c\\u002fextra\\u003e\",\"legendgroup\":\"High\",\"marker\":{\"color\":\"#636efa\",\"pattern\":{\"shape\":\"\"},\"line\":{\"width\":1}},\"name\":\"High\",\"offsetgroup\":\"High\",\"orientation\":\"v\",\"showlegend\":true,\"x\":[\"Barossa Valley\",\"Barossa Valley\",\"Barossa Valley\",\"Barossa Valley\",\"Barossa Valley\",\"Barossa Valley\",\"Barossa Valley\",\"Barossa Valley\",\"Bordeaux\",\"Bordeaux\",\"Bordeaux\",\"Bordeaux\",\"Bordeaux\",\"Bordeaux\",\"Bordeaux\",\"Bordeaux\",\"Loire Valley\",\"Loire Valley\",\"Loire Valley\",\"Loire Valley\",\"Loire Valley\",\"Loire Valley\",\"Loire Valley\",\"Loire Valley\",\"Mendoza\",\"Mendoza\",\"Mendoza\",\"Mendoza\",\"Mendoza\",\"Mendoza\",\"Mendoza\",\"Mendoza\",\"Napa Valley\",\"Napa Valley\",\"Napa Valley\",\"Napa Valley\",\"Napa Valley\",\"Napa Valley\",\"Napa Valley\",\"Napa Valley\",\"Rioja\",\"Rioja\",\"Rioja\",\"Rioja\",\"Rioja\",\"Rioja\",\"Rioja\",\"Rioja\",\"Sonoma\",\"Sonoma\",\"Sonoma\",\"Sonoma\",\"Sonoma\",\"Sonoma\",\"Sonoma\",\"Sonoma\",\"Tuscany\",\"Tuscany\",\"Tuscany\",\"Tuscany\",\"Tuscany\",\"Tuscany\",\"Tuscany\",\"Tuscany\"],\"xaxis\":\"x\",\"y\":[20.06,23.42,20.03,19.61,28.77,41.2,20.68,26.04,11.79,10.66,28.72,23.28,25.31,28.58,16.419999999999998,13.709999999999999,26.05,14.120000000000001,26.240000000000002,32.47,8.68,17.09,20.2,11.66,28.29,22.94,8.68,23.52,35.04,14.92,22.84,26.26,23.02,23.35,29.57,19.48,15.24,20.1,25.3,24.06,15.25,14.27,22.24,22.85,22.59,10.84,27.41,34.34,20.3,22.490000000000002,16.95,11.709999999999999,23.09,17.52,25.93,24.66,24.05,21.77,11.86,18.45,20.16,9.129999999999999,20.03,16.72],\"yaxis\":\"y\",\"type\":\"histogram\"},{\"alignmentgroup\":\"True\",\"bingroup\":\"x\",\"histfunc\":\"sum\",\"hovertemplate\":\"quality_category=Medium\\u003cbr\\u003eregion=%{x}\\u003cbr\\u003esum of quality_score=%{y}\\u003cextra\\u003e\\u003c\\u002fextra\\u003e\",\"legendgroup\":\"Medium\",\"marker\":{\"color\":\"#EF553B\",\"pattern\":{\"shape\":\"\"},\"line\":{\"width\":1}},\"name\":\"Medium\",\"offsetgroup\":\"Medium\",\"orientation\":\"v\",\"showlegend\":true,\"x\":[\"Barossa Valley\",\"Barossa Valley\",\"Barossa Valley\",\"Barossa Valley\",\"Barossa Valley\",\"Barossa Valley\",\"Barossa Valley\",\"Barossa Valley\",\"Bordeaux\",\"Bordeaux\",\"Bordeaux\",\"Bordeaux\",\"Bordeaux\",\"Bordeaux\",\"Bordeaux\",\"Bordeaux\",\"Loire Valley\",\"Loire Valley\",\"Loire Valley\",\"Loire Valley\",\"Loire Valley\",\"Loire Valley\",\"Loire Valley\",\"Loire Valley\",\"Mendoza\",\"Mendoza\",\"Mendoza\",\"Mendoza\",\"Mendoza\",\"Mendoza\",\"Mendoza\",\"Mendoza\",\"Napa Valley\",\"Napa Valley\",\"Napa Valley\",\"Napa Valley\",\"Napa Valley\",\"Napa Valley\",\"Napa Valley\",\"Napa Valley\",\"Rioja\",\"Rioja\",\"Rioja\",\"Rioja\",\"Rioja\",\"Rioja\",\"Rioja\",\"Rioja\",\"Sonoma\",\"Sonoma\",\"Sonoma\",\"Sonoma\",\"Sonoma\",\"Sonoma\",\"Sonoma\",\"Sonoma\",\"Tuscany\",\"Tuscany\",\"Tuscany\",\"Tuscany\",\"Tuscany\",\"Tuscany\",\"Tuscany\",\"Tuscany\"],\"xaxis\":\"x\",\"y\":[23.13,15.63,12.75,19.31,18.65,17.68,4.08,14.37,17.37,14.2,11.870000000000001,27.82,15.26,14.96,8.42,29.91,35.82,16.9,8.79,31.36,8.77,28.31,5.47,4.609999999999999,6.51,20.3,14.709999999999999,20.34,12.23,14.120000000000001,14.08,18.4,15.15,14.370000000000001,23.28,17.669999999999998,18.79,12.73,24.34,18.18,13.73,10.84,12.28,22.1,6.67,9.78,8.77,12.7,27.39,10.4,12.35,15.14,18.71,12.35,18.65,14.709999999999999,9.07,12.51,12.76,14.190000000000001,9.85,14.64,5.98,25.56],\"yaxis\":\"y\",\"type\":\"histogram\"},{\"alignmentgroup\":\"True\",\"bingroup\":\"x\",\"histfunc\":\"sum\",\"hovertemplate\":\"quality_category=Low\\u003cbr\\u003eregion=%{x}\\u003cbr\\u003esum of quality_score=%{y}\\u003cextra\\u003e\\u003c\\u002fextra\\u003e\",\"legendgroup\":\"Low\",\"marker\":{\"color\":\"#00cc96\",\"pattern\":{\"shape\":\"\"},\"line\":{\"width\":1}},\"name\":\"Low\",\"offsetgroup\":\"Low\",\"orientation\":\"v\",\"showlegend\":true,\"x\":[\"Barossa Valley\",\"Barossa Valley\",\"Barossa Valley\",\"Bordeaux\",\"Bordeaux\",\"Bordeaux\",\"Bordeaux\",\"Loire Valley\",\"Loire Valley\",\"Mendoza\",\"Mendoza\",\"Mendoza\",\"Mendoza\",\"Mendoza\",\"Napa Valley\",\"Napa Valley\",\"Sonoma\",\"Sonoma\",\"Sonoma\",\"Tuscany\"],\"xaxis\":\"x\",\"y\":[2.58,2.71,2.83,1.12,1.41,1.46,2.79,1.32,1.37,1.23,2.64,1.29,2.9699999999999998,1.46,1.21,1.38,1.4,1.5,1.28,1.48],\"yaxis\":\"y\",\"type\":\"histogram\"},{\"alignmentgroup\":\"True\",\"bingroup\":\"x\",\"histfunc\":\"sum\",\"hovertemplate\":\"quality_category=Premium\\u003cbr\\u003eregion=%{x}\\u003cbr\\u003esum of quality_score=%{y}\\u003cextra\\u003e\\u003c\\u002fextra\\u003e\",\"legendgroup\":\"Premium\",\"marker\":{\"color\":\"#ab63fa\",\"pattern\":{\"shape\":\"\"},\"line\":{\"width\":1}},\"name\":\"Premium\",\"offsetgroup\":\"Premium\",\"orientation\":\"v\",\"showlegend\":true,\"x\":[\"Barossa Valley\",\"Bordeaux\",\"Bordeaux\",\"Bordeaux\",\"Loire Valley\",\"Loire Valley\",\"Mendoza\",\"Mendoza\",\"Mendoza\",\"Napa Valley\",\"Napa Valley\",\"Napa Valley\",\"Napa Valley\",\"Rioja\",\"Rioja\",\"Sonoma\",\"Sonoma\",\"Sonoma\",\"Sonoma\",\"Tuscany\",\"Tuscany\",\"Tuscany\"],\"xaxis\":\"x\",\"y\":[3.55,3.57,3.59,10.71,7.34,3.57,7.34,3.68,3.62,3.55,3.65,3.7,7.220000000000001,3.71,3.55,3.58,3.97,3.73,3.52,7.16,7.23,3.61],\"yaxis\":\"y\",\"type\":\"histogram\"}],                        {\"template\":{\"data\":{\"histogram2dcontour\":[{\"type\":\"histogram2dcontour\",\"colorbar\":{\"outlinewidth\":0,\"ticks\":\"\"},\"colorscale\":[[0.0,\"#0d0887\"],[0.1111111111111111,\"#46039f\"],[0.2222222222222222,\"#7201a8\"],[0.3333333333333333,\"#9c179e\"],[0.4444444444444444,\"#bd3786\"],[0.5555555555555556,\"#d8576b\"],[0.6666666666666666,\"#ed7953\"],[0.7777777777777778,\"#fb9f3a\"],[0.8888888888888888,\"#fdca26\"],[1.0,\"#f0f921\"]]}],\"choropleth\":[{\"type\":\"choropleth\",\"colorbar\":{\"outlinewidth\":0,\"ticks\":\"\"}}],\"histogram2d\":[{\"type\":\"histogram2d\",\"colorbar\":{\"outlinewidth\":0,\"ticks\":\"\"},\"colorscale\":[[0.0,\"#0d0887\"],[0.1111111111111111,\"#46039f\"],[0.2222222222222222,\"#7201a8\"],[0.3333333333333333,\"#9c179e\"],[0.4444444444444444,\"#bd3786\"],[0.5555555555555556,\"#d8576b\"],[0.6666666666666666,\"#ed7953\"],[0.7777777777777778,\"#fb9f3a\"],[0.8888888888888888,\"#fdca26\"],[1.0,\"#f0f921\"]]}],\"heatmap\":[{\"type\":\"heatmap\",\"colorbar\":{\"outlinewidth\":0,\"ticks\":\"\"},\"colorscale\":[[0.0,\"#0d0887\"],[0.1111111111111111,\"#46039f\"],[0.2222222222222222,\"#7201a8\"],[0.3333333333333333,\"#9c179e\"],[0.4444444444444444,\"#bd3786\"],[0.5555555555555556,\"#d8576b\"],[0.6666666666666666,\"#ed7953\"],[0.7777777777777778,\"#fb9f3a\"],[0.8888888888888888,\"#fdca26\"],[1.0,\"#f0f921\"]]}],\"heatmapgl\":[{\"type\":\"heatmapgl\",\"colorbar\":{\"outlinewidth\":0,\"ticks\":\"\"},\"colorscale\":[[0.0,\"#0d0887\"],[0.1111111111111111,\"#46039f\"],[0.2222222222222222,\"#7201a8\"],[0.3333333333333333,\"#9c179e\"],[0.4444444444444444,\"#bd3786\"],[0.5555555555555556,\"#d8576b\"],[0.6666666666666666,\"#ed7953\"],[0.7777777777777778,\"#fb9f3a\"],[0.8888888888888888,\"#fdca26\"],[1.0,\"#f0f921\"]]}],\"contourcarpet\":[{\"type\":\"contourcarpet\",\"colorbar\":{\"outlinewidth\":0,\"ticks\":\"\"}}],\"contour\":[{\"type\":\"contour\",\"colorbar\":{\"outlinewidth\":0,\"ticks\":\"\"},\"colorscale\":[[0.0,\"#0d0887\"],[0.1111111111111111,\"#46039f\"],[0.2222222222222222,\"#7201a8\"],[0.3333333333333333,\"#9c179e\"],[0.4444444444444444,\"#bd3786\"],[0.5555555555555556,\"#d8576b\"],[0.6666666666666666,\"#ed7953\"],[0.7777777777777778,\"#fb9f3a\"],[0.8888888888888888,\"#fdca26\"],[1.0,\"#f0f921\"]]}],\"surface\":[{\"type\":\"surface\",\"colorbar\":{\"outlinewidth\":0,\"ticks\":\"\"},\"colorscale\":[[0.0,\"#0d0887\"],[0.1111111111111111,\"#46039f\"],[0.2222222222222222,\"#7201a8\"],[0.3333333333333333,\"#9c179e\"],[0.4444444444444444,\"#bd3786\"],[0.5555555555555556,\"#d8576b\"],[0.6666666666666666,\"#ed7953\"],[0.7777777777777778,\"#fb9f3a\"],[0.8888888888888888,\"#fdca26\"],[1.0,\"#f0f921\"]]}],\"mesh3d\":[{\"type\":\"mesh3d\",\"colorbar\":{\"outlinewidth\":0,\"ticks\":\"\"}}],\"scatter\":[{\"fillpattern\":{\"fillmode\":\"overlay\",\"size\":10,\"solidity\":0.2},\"type\":\"scatter\"}],\"parcoords\":[{\"type\":\"parcoords\",\"line\":{\"colorbar\":{\"outlinewidth\":0,\"ticks\":\"\"}}}],\"scatterpolargl\":[{\"type\":\"scatterpolargl\",\"marker\":{\"colorbar\":{\"outlinewidth\":0,\"ticks\":\"\"}}}],\"bar\":[{\"error_x\":{\"color\":\"#2a3f5f\"},\"error_y\":{\"color\":\"#2a3f5f\"},\"marker\":{\"line\":{\"color\":\"#E5ECF6\",\"width\":0.5},\"pattern\":{\"fillmode\":\"overlay\",\"size\":10,\"solidity\":0.2}},\"type\":\"bar\"}],\"scattergeo\":[{\"type\":\"scattergeo\",\"marker\":{\"colorbar\":{\"outlinewidth\":0,\"ticks\":\"\"}}}],\"scatterpolar\":[{\"type\":\"scatterpolar\",\"marker\":{\"colorbar\":{\"outlinewidth\":0,\"ticks\":\"\"}}}],\"histogram\":[{\"marker\":{\"pattern\":{\"fillmode\":\"overlay\",\"size\":10,\"solidity\":0.2}},\"type\":\"histogram\"}],\"scattergl\":[{\"type\":\"scattergl\",\"marker\":{\"colorbar\":{\"outlinewidth\":0,\"ticks\":\"\"}}}],\"scatter3d\":[{\"type\":\"scatter3d\",\"line\":{\"colorbar\":{\"outlinewidth\":0,\"ticks\":\"\"}},\"marker\":{\"colorbar\":{\"outlinewidth\":0,\"ticks\":\"\"}}}],\"scattermapbox\":[{\"type\":\"scattermapbox\",\"marker\":{\"colorbar\":{\"outlinewidth\":0,\"ticks\":\"\"}}}],\"scatterternary\":[{\"type\":\"scatterternary\",\"marker\":{\"colorbar\":{\"outlinewidth\":0,\"ticks\":\"\"}}}],\"scattercarpet\":[{\"type\":\"scattercarpet\",\"marker\":{\"colorbar\":{\"outlinewidth\":0,\"ticks\":\"\"}}}],\"carpet\":[{\"aaxis\":{\"endlinecolor\":\"#2a3f5f\",\"gridcolor\":\"white\",\"linecolor\":\"white\",\"minorgridcolor\":\"white\",\"startlinecolor\":\"#2a3f5f\"},\"baxis\":{\"endlinecolor\":\"#2a3f5f\",\"gridcolor\":\"white\",\"linecolor\":\"white\",\"minorgridcolor\":\"white\",\"startlinecolor\":\"#2a3f5f\"},\"type\":\"carpet\"}],\"table\":[{\"cells\":{\"fill\":{\"color\":\"#EBF0F8\"},\"line\":{\"color\":\"white\"}},\"header\":{\"fill\":{\"color\":\"#C8D4E3\"},\"line\":{\"color\":\"white\"}},\"type\":\"table\"}],\"barpolar\":[{\"marker\":{\"line\":{\"color\":\"#E5ECF6\",\"width\":0.5},\"pattern\":{\"fillmode\":\"overlay\",\"size\":10,\"solidity\":0.2}},\"type\":\"barpolar\"}],\"pie\":[{\"automargin\":true,\"type\":\"pie\"}]},\"layout\":{\"autotypenumbers\":\"strict\",\"colorway\":[\"#636efa\",\"#EF553B\",\"#00cc96\",\"#ab63fa\",\"#FFA15A\",\"#19d3f3\",\"#FF6692\",\"#B6E880\",\"#FF97FF\",\"#FECB52\"],\"font\":{\"color\":\"#2a3f5f\"},\"hovermode\":\"closest\",\"hoverlabel\":{\"align\":\"left\"},\"paper_bgcolor\":\"white\",\"plot_bgcolor\":\"#E5ECF6\",\"polar\":{\"bgcolor\":\"#E5ECF6\",\"angularaxis\":{\"gridcolor\":\"white\",\"linecolor\":\"white\",\"ticks\":\"\"},\"radialaxis\":{\"gridcolor\":\"white\",\"linecolor\":\"white\",\"ticks\":\"\"}},\"ternary\":{\"bgcolor\":\"#E5ECF6\",\"aaxis\":{\"gridcolor\":\"white\",\"linecolor\":\"white\",\"ticks\":\"\"},\"baxis\":{\"gridcolor\":\"white\",\"linecolor\":\"white\",\"ticks\":\"\"},\"caxis\":{\"gridcolor\":\"white\",\"linecolor\":\"white\",\"ticks\":\"\"}},\"coloraxis\":{\"colorbar\":{\"outlinewidth\":0,\"ticks\":\"\"}},\"colorscale\":{\"sequential\":[[0.0,\"#0d0887\"],[0.1111111111111111,\"#46039f\"],[0.2222222222222222,\"#7201a8\"],[0.3333333333333333,\"#9c179e\"],[0.4444444444444444,\"#bd3786\"],[0.5555555555555556,\"#d8576b\"],[0.6666666666666666,\"#ed7953\"],[0.7777777777777778,\"#fb9f3a\"],[0.8888888888888888,\"#fdca26\"],[1.0,\"#f0f921\"]],\"sequentialminus\":[[0.0,\"#0d0887\"],[0.1111111111111111,\"#46039f\"],[0.2222222222222222,\"#7201a8\"],[0.3333333333333333,\"#9c179e\"],[0.4444444444444444,\"#bd3786\"],[0.5555555555555556,\"#d8576b\"],[0.6666666666666666,\"#ed7953\"],[0.7777777777777778,\"#fb9f3a\"],[0.8888888888888888,\"#fdca26\"],[1.0,\"#f0f921\"]],\"diverging\":[[0,\"#8e0152\"],[0.1,\"#c51b7d\"],[0.2,\"#de77ae\"],[0.3,\"#f1b6da\"],[0.4,\"#fde0ef\"],[0.5,\"#f7f7f7\"],[0.6,\"#e6f5d0\"],[0.7,\"#b8e186\"],[0.8,\"#7fbc41\"],[0.9,\"#4d9221\"],[1,\"#276419\"]]},\"xaxis\":{\"gridcolor\":\"white\",\"linecolor\":\"white\",\"ticks\":\"\",\"title\":{\"standoff\":15},\"zerolinecolor\":\"white\",\"automargin\":true,\"zerolinewidth\":2},\"yaxis\":{\"gridcolor\":\"white\",\"linecolor\":\"white\",\"ticks\":\"\",\"title\":{\"standoff\":15},\"zerolinecolor\":\"white\",\"automargin\":true,\"zerolinewidth\":2},\"scene\":{\"xaxis\":{\"backgroundcolor\":\"#E5ECF6\",\"gridcolor\":\"white\",\"linecolor\":\"white\",\"showbackground\":true,\"ticks\":\"\",\"zerolinecolor\":\"white\",\"gridwidth\":2},\"yaxis\":{\"backgroundcolor\":\"#E5ECF6\",\"gridcolor\":\"white\",\"linecolor\":\"white\",\"showbackground\":true,\"ticks\":\"\",\"zerolinecolor\":\"white\",\"gridwidth\":2},\"zaxis\":{\"backgroundcolor\":\"#E5ECF6\",\"gridcolor\":\"white\",\"linecolor\":\"white\",\"showbackground\":true,\"ticks\":\"\",\"zerolinecolor\":\"white\",\"gridwidth\":2}},\"shapedefaults\":{\"line\":{\"color\":\"#2a3f5f\"}},\"annotationdefaults\":{\"arrowcolor\":\"#2a3f5f\",\"arrowhead\":0,\"arrowwidth\":1},\"geo\":{\"bgcolor\":\"white\",\"landcolor\":\"#E5ECF6\",\"subunitcolor\":\"white\",\"showland\":true,\"showlakes\":true,\"lakecolor\":\"white\"},\"title\":{\"x\":0.05},\"mapbox\":{\"style\":\"light\"}}},\"xaxis\":{\"anchor\":\"y\",\"domain\":[0.0,1.0],\"title\":{\"text\":\"region\"}},\"yaxis\":{\"anchor\":\"x\",\"domain\":[0.0,1.0],\"title\":{\"text\":\"sum of quality_score\"}},\"legend\":{\"title\":{\"text\":\"quality_category\",\"font\":{\"color\":\"purple\"}},\"tracegroupgap\":0},\"title\":{\"text\":\"Regionwise Harvest Of Various Quality Of Grapes\",\"font\":{\"color\":\"green\"},\"x\":0.5,\"y\":0.9,\"xanchor\":\"center\",\"yanchor\":\"top\"},\"barmode\":\"group\",\"font\":{\"color\":\"orchid\"}},                        {\"responsive\": true}                    ).then(function(){\n",
       "                            \n",
       "var gd = document.getElementById('c6d5047e-d37c-4919-8a39-f39dd857c006');\n",
       "var x = new MutationObserver(function (mutations, observer) {{\n",
       "        var display = window.getComputedStyle(gd).display;\n",
       "        if (!display || display === 'none') {{\n",
       "            console.log([gd, 'removed!']);\n",
       "            Plotly.purge(gd);\n",
       "            observer.disconnect();\n",
       "        }}\n",
       "}});\n",
       "\n",
       "// Listen for the removal of the full notebook cells\n",
       "var notebookContainer = gd.closest('#notebook-container');\n",
       "if (notebookContainer) {{\n",
       "    x.observe(notebookContainer, {childList: true});\n",
       "}}\n",
       "\n",
       "// Listen for the clearing of the current output cell\n",
       "var outputEl = gd.closest('.output');\n",
       "if (outputEl) {{\n",
       "    x.observe(outputEl, {childList: true});\n",
       "}}\n",
       "\n",
       "                        })                };                });            </script>        </div>"
      ]
     },
     "metadata": {},
     "output_type": "display_data"
    }
   ],
   "source": [
    "fig = px.histogram(region, x = 'region', y = 'quality_score', color = 'quality_category',\n",
    "                   title = 'Regionwise Harvest Of Various Quality Of Grapes')\n",
    "fig.update_traces( marker_line_width = 1)\n",
    "fig.update_layout(title = {'font_color' : 'green', 'x' : 0.5, 'y' : 0.9,\n",
    "                           'xanchor' : 'center', 'yanchor' : 'top'},\n",
    "                  font_color = 'orchid', barmode = 'group', \n",
    "                  legend_title_font_color = 'purple')\n",
    "fig.show()"
   ]
  },
  {
   "cell_type": "code",
   "execution_count": 57,
   "id": "56b187fc-5622-45d3-9451-bc4b26b54c20",
   "metadata": {},
   "outputs": [
    {
     "data": {
      "text/html": [
       "<div>\n",
       "<style scoped>\n",
       "    .dataframe tbody tr th:only-of-type {\n",
       "        vertical-align: middle;\n",
       "    }\n",
       "\n",
       "    .dataframe tbody tr th {\n",
       "        vertical-align: top;\n",
       "    }\n",
       "\n",
       "    .dataframe thead th {\n",
       "        text-align: right;\n",
       "    }\n",
       "</style>\n",
       "<table border=\"1\" class=\"dataframe\">\n",
       "  <thead>\n",
       "    <tr style=\"text-align: right;\">\n",
       "      <th></th>\n",
       "      <th>quality_score</th>\n",
       "      <th>sugar_content_brix</th>\n",
       "      <th>acidity_ph</th>\n",
       "      <th>cluster_weight_g</th>\n",
       "      <th>berry_size_mm</th>\n",
       "      <th>sun_exposure_hours</th>\n",
       "      <th>soil_moisture_percent</th>\n",
       "      <th>rainfall_mm</th>\n",
       "    </tr>\n",
       "  </thead>\n",
       "  <tbody>\n",
       "    <tr>\n",
       "      <th>quality_score</th>\n",
       "      <td>1.000000</td>\n",
       "      <td>0.690041</td>\n",
       "      <td>0.004676</td>\n",
       "      <td>-0.004673</td>\n",
       "      <td>0.478361</td>\n",
       "      <td>0.542611</td>\n",
       "      <td>0.041124</td>\n",
       "      <td>0.027806</td>\n",
       "    </tr>\n",
       "    <tr>\n",
       "      <th>sugar_content_brix</th>\n",
       "      <td>0.690041</td>\n",
       "      <td>1.000000</td>\n",
       "      <td>0.027414</td>\n",
       "      <td>-0.005797</td>\n",
       "      <td>0.032887</td>\n",
       "      <td>0.030535</td>\n",
       "      <td>0.042326</td>\n",
       "      <td>0.049953</td>\n",
       "    </tr>\n",
       "    <tr>\n",
       "      <th>acidity_ph</th>\n",
       "      <td>0.004676</td>\n",
       "      <td>0.027414</td>\n",
       "      <td>1.000000</td>\n",
       "      <td>-0.013607</td>\n",
       "      <td>-0.008914</td>\n",
       "      <td>-0.019527</td>\n",
       "      <td>-0.028392</td>\n",
       "      <td>-0.046770</td>\n",
       "    </tr>\n",
       "    <tr>\n",
       "      <th>cluster_weight_g</th>\n",
       "      <td>-0.004673</td>\n",
       "      <td>-0.005797</td>\n",
       "      <td>-0.013607</td>\n",
       "      <td>1.000000</td>\n",
       "      <td>-0.044831</td>\n",
       "      <td>0.039512</td>\n",
       "      <td>-0.017020</td>\n",
       "      <td>-0.022848</td>\n",
       "    </tr>\n",
       "    <tr>\n",
       "      <th>berry_size_mm</th>\n",
       "      <td>0.478361</td>\n",
       "      <td>0.032887</td>\n",
       "      <td>-0.008914</td>\n",
       "      <td>-0.044831</td>\n",
       "      <td>1.000000</td>\n",
       "      <td>-0.056150</td>\n",
       "      <td>0.020533</td>\n",
       "      <td>-0.008868</td>\n",
       "    </tr>\n",
       "    <tr>\n",
       "      <th>sun_exposure_hours</th>\n",
       "      <td>0.542611</td>\n",
       "      <td>0.030535</td>\n",
       "      <td>-0.019527</td>\n",
       "      <td>0.039512</td>\n",
       "      <td>-0.056150</td>\n",
       "      <td>1.000000</td>\n",
       "      <td>0.007751</td>\n",
       "      <td>0.012341</td>\n",
       "    </tr>\n",
       "    <tr>\n",
       "      <th>soil_moisture_percent</th>\n",
       "      <td>0.041124</td>\n",
       "      <td>0.042326</td>\n",
       "      <td>-0.028392</td>\n",
       "      <td>-0.017020</td>\n",
       "      <td>0.020533</td>\n",
       "      <td>0.007751</td>\n",
       "      <td>1.000000</td>\n",
       "      <td>0.038045</td>\n",
       "    </tr>\n",
       "    <tr>\n",
       "      <th>rainfall_mm</th>\n",
       "      <td>0.027806</td>\n",
       "      <td>0.049953</td>\n",
       "      <td>-0.046770</td>\n",
       "      <td>-0.022848</td>\n",
       "      <td>-0.008868</td>\n",
       "      <td>0.012341</td>\n",
       "      <td>0.038045</td>\n",
       "      <td>1.000000</td>\n",
       "    </tr>\n",
       "  </tbody>\n",
       "</table>\n",
       "</div>"
      ],
      "text/plain": [
       "                       quality_score  sugar_content_brix  acidity_ph  \\\n",
       "quality_score               1.000000            0.690041    0.004676   \n",
       "sugar_content_brix          0.690041            1.000000    0.027414   \n",
       "acidity_ph                  0.004676            0.027414    1.000000   \n",
       "cluster_weight_g           -0.004673           -0.005797   -0.013607   \n",
       "berry_size_mm               0.478361            0.032887   -0.008914   \n",
       "sun_exposure_hours          0.542611            0.030535   -0.019527   \n",
       "soil_moisture_percent       0.041124            0.042326   -0.028392   \n",
       "rainfall_mm                 0.027806            0.049953   -0.046770   \n",
       "\n",
       "                       cluster_weight_g  berry_size_mm  sun_exposure_hours  \\\n",
       "quality_score                 -0.004673       0.478361            0.542611   \n",
       "sugar_content_brix            -0.005797       0.032887            0.030535   \n",
       "acidity_ph                    -0.013607      -0.008914           -0.019527   \n",
       "cluster_weight_g               1.000000      -0.044831            0.039512   \n",
       "berry_size_mm                 -0.044831       1.000000           -0.056150   \n",
       "sun_exposure_hours             0.039512      -0.056150            1.000000   \n",
       "soil_moisture_percent         -0.017020       0.020533            0.007751   \n",
       "rainfall_mm                   -0.022848      -0.008868            0.012341   \n",
       "\n",
       "                       soil_moisture_percent  rainfall_mm  \n",
       "quality_score                       0.041124     0.027806  \n",
       "sugar_content_brix                  0.042326     0.049953  \n",
       "acidity_ph                         -0.028392    -0.046770  \n",
       "cluster_weight_g                   -0.017020    -0.022848  \n",
       "berry_size_mm                       0.020533    -0.008868  \n",
       "sun_exposure_hours                  0.007751     0.012341  \n",
       "soil_moisture_percent               1.000000     0.038045  \n",
       "rainfall_mm                         0.038045     1.000000  "
      ]
     },
     "execution_count": 57,
     "metadata": {},
     "output_type": "execute_result"
    }
   ],
   "source": [
    "correlation = data.corr(numeric_only = True)\n",
    "correlation"
   ]
  },
  {
   "cell_type": "code",
   "execution_count": 59,
   "id": "dc7077dd-633a-456d-8b29-e1d7390cd64d",
   "metadata": {},
   "outputs": [
    {
     "data": {
      "image/png": "[encoded data removed]",
      "text/plain": [
       "<Figure size 1000x800 with 2 Axes>"
      ]
     },
     "metadata": {},
     "output_type": "display_data"
    }
   ],
   "source": [
    "import seaborn as sns\n",
    "import matplotlib.pyplot as plt\n",
    "\n",
    "# Compute the correlation matrix\n",
    "correlation = data.corr(numeric_only=True)\n",
    "\n",
    "# Set up the matplotlib figure\n",
    "plt.figure(figsize=(10, 8))\n",
    "\n",
    "# Create the heatmap\n",
    "sns.heatmap(\n",
    "    correlation, \n",
    "    annot=True,       # Show correlation values\n",
    "    cmap='coolwarm',  # Color map\n",
    "    fmt='.2f',        # Format for values\n",
    "    linewidths=0.5,   # Line width between cells\n",
    "    cbar=True         # Show color bar\n",
    ")\n",
    "\n",
    "# Add title\n",
    "plt.title('Correlation Matrix Heatmap', fontsize=16)\n",
    "\n",
    "# Show the plot\n",
    "plt.tight_layout()\n",
    "plt.show()\n"
   ]
  },
  {
   "cell_type": "code",
   "execution_count": 68,
   "id": "008aa627-889a-4081-928e-20794c8b3a86",
   "metadata": {},
   "outputs": [
    {
     "name": "stdout",
     "output_type": "stream",
     "text": [
      "0.8817292452582012\n"
     ]
    }
   ],
   "source": [
    "import pandas as pd\n",
    "\n",
    "# Assuming 'data' is your DataFrame\n",
    "# Create a dictionary for the mapping\n",
    "category_map = {\n",
    "    \"Low\": 0,\n",
    "    \"Medium\": 1,\n",
    "    \"High\": 2,\n",
    "    \"Premium\": 3\n",
    "}\n",
    "\n",
    "# Apply the mapping to the 'quality_category' column\n",
    "data['quality_category_numeric'] = data['quality_category'].map(category_map)\n",
    "\n",
    "# Calculate the correlation between 'quality_score' and the numeric 'quality_category'\n",
    "correlation = data['quality_score'].corr(data['quality_category_numeric'])\n",
    "print(correlation)"
   ]
  },
  {
   "cell_type": "code",
   "execution_count": 69,
   "id": "b62f76a2-1eae-4f8b-af47-277584e021b1",
   "metadata": {},
   "outputs": [
    {
     "data": {
      "image/png": "[encoded data removed]",
      "text/plain": [
       "<Figure size 1000x800 with 2 Axes>"
      ]
     },
     "metadata": {},
     "output_type": "display_data"
    }
   ],
   "source": [
    "\n",
    "import seaborn as sns\n",
    "import matplotlib.pyplot as plt\n",
    "\n",
    "# Create the correlation matrix for the relevant numerical columns\n",
    "corr_matrix = data[['quality_score', 'quality_category_numeric', 'sugar_content_brix', \n",
    "                     'acidity_ph', 'cluster_weight_g', 'berry_size_mm', 'sun_exposure_hours', \n",
    "                     'soil_moisture_percent', 'rainfall_mm']].corr()\n",
    "\n",
    "# Set up the plot\n",
    "plt.figure(figsize=(10, 8))\n",
    "\n",
    "# Create a heatmap from the correlation matrix\n",
    "sns.heatmap(corr_matrix, annot=True, cmap='coolwarm', fmt=\".2f\", linewidths=0.5, vmin=-1, vmax=1)\n",
    "\n",
    "# Title for the heatmap\n",
    "plt.title('Correlation Matrix Heatmap')\n",
    "\n",
    "# Display the heatmap\n",
    "plt.show()\n"
   ]
  }
 ],
 "metadata": {
  "kernelspec": {
   "display_name": "Python 3 (ipykernel)",
   "language": "python",
   "name": "python3"
  },
  "language_info": {
   "codemirror_mode": {
    "name": "ipython",
    "version": 3
   },
   "file_extension": ".py",
   "mimetype": "text/x-python",
   "name": "python",
   "nbconvert_exporter": "python",
   "pygments_lexer": "ipython3",
   "version": "3.11.11"
  }
 },
 "nbformat": 4,
 "nbformat_minor": 5
}
