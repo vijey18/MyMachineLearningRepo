{
 "cells": [
  {
   "cell_type": "code",
   "execution_count": 2,
   "metadata": {},
   "outputs": [],
   "source": [
    "import pandas as pd\n",
    "import numpy as np\n",
    "data = pd.read_csv(\"GRAPE_QUALITY.csv\")"
   ]
  },
  {
   "cell_type": "code",
   "execution_count": 3,
   "metadata": {},
   "outputs": [
    {
     "data": {
      "text/plain": [
       "sample_id                  int64\n",
       "variety                   object\n",
       "region                    object\n",
       "quality_score            float64\n",
       "quality_category          object\n",
       "sugar_content_brix       float64\n",
       "acidity_ph               float64\n",
       "cluster_weight_g         float64\n",
       "berry_size_mm            float64\n",
       "harvest_date              object\n",
       "sun_exposure_hours       float64\n",
       "soil_moisture_percent    float64\n",
       "rainfall_mm              float64\n",
       "dtype: object"
      ]
     },
     "execution_count": 3,
     "metadata": {},
     "output_type": "execute_result"
    }
   ],
   "source": [
    "data.dtypes"
   ]
  },
  {
   "cell_type": "code",
   "execution_count": 4,
   "metadata": {},
   "outputs": [
    {
     "data": {
      "text/plain": [
       "sample_id                0\n",
       "variety                  0\n",
       "region                   0\n",
       "quality_score            0\n",
       "quality_category         0\n",
       "sugar_content_brix       0\n",
       "acidity_ph               0\n",
       "cluster_weight_g         0\n",
       "berry_size_mm            0\n",
       "harvest_date             0\n",
       "sun_exposure_hours       0\n",
       "soil_moisture_percent    0\n",
       "rainfall_mm              0\n",
       "dtype: int64"
      ]
     },
     "execution_count": 4,
     "metadata": {},
     "output_type": "execute_result"
    }
   ],
   "source": [
    "data.isnull().sum()"
   ]
  },
  {
   "cell_type": "code",
   "execution_count": 5,
   "metadata": {},
   "outputs": [],
   "source": [
    "# Dropping non-predictive columns (e.g., 'sample_id', 'harvest_date', 'quality_category')\n",
    "data_cleaned = data.drop(columns=['sample_id', 'harvest_date', 'quality_category'])\n",
    "\n"
   ]
  },
  {
   "cell_type": "code",
   "execution_count": 6,
   "metadata": {},
   "outputs": [
    {
     "data": {
      "text/html": [
       "<style type=\"text/css\">\n",
       "#T_4c00d_row9_col1, #T_4c00d_row15_col1 {\n",
       "  background-color: lightgreen;\n",
       "}\n",
       "</style>\n",
       "<table id=\"T_4c00d\">\n",
       "  <thead>\n",
       "    <tr>\n",
       "      <th class=\"blank level0\" >&nbsp;</th>\n",
       "      <th id=\"T_4c00d_level0_col0\" class=\"col_heading level0 col0\" >Description</th>\n",
       "      <th id=\"T_4c00d_level0_col1\" class=\"col_heading level0 col1\" >Value</th>\n",
       "    </tr>\n",
       "  </thead>\n",
       "  <tbody>\n",
       "    <tr>\n",
       "      <th id=\"T_4c00d_level0_row0\" class=\"row_heading level0 row0\" >0</th>\n",
       "      <td id=\"T_4c00d_row0_col0\" class=\"data row0 col0\" >Session id</td>\n",
       "      <td id=\"T_4c00d_row0_col1\" class=\"data row0 col1\" >123</td>\n",
       "    </tr>\n",
       "    <tr>\n",
       "      <th id=\"T_4c00d_level0_row1\" class=\"row_heading level0 row1\" >1</th>\n",
       "      <td id=\"T_4c00d_row1_col0\" class=\"data row1 col0\" >Target</td>\n",
       "      <td id=\"T_4c00d_row1_col1\" class=\"data row1 col1\" >quality_score</td>\n",
       "    </tr>\n",
       "    <tr>\n",
       "      <th id=\"T_4c00d_level0_row2\" class=\"row_heading level0 row2\" >2</th>\n",
       "      <td id=\"T_4c00d_row2_col0\" class=\"data row2 col0\" >Target type</td>\n",
       "      <td id=\"T_4c00d_row2_col1\" class=\"data row2 col1\" >Regression</td>\n",
       "    </tr>\n",
       "    <tr>\n",
       "      <th id=\"T_4c00d_level0_row3\" class=\"row_heading level0 row3\" >3</th>\n",
       "      <td id=\"T_4c00d_row3_col0\" class=\"data row3 col0\" >Original data shape</td>\n",
       "      <td id=\"T_4c00d_row3_col1\" class=\"data row3 col1\" >(1000, 10)</td>\n",
       "    </tr>\n",
       "    <tr>\n",
       "      <th id=\"T_4c00d_level0_row4\" class=\"row_heading level0 row4\" >4</th>\n",
       "      <td id=\"T_4c00d_row4_col0\" class=\"data row4 col0\" >Transformed data shape</td>\n",
       "      <td id=\"T_4c00d_row4_col1\" class=\"data row4 col1\" >(1000, 24)</td>\n",
       "    </tr>\n",
       "    <tr>\n",
       "      <th id=\"T_4c00d_level0_row5\" class=\"row_heading level0 row5\" >5</th>\n",
       "      <td id=\"T_4c00d_row5_col0\" class=\"data row5 col0\" >Transformed train set shape</td>\n",
       "      <td id=\"T_4c00d_row5_col1\" class=\"data row5 col1\" >(700, 24)</td>\n",
       "    </tr>\n",
       "    <tr>\n",
       "      <th id=\"T_4c00d_level0_row6\" class=\"row_heading level0 row6\" >6</th>\n",
       "      <td id=\"T_4c00d_row6_col0\" class=\"data row6 col0\" >Transformed test set shape</td>\n",
       "      <td id=\"T_4c00d_row6_col1\" class=\"data row6 col1\" >(300, 24)</td>\n",
       "    </tr>\n",
       "    <tr>\n",
       "      <th id=\"T_4c00d_level0_row7\" class=\"row_heading level0 row7\" >7</th>\n",
       "      <td id=\"T_4c00d_row7_col0\" class=\"data row7 col0\" >Numeric features</td>\n",
       "      <td id=\"T_4c00d_row7_col1\" class=\"data row7 col1\" >7</td>\n",
       "    </tr>\n",
       "    <tr>\n",
       "      <th id=\"T_4c00d_level0_row8\" class=\"row_heading level0 row8\" >8</th>\n",
       "      <td id=\"T_4c00d_row8_col0\" class=\"data row8 col0\" >Categorical features</td>\n",
       "      <td id=\"T_4c00d_row8_col1\" class=\"data row8 col1\" >2</td>\n",
       "    </tr>\n",
       "    <tr>\n",
       "      <th id=\"T_4c00d_level0_row9\" class=\"row_heading level0 row9\" >9</th>\n",
       "      <td id=\"T_4c00d_row9_col0\" class=\"data row9 col0\" >Preprocess</td>\n",
       "      <td id=\"T_4c00d_row9_col1\" class=\"data row9 col1\" >True</td>\n",
       "    </tr>\n",
       "    <tr>\n",
       "      <th id=\"T_4c00d_level0_row10\" class=\"row_heading level0 row10\" >10</th>\n",
       "      <td id=\"T_4c00d_row10_col0\" class=\"data row10 col0\" >Imputation type</td>\n",
       "      <td id=\"T_4c00d_row10_col1\" class=\"data row10 col1\" >simple</td>\n",
       "    </tr>\n",
       "    <tr>\n",
       "      <th id=\"T_4c00d_level0_row11\" class=\"row_heading level0 row11\" >11</th>\n",
       "      <td id=\"T_4c00d_row11_col0\" class=\"data row11 col0\" >Numeric imputation</td>\n",
       "      <td id=\"T_4c00d_row11_col1\" class=\"data row11 col1\" >mean</td>\n",
       "    </tr>\n",
       "    <tr>\n",
       "      <th id=\"T_4c00d_level0_row12\" class=\"row_heading level0 row12\" >12</th>\n",
       "      <td id=\"T_4c00d_row12_col0\" class=\"data row12 col0\" >Categorical imputation</td>\n",
       "      <td id=\"T_4c00d_row12_col1\" class=\"data row12 col1\" >mode</td>\n",
       "    </tr>\n",
       "    <tr>\n",
       "      <th id=\"T_4c00d_level0_row13\" class=\"row_heading level0 row13\" >13</th>\n",
       "      <td id=\"T_4c00d_row13_col0\" class=\"data row13 col0\" >Maximum one-hot encoding</td>\n",
       "      <td id=\"T_4c00d_row13_col1\" class=\"data row13 col1\" >25</td>\n",
       "    </tr>\n",
       "    <tr>\n",
       "      <th id=\"T_4c00d_level0_row14\" class=\"row_heading level0 row14\" >14</th>\n",
       "      <td id=\"T_4c00d_row14_col0\" class=\"data row14 col0\" >Encoding method</td>\n",
       "      <td id=\"T_4c00d_row14_col1\" class=\"data row14 col1\" >None</td>\n",
       "    </tr>\n",
       "    <tr>\n",
       "      <th id=\"T_4c00d_level0_row15\" class=\"row_heading level0 row15\" >15</th>\n",
       "      <td id=\"T_4c00d_row15_col0\" class=\"data row15 col0\" >Normalize</td>\n",
       "      <td id=\"T_4c00d_row15_col1\" class=\"data row15 col1\" >True</td>\n",
       "    </tr>\n",
       "    <tr>\n",
       "      <th id=\"T_4c00d_level0_row16\" class=\"row_heading level0 row16\" >16</th>\n",
       "      <td id=\"T_4c00d_row16_col0\" class=\"data row16 col0\" >Normalize method</td>\n",
       "      <td id=\"T_4c00d_row16_col1\" class=\"data row16 col1\" >zscore</td>\n",
       "    </tr>\n",
       "    <tr>\n",
       "      <th id=\"T_4c00d_level0_row17\" class=\"row_heading level0 row17\" >17</th>\n",
       "      <td id=\"T_4c00d_row17_col0\" class=\"data row17 col0\" >Fold Generator</td>\n",
       "      <td id=\"T_4c00d_row17_col1\" class=\"data row17 col1\" >KFold</td>\n",
       "    </tr>\n",
       "    <tr>\n",
       "      <th id=\"T_4c00d_level0_row18\" class=\"row_heading level0 row18\" >18</th>\n",
       "      <td id=\"T_4c00d_row18_col0\" class=\"data row18 col0\" >Fold Number</td>\n",
       "      <td id=\"T_4c00d_row18_col1\" class=\"data row18 col1\" >10</td>\n",
       "    </tr>\n",
       "    <tr>\n",
       "      <th id=\"T_4c00d_level0_row19\" class=\"row_heading level0 row19\" >19</th>\n",
       "      <td id=\"T_4c00d_row19_col0\" class=\"data row19 col0\" >CPU Jobs</td>\n",
       "      <td id=\"T_4c00d_row19_col1\" class=\"data row19 col1\" >-1</td>\n",
       "    </tr>\n",
       "    <tr>\n",
       "      <th id=\"T_4c00d_level0_row20\" class=\"row_heading level0 row20\" >20</th>\n",
       "      <td id=\"T_4c00d_row20_col0\" class=\"data row20 col0\" >Use GPU</td>\n",
       "      <td id=\"T_4c00d_row20_col1\" class=\"data row20 col1\" >False</td>\n",
       "    </tr>\n",
       "    <tr>\n",
       "      <th id=\"T_4c00d_level0_row21\" class=\"row_heading level0 row21\" >21</th>\n",
       "      <td id=\"T_4c00d_row21_col0\" class=\"data row21 col0\" >Log Experiment</td>\n",
       "      <td id=\"T_4c00d_row21_col1\" class=\"data row21 col1\" >False</td>\n",
       "    </tr>\n",
       "    <tr>\n",
       "      <th id=\"T_4c00d_level0_row22\" class=\"row_heading level0 row22\" >22</th>\n",
       "      <td id=\"T_4c00d_row22_col0\" class=\"data row22 col0\" >Experiment Name</td>\n",
       "      <td id=\"T_4c00d_row22_col1\" class=\"data row22 col1\" >reg-default-name</td>\n",
       "    </tr>\n",
       "    <tr>\n",
       "      <th id=\"T_4c00d_level0_row23\" class=\"row_heading level0 row23\" >23</th>\n",
       "      <td id=\"T_4c00d_row23_col0\" class=\"data row23 col0\" >USI</td>\n",
       "      <td id=\"T_4c00d_row23_col1\" class=\"data row23 col1\" >5eef</td>\n",
       "    </tr>\n",
       "  </tbody>\n",
       "</table>\n"
      ],
      "text/plain": [
       "<pandas.io.formats.style.Styler at 0x1fba60da4d0>"
      ]
     },
     "metadata": {},
     "output_type": "display_data"
    }
   ],
   "source": [
    "from pycaret.regression import *\n",
    "\n",
    "# Initialize PyCaret setup\n",
    "regression_setup = setup(\n",
    "    data=data_cleaned,\n",
    "    target='quality_score',             # Target variable\n",
    "    session_id=123,                     # For reproducibility\n",
    "    normalize=True,                     # Normalize numeric features\n",
    "    categorical_features=['variety', 'region']  # Specify categorical columns\n",
    ")\n",
    "\n",
    "\n"
   ]
  },
  {
   "cell_type": "code",
   "execution_count": 7,
   "metadata": {},
   "outputs": [
    {
     "data": {
      "text/html": [],
      "text/plain": [
       "<IPython.core.display.HTML object>"
      ]
     },
     "metadata": {},
     "output_type": "display_data"
    },
    {
     "data": {
      "text/html": [
       "<style type=\"text/css\">\n",
       "#T_22f64 th {\n",
       "  text-align: left;\n",
       "}\n",
       "#T_22f64_row0_col0, #T_22f64_row1_col0, #T_22f64_row1_col1, #T_22f64_row1_col2, #T_22f64_row1_col3, #T_22f64_row1_col4, #T_22f64_row1_col5, #T_22f64_row1_col6, #T_22f64_row2_col0, #T_22f64_row2_col1, #T_22f64_row2_col2, #T_22f64_row2_col3, #T_22f64_row2_col4, #T_22f64_row2_col5, #T_22f64_row2_col6, #T_22f64_row3_col0, #T_22f64_row3_col1, #T_22f64_row3_col2, #T_22f64_row3_col3, #T_22f64_row3_col4, #T_22f64_row3_col5, #T_22f64_row3_col6, #T_22f64_row4_col0, #T_22f64_row4_col1, #T_22f64_row4_col2, #T_22f64_row4_col3, #T_22f64_row4_col4, #T_22f64_row4_col5, #T_22f64_row4_col6, #T_22f64_row5_col0, #T_22f64_row5_col1, #T_22f64_row5_col2, #T_22f64_row5_col3, #T_22f64_row5_col4, #T_22f64_row5_col5, #T_22f64_row5_col6, #T_22f64_row6_col0, #T_22f64_row6_col1, #T_22f64_row6_col2, #T_22f64_row6_col3, #T_22f64_row6_col4, #T_22f64_row6_col5, #T_22f64_row6_col6, #T_22f64_row7_col0, #T_22f64_row7_col1, #T_22f64_row7_col2, #T_22f64_row7_col3, #T_22f64_row7_col4, #T_22f64_row7_col5, #T_22f64_row7_col6, #T_22f64_row8_col0, #T_22f64_row8_col1, #T_22f64_row8_col2, #T_22f64_row8_col3, #T_22f64_row8_col4, #T_22f64_row8_col5, #T_22f64_row8_col6, #T_22f64_row9_col0, #T_22f64_row9_col1, #T_22f64_row9_col2, #T_22f64_row9_col3, #T_22f64_row9_col4, #T_22f64_row9_col5, #T_22f64_row9_col6, #T_22f64_row10_col0, #T_22f64_row10_col1, #T_22f64_row10_col2, #T_22f64_row10_col3, #T_22f64_row10_col4, #T_22f64_row10_col5, #T_22f64_row10_col6, #T_22f64_row11_col0, #T_22f64_row11_col1, #T_22f64_row11_col2, #T_22f64_row11_col3, #T_22f64_row11_col4, #T_22f64_row11_col5, #T_22f64_row11_col6, #T_22f64_row12_col0, #T_22f64_row12_col1, #T_22f64_row12_col2, #T_22f64_row12_col3, #T_22f64_row12_col4, #T_22f64_row12_col5, #T_22f64_row12_col6, #T_22f64_row13_col0, #T_22f64_row13_col1, #T_22f64_row13_col2, #T_22f64_row13_col3, #T_22f64_row13_col4, #T_22f64_row13_col5, #T_22f64_row13_col6, #T_22f64_row14_col0, #T_22f64_row14_col1, #T_22f64_row14_col2, #T_22f64_row14_col3, #T_22f64_row14_col4, #T_22f64_row14_col5, #T_22f64_row14_col6, #T_22f64_row15_col0, #T_22f64_row15_col1, #T_22f64_row15_col2, #T_22f64_row15_col3, #T_22f64_row15_col4, #T_22f64_row15_col5, #T_22f64_row15_col6, #T_22f64_row16_col0, #T_22f64_row16_col1, #T_22f64_row16_col2, #T_22f64_row16_col3, #T_22f64_row16_col4, #T_22f64_row16_col5, #T_22f64_row16_col6, #T_22f64_row17_col0, #T_22f64_row17_col1, #T_22f64_row17_col2, #T_22f64_row17_col3, #T_22f64_row17_col4, #T_22f64_row17_col5, #T_22f64_row17_col6 {\n",
       "  text-align: left;\n",
       "}\n",
       "#T_22f64_row0_col1, #T_22f64_row0_col2, #T_22f64_row0_col3, #T_22f64_row0_col4, #T_22f64_row0_col5, #T_22f64_row0_col6 {\n",
       "  text-align: left;\n",
       "  background-color: yellow;\n",
       "}\n",
       "#T_22f64_row0_col7, #T_22f64_row1_col7, #T_22f64_row2_col7, #T_22f64_row4_col7, #T_22f64_row5_col7, #T_22f64_row6_col7, #T_22f64_row7_col7, #T_22f64_row8_col7, #T_22f64_row9_col7, #T_22f64_row10_col7, #T_22f64_row11_col7, #T_22f64_row12_col7, #T_22f64_row13_col7, #T_22f64_row15_col7, #T_22f64_row16_col7, #T_22f64_row17_col7 {\n",
       "  text-align: left;\n",
       "  background-color: lightgrey;\n",
       "}\n",
       "#T_22f64_row3_col7, #T_22f64_row14_col7 {\n",
       "  text-align: left;\n",
       "  background-color: yellow;\n",
       "  background-color: lightgrey;\n",
       "}\n",
       "</style>\n",
       "<table id=\"T_22f64\">\n",
       "  <thead>\n",
       "    <tr>\n",
       "      <th class=\"blank level0\" >&nbsp;</th>\n",
       "      <th id=\"T_22f64_level0_col0\" class=\"col_heading level0 col0\" >Model</th>\n",
       "      <th id=\"T_22f64_level0_col1\" class=\"col_heading level0 col1\" >MAE</th>\n",
       "      <th id=\"T_22f64_level0_col2\" class=\"col_heading level0 col2\" >MSE</th>\n",
       "      <th id=\"T_22f64_level0_col3\" class=\"col_heading level0 col3\" >RMSE</th>\n",
       "      <th id=\"T_22f64_level0_col4\" class=\"col_heading level0 col4\" >R2</th>\n",
       "      <th id=\"T_22f64_level0_col5\" class=\"col_heading level0 col5\" >RMSLE</th>\n",
       "      <th id=\"T_22f64_level0_col6\" class=\"col_heading level0 col6\" >MAPE</th>\n",
       "      <th id=\"T_22f64_level0_col7\" class=\"col_heading level0 col7\" >TT (Sec)</th>\n",
       "    </tr>\n",
       "  </thead>\n",
       "  <tbody>\n",
       "    <tr>\n",
       "      <th id=\"T_22f64_level0_row0\" class=\"row_heading level0 row0\" >gbr</th>\n",
       "      <td id=\"T_22f64_row0_col0\" class=\"data row0 col0\" >Gradient Boosting Regressor</td>\n",
       "      <td id=\"T_22f64_row0_col1\" class=\"data row0 col1\" >0.0465</td>\n",
       "      <td id=\"T_22f64_row0_col2\" class=\"data row0 col2\" >0.0036</td>\n",
       "      <td id=\"T_22f64_row0_col3\" class=\"data row0 col3\" >0.0595</td>\n",
       "      <td id=\"T_22f64_row0_col4\" class=\"data row0 col4\" >0.9870</td>\n",
       "      <td id=\"T_22f64_row0_col5\" class=\"data row0 col5\" >0.0181</td>\n",
       "      <td id=\"T_22f64_row0_col6\" class=\"data row0 col6\" >0.0201</td>\n",
       "      <td id=\"T_22f64_row0_col7\" class=\"data row0 col7\" >0.1080</td>\n",
       "    </tr>\n",
       "    <tr>\n",
       "      <th id=\"T_22f64_level0_row1\" class=\"row_heading level0 row1\" >lightgbm</th>\n",
       "      <td id=\"T_22f64_row1_col0\" class=\"data row1 col0\" >Light Gradient Boosting Machine</td>\n",
       "      <td id=\"T_22f64_row1_col1\" class=\"data row1 col1\" >0.0474</td>\n",
       "      <td id=\"T_22f64_row1_col2\" class=\"data row1 col2\" >0.0038</td>\n",
       "      <td id=\"T_22f64_row1_col3\" class=\"data row1 col3\" >0.0612</td>\n",
       "      <td id=\"T_22f64_row1_col4\" class=\"data row1 col4\" >0.9863</td>\n",
       "      <td id=\"T_22f64_row1_col5\" class=\"data row1 col5\" >0.0187</td>\n",
       "      <td id=\"T_22f64_row1_col6\" class=\"data row1 col6\" >0.0206</td>\n",
       "      <td id=\"T_22f64_row1_col7\" class=\"data row1 col7\" >0.1680</td>\n",
       "    </tr>\n",
       "    <tr>\n",
       "      <th id=\"T_22f64_level0_row2\" class=\"row_heading level0 row2\" >lar</th>\n",
       "      <td id=\"T_22f64_row2_col0\" class=\"data row2 col0\" >Least Angle Regression</td>\n",
       "      <td id=\"T_22f64_row2_col1\" class=\"data row2 col1\" >0.0522</td>\n",
       "      <td id=\"T_22f64_row2_col2\" class=\"data row2 col2\" >0.0042</td>\n",
       "      <td id=\"T_22f64_row2_col3\" class=\"data row2 col3\" >0.0646</td>\n",
       "      <td id=\"T_22f64_row2_col4\" class=\"data row2 col4\" >0.9845</td>\n",
       "      <td id=\"T_22f64_row2_col5\" class=\"data row2 col5\" >0.0188</td>\n",
       "      <td id=\"T_22f64_row2_col6\" class=\"data row2 col6\" >0.0219</td>\n",
       "      <td id=\"T_22f64_row2_col7\" class=\"data row2 col7\" >0.0350</td>\n",
       "    </tr>\n",
       "    <tr>\n",
       "      <th id=\"T_22f64_level0_row3\" class=\"row_heading level0 row3\" >br</th>\n",
       "      <td id=\"T_22f64_row3_col0\" class=\"data row3 col0\" >Bayesian Ridge</td>\n",
       "      <td id=\"T_22f64_row3_col1\" class=\"data row3 col1\" >0.0522</td>\n",
       "      <td id=\"T_22f64_row3_col2\" class=\"data row3 col2\" >0.0042</td>\n",
       "      <td id=\"T_22f64_row3_col3\" class=\"data row3 col3\" >0.0646</td>\n",
       "      <td id=\"T_22f64_row3_col4\" class=\"data row3 col4\" >0.9845</td>\n",
       "      <td id=\"T_22f64_row3_col5\" class=\"data row3 col5\" >0.0188</td>\n",
       "      <td id=\"T_22f64_row3_col6\" class=\"data row3 col6\" >0.0219</td>\n",
       "      <td id=\"T_22f64_row3_col7\" class=\"data row3 col7\" >0.0290</td>\n",
       "    </tr>\n",
       "    <tr>\n",
       "      <th id=\"T_22f64_level0_row4\" class=\"row_heading level0 row4\" >ridge</th>\n",
       "      <td id=\"T_22f64_row4_col0\" class=\"data row4 col0\" >Ridge Regression</td>\n",
       "      <td id=\"T_22f64_row4_col1\" class=\"data row4 col1\" >0.0522</td>\n",
       "      <td id=\"T_22f64_row4_col2\" class=\"data row4 col2\" >0.0042</td>\n",
       "      <td id=\"T_22f64_row4_col3\" class=\"data row4 col3\" >0.0646</td>\n",
       "      <td id=\"T_22f64_row4_col4\" class=\"data row4 col4\" >0.9845</td>\n",
       "      <td id=\"T_22f64_row4_col5\" class=\"data row4 col5\" >0.0188</td>\n",
       "      <td id=\"T_22f64_row4_col6\" class=\"data row4 col6\" >0.0219</td>\n",
       "      <td id=\"T_22f64_row4_col7\" class=\"data row4 col7\" >0.0330</td>\n",
       "    </tr>\n",
       "    <tr>\n",
       "      <th id=\"T_22f64_level0_row5\" class=\"row_heading level0 row5\" >huber</th>\n",
       "      <td id=\"T_22f64_row5_col0\" class=\"data row5 col0\" >Huber Regressor</td>\n",
       "      <td id=\"T_22f64_row5_col1\" class=\"data row5 col1\" >0.0523</td>\n",
       "      <td id=\"T_22f64_row5_col2\" class=\"data row5 col2\" >0.0042</td>\n",
       "      <td id=\"T_22f64_row5_col3\" class=\"data row5 col3\" >0.0650</td>\n",
       "      <td id=\"T_22f64_row5_col4\" class=\"data row5 col4\" >0.9843</td>\n",
       "      <td id=\"T_22f64_row5_col5\" class=\"data row5 col5\" >0.0188</td>\n",
       "      <td id=\"T_22f64_row5_col6\" class=\"data row5 col6\" >0.0219</td>\n",
       "      <td id=\"T_22f64_row5_col7\" class=\"data row5 col7\" >0.0370</td>\n",
       "    </tr>\n",
       "    <tr>\n",
       "      <th id=\"T_22f64_level0_row6\" class=\"row_heading level0 row6\" >lr</th>\n",
       "      <td id=\"T_22f64_row6_col0\" class=\"data row6 col0\" >Linear Regression</td>\n",
       "      <td id=\"T_22f64_row6_col1\" class=\"data row6 col1\" >0.0529</td>\n",
       "      <td id=\"T_22f64_row6_col2\" class=\"data row6 col2\" >0.0043</td>\n",
       "      <td id=\"T_22f64_row6_col3\" class=\"data row6 col3\" >0.0654</td>\n",
       "      <td id=\"T_22f64_row6_col4\" class=\"data row6 col4\" >0.9840</td>\n",
       "      <td id=\"T_22f64_row6_col5\" class=\"data row6 col5\" >0.0190</td>\n",
       "      <td id=\"T_22f64_row6_col6\" class=\"data row6 col6\" >0.0222</td>\n",
       "      <td id=\"T_22f64_row6_col7\" class=\"data row6 col7\" >1.2070</td>\n",
       "    </tr>\n",
       "    <tr>\n",
       "      <th id=\"T_22f64_level0_row7\" class=\"row_heading level0 row7\" >par</th>\n",
       "      <td id=\"T_22f64_row7_col0\" class=\"data row7 col0\" >Passive Aggressive Regressor</td>\n",
       "      <td id=\"T_22f64_row7_col1\" class=\"data row7 col1\" >0.0545</td>\n",
       "      <td id=\"T_22f64_row7_col2\" class=\"data row7 col2\" >0.0045</td>\n",
       "      <td id=\"T_22f64_row7_col3\" class=\"data row7 col3\" >0.0670</td>\n",
       "      <td id=\"T_22f64_row7_col4\" class=\"data row7 col4\" >0.9833</td>\n",
       "      <td id=\"T_22f64_row7_col5\" class=\"data row7 col5\" >0.0196</td>\n",
       "      <td id=\"T_22f64_row7_col6\" class=\"data row7 col6\" >0.0229</td>\n",
       "      <td id=\"T_22f64_row7_col7\" class=\"data row7 col7\" >0.0330</td>\n",
       "    </tr>\n",
       "    <tr>\n",
       "      <th id=\"T_22f64_level0_row8\" class=\"row_heading level0 row8\" >et</th>\n",
       "      <td id=\"T_22f64_row8_col0\" class=\"data row8 col0\" >Extra Trees Regressor</td>\n",
       "      <td id=\"T_22f64_row8_col1\" class=\"data row8 col1\" >0.0623</td>\n",
       "      <td id=\"T_22f64_row8_col2\" class=\"data row8 col2\" >0.0065</td>\n",
       "      <td id=\"T_22f64_row8_col3\" class=\"data row8 col3\" >0.0801</td>\n",
       "      <td id=\"T_22f64_row8_col4\" class=\"data row8 col4\" >0.9766</td>\n",
       "      <td id=\"T_22f64_row8_col5\" class=\"data row8 col5\" >0.0246</td>\n",
       "      <td id=\"T_22f64_row8_col6\" class=\"data row8 col6\" >0.0273</td>\n",
       "      <td id=\"T_22f64_row8_col7\" class=\"data row8 col7\" >0.2030</td>\n",
       "    </tr>\n",
       "    <tr>\n",
       "      <th id=\"T_22f64_level0_row9\" class=\"row_heading level0 row9\" >rf</th>\n",
       "      <td id=\"T_22f64_row9_col0\" class=\"data row9 col0\" >Random Forest Regressor</td>\n",
       "      <td id=\"T_22f64_row9_col1\" class=\"data row9 col1\" >0.0747</td>\n",
       "      <td id=\"T_22f64_row9_col2\" class=\"data row9 col2\" >0.0089</td>\n",
       "      <td id=\"T_22f64_row9_col3\" class=\"data row9 col3\" >0.0939</td>\n",
       "      <td id=\"T_22f64_row9_col4\" class=\"data row9 col4\" >0.9679</td>\n",
       "      <td id=\"T_22f64_row9_col5\" class=\"data row9 col5\" >0.0286</td>\n",
       "      <td id=\"T_22f64_row9_col6\" class=\"data row9 col6\" >0.0326</td>\n",
       "      <td id=\"T_22f64_row9_col7\" class=\"data row9 col7\" >0.2180</td>\n",
       "    </tr>\n",
       "    <tr>\n",
       "      <th id=\"T_22f64_level0_row10\" class=\"row_heading level0 row10\" >ada</th>\n",
       "      <td id=\"T_22f64_row10_col0\" class=\"data row10 col0\" >AdaBoost Regressor</td>\n",
       "      <td id=\"T_22f64_row10_col1\" class=\"data row10 col1\" >0.1192</td>\n",
       "      <td id=\"T_22f64_row10_col2\" class=\"data row10 col2\" >0.0223</td>\n",
       "      <td id=\"T_22f64_row10_col3\" class=\"data row10 col3\" >0.1484</td>\n",
       "      <td id=\"T_22f64_row10_col4\" class=\"data row10 col4\" >0.9197</td>\n",
       "      <td id=\"T_22f64_row10_col5\" class=\"data row10 col5\" >0.0451</td>\n",
       "      <td id=\"T_22f64_row10_col6\" class=\"data row10 col6\" >0.0523</td>\n",
       "      <td id=\"T_22f64_row10_col7\" class=\"data row10 col7\" >0.0870</td>\n",
       "    </tr>\n",
       "    <tr>\n",
       "      <th id=\"T_22f64_level0_row11\" class=\"row_heading level0 row11\" >dt</th>\n",
       "      <td id=\"T_22f64_row11_col0\" class=\"data row11 col0\" >Decision Tree Regressor</td>\n",
       "      <td id=\"T_22f64_row11_col1\" class=\"data row11 col1\" >0.1370</td>\n",
       "      <td id=\"T_22f64_row11_col2\" class=\"data row11 col2\" >0.0299</td>\n",
       "      <td id=\"T_22f64_row11_col3\" class=\"data row11 col3\" >0.1725</td>\n",
       "      <td id=\"T_22f64_row11_col4\" class=\"data row11 col4\" >0.8886</td>\n",
       "      <td id=\"T_22f64_row11_col5\" class=\"data row11 col5\" >0.0521</td>\n",
       "      <td id=\"T_22f64_row11_col6\" class=\"data row11 col6\" >0.0589</td>\n",
       "      <td id=\"T_22f64_row11_col7\" class=\"data row11 col7\" >0.0320</td>\n",
       "    </tr>\n",
       "    <tr>\n",
       "      <th id=\"T_22f64_level0_row12\" class=\"row_heading level0 row12\" >omp</th>\n",
       "      <td id=\"T_22f64_row12_col0\" class=\"data row12 col0\" >Orthogonal Matching Pursuit</td>\n",
       "      <td id=\"T_22f64_row12_col1\" class=\"data row12 col1\" >0.2381</td>\n",
       "      <td id=\"T_22f64_row12_col2\" class=\"data row12 col2\" >0.0732</td>\n",
       "      <td id=\"T_22f64_row12_col3\" class=\"data row12 col3\" >0.2703</td>\n",
       "      <td id=\"T_22f64_row12_col4\" class=\"data row12 col4\" >0.7284</td>\n",
       "      <td id=\"T_22f64_row12_col5\" class=\"data row12 col5\" >0.0807</td>\n",
       "      <td id=\"T_22f64_row12_col6\" class=\"data row12 col6\" >0.1023</td>\n",
       "      <td id=\"T_22f64_row12_col7\" class=\"data row12 col7\" >0.0300</td>\n",
       "    </tr>\n",
       "    <tr>\n",
       "      <th id=\"T_22f64_level0_row13\" class=\"row_heading level0 row13\" >knn</th>\n",
       "      <td id=\"T_22f64_row13_col0\" class=\"data row13 col0\" >K Neighbors Regressor</td>\n",
       "      <td id=\"T_22f64_row13_col1\" class=\"data row13 col1\" >0.3656</td>\n",
       "      <td id=\"T_22f64_row13_col2\" class=\"data row13 col2\" >0.2065</td>\n",
       "      <td id=\"T_22f64_row13_col3\" class=\"data row13 col3\" >0.4518</td>\n",
       "      <td id=\"T_22f64_row13_col4\" class=\"data row13 col4\" >0.2571</td>\n",
       "      <td id=\"T_22f64_row13_col5\" class=\"data row13 col5\" >0.1338</td>\n",
       "      <td id=\"T_22f64_row13_col6\" class=\"data row13 col6\" >0.1603</td>\n",
       "      <td id=\"T_22f64_row13_col7\" class=\"data row13 col7\" >0.0670</td>\n",
       "    </tr>\n",
       "    <tr>\n",
       "      <th id=\"T_22f64_level0_row14\" class=\"row_heading level0 row14\" >llar</th>\n",
       "      <td id=\"T_22f64_row14_col0\" class=\"data row14 col0\" >Lasso Least Angle Regression</td>\n",
       "      <td id=\"T_22f64_row14_col1\" class=\"data row14 col1\" >0.4393</td>\n",
       "      <td id=\"T_22f64_row14_col2\" class=\"data row14 col2\" >0.2829</td>\n",
       "      <td id=\"T_22f64_row14_col3\" class=\"data row14 col3\" >0.5303</td>\n",
       "      <td id=\"T_22f64_row14_col4\" class=\"data row14 col4\" >-0.0182</td>\n",
       "      <td id=\"T_22f64_row14_col5\" class=\"data row14 col5\" >0.1567</td>\n",
       "      <td id=\"T_22f64_row14_col6\" class=\"data row14 col6\" >0.1943</td>\n",
       "      <td id=\"T_22f64_row14_col7\" class=\"data row14 col7\" >0.0290</td>\n",
       "    </tr>\n",
       "    <tr>\n",
       "      <th id=\"T_22f64_level0_row15\" class=\"row_heading level0 row15\" >lasso</th>\n",
       "      <td id=\"T_22f64_row15_col0\" class=\"data row15 col0\" >Lasso Regression</td>\n",
       "      <td id=\"T_22f64_row15_col1\" class=\"data row15 col1\" >0.4393</td>\n",
       "      <td id=\"T_22f64_row15_col2\" class=\"data row15 col2\" >0.2829</td>\n",
       "      <td id=\"T_22f64_row15_col3\" class=\"data row15 col3\" >0.5303</td>\n",
       "      <td id=\"T_22f64_row15_col4\" class=\"data row15 col4\" >-0.0182</td>\n",
       "      <td id=\"T_22f64_row15_col5\" class=\"data row15 col5\" >0.1567</td>\n",
       "      <td id=\"T_22f64_row15_col6\" class=\"data row15 col6\" >0.1943</td>\n",
       "      <td id=\"T_22f64_row15_col7\" class=\"data row15 col7\" >0.0310</td>\n",
       "    </tr>\n",
       "    <tr>\n",
       "      <th id=\"T_22f64_level0_row16\" class=\"row_heading level0 row16\" >en</th>\n",
       "      <td id=\"T_22f64_row16_col0\" class=\"data row16 col0\" >Elastic Net</td>\n",
       "      <td id=\"T_22f64_row16_col1\" class=\"data row16 col1\" >0.4393</td>\n",
       "      <td id=\"T_22f64_row16_col2\" class=\"data row16 col2\" >0.2829</td>\n",
       "      <td id=\"T_22f64_row16_col3\" class=\"data row16 col3\" >0.5303</td>\n",
       "      <td id=\"T_22f64_row16_col4\" class=\"data row16 col4\" >-0.0182</td>\n",
       "      <td id=\"T_22f64_row16_col5\" class=\"data row16 col5\" >0.1567</td>\n",
       "      <td id=\"T_22f64_row16_col6\" class=\"data row16 col6\" >0.1943</td>\n",
       "      <td id=\"T_22f64_row16_col7\" class=\"data row16 col7\" >0.0300</td>\n",
       "    </tr>\n",
       "    <tr>\n",
       "      <th id=\"T_22f64_level0_row17\" class=\"row_heading level0 row17\" >dummy</th>\n",
       "      <td id=\"T_22f64_row17_col0\" class=\"data row17 col0\" >Dummy Regressor</td>\n",
       "      <td id=\"T_22f64_row17_col1\" class=\"data row17 col1\" >0.4393</td>\n",
       "      <td id=\"T_22f64_row17_col2\" class=\"data row17 col2\" >0.2829</td>\n",
       "      <td id=\"T_22f64_row17_col3\" class=\"data row17 col3\" >0.5303</td>\n",
       "      <td id=\"T_22f64_row17_col4\" class=\"data row17 col4\" >-0.0182</td>\n",
       "      <td id=\"T_22f64_row17_col5\" class=\"data row17 col5\" >0.1567</td>\n",
       "      <td id=\"T_22f64_row17_col6\" class=\"data row17 col6\" >0.1943</td>\n",
       "      <td id=\"T_22f64_row17_col7\" class=\"data row17 col7\" >0.0340</td>\n",
       "    </tr>\n",
       "  </tbody>\n",
       "</table>\n"
      ],
      "text/plain": [
       "<pandas.io.formats.style.Styler at 0x1fba62228d0>"
      ]
     },
     "metadata": {},
     "output_type": "display_data"
    },
    {
     "data": {
      "text/html": [],
      "text/plain": [
       "<IPython.core.display.HTML object>"
      ]
     },
     "metadata": {},
     "output_type": "display_data"
    }
   ],
   "source": [
    "best_model = compare_models(sort='RMSE')\n"
   ]
  },
  {
   "cell_type": "code",
   "execution_count": 21,
   "metadata": {},
   "outputs": [
    {
     "data": {
      "text/html": [],
      "text/plain": [
       "<IPython.core.display.HTML object>"
      ]
     },
     "metadata": {},
     "output_type": "display_data"
    },
    {
     "data": {
      "text/html": [
       "<style type=\"text/css\">\n",
       "#T_d8591_row10_col0, #T_d8591_row10_col1, #T_d8591_row10_col2, #T_d8591_row10_col3, #T_d8591_row10_col4, #T_d8591_row10_col5 {\n",
       "  background: yellow;\n",
       "}\n",
       "</style>\n",
       "<table id=\"T_d8591\">\n",
       "  <thead>\n",
       "    <tr>\n",
       "      <th class=\"blank level0\" >&nbsp;</th>\n",
       "      <th id=\"T_d8591_level0_col0\" class=\"col_heading level0 col0\" >MAE</th>\n",
       "      <th id=\"T_d8591_level0_col1\" class=\"col_heading level0 col1\" >MSE</th>\n",
       "      <th id=\"T_d8591_level0_col2\" class=\"col_heading level0 col2\" >RMSE</th>\n",
       "      <th id=\"T_d8591_level0_col3\" class=\"col_heading level0 col3\" >R2</th>\n",
       "      <th id=\"T_d8591_level0_col4\" class=\"col_heading level0 col4\" >RMSLE</th>\n",
       "      <th id=\"T_d8591_level0_col5\" class=\"col_heading level0 col5\" >MAPE</th>\n",
       "    </tr>\n",
       "    <tr>\n",
       "      <th class=\"index_name level0\" >Fold</th>\n",
       "      <th class=\"blank col0\" >&nbsp;</th>\n",
       "      <th class=\"blank col1\" >&nbsp;</th>\n",
       "      <th class=\"blank col2\" >&nbsp;</th>\n",
       "      <th class=\"blank col3\" >&nbsp;</th>\n",
       "      <th class=\"blank col4\" >&nbsp;</th>\n",
       "      <th class=\"blank col5\" >&nbsp;</th>\n",
       "    </tr>\n",
       "  </thead>\n",
       "  <tbody>\n",
       "    <tr>\n",
       "      <th id=\"T_d8591_level0_row0\" class=\"row_heading level0 row0\" >0</th>\n",
       "      <td id=\"T_d8591_row0_col0\" class=\"data row0 col0\" >0.0555</td>\n",
       "      <td id=\"T_d8591_row0_col1\" class=\"data row0 col1\" >0.0052</td>\n",
       "      <td id=\"T_d8591_row0_col2\" class=\"data row0 col2\" >0.0723</td>\n",
       "      <td id=\"T_d8591_row0_col3\" class=\"data row0 col3\" >0.9850</td>\n",
       "      <td id=\"T_d8591_row0_col4\" class=\"data row0 col4\" >0.0216</td>\n",
       "      <td id=\"T_d8591_row0_col5\" class=\"data row0 col5\" >0.0235</td>\n",
       "    </tr>\n",
       "    <tr>\n",
       "      <th id=\"T_d8591_level0_row1\" class=\"row_heading level0 row1\" >1</th>\n",
       "      <td id=\"T_d8591_row1_col0\" class=\"data row1 col0\" >0.0683</td>\n",
       "      <td id=\"T_d8591_row1_col1\" class=\"data row1 col1\" >0.0072</td>\n",
       "      <td id=\"T_d8591_row1_col2\" class=\"data row1 col2\" >0.0846</td>\n",
       "      <td id=\"T_d8591_row1_col3\" class=\"data row1 col3\" >0.9739</td>\n",
       "      <td id=\"T_d8591_row1_col4\" class=\"data row1 col4\" >0.0245</td>\n",
       "      <td id=\"T_d8591_row1_col5\" class=\"data row1 col5\" >0.0280</td>\n",
       "    </tr>\n",
       "    <tr>\n",
       "      <th id=\"T_d8591_level0_row2\" class=\"row_heading level0 row2\" >2</th>\n",
       "      <td id=\"T_d8591_row2_col0\" class=\"data row2 col0\" >0.0571</td>\n",
       "      <td id=\"T_d8591_row2_col1\" class=\"data row2 col1\" >0.0053</td>\n",
       "      <td id=\"T_d8591_row2_col2\" class=\"data row2 col2\" >0.0731</td>\n",
       "      <td id=\"T_d8591_row2_col3\" class=\"data row2 col3\" >0.9808</td>\n",
       "      <td id=\"T_d8591_row2_col4\" class=\"data row2 col4\" >0.0212</td>\n",
       "      <td id=\"T_d8591_row2_col5\" class=\"data row2 col5\" >0.0235</td>\n",
       "    </tr>\n",
       "    <tr>\n",
       "      <th id=\"T_d8591_level0_row3\" class=\"row_heading level0 row3\" >3</th>\n",
       "      <td id=\"T_d8591_row3_col0\" class=\"data row3 col0\" >0.0687</td>\n",
       "      <td id=\"T_d8591_row3_col1\" class=\"data row3 col1\" >0.0069</td>\n",
       "      <td id=\"T_d8591_row3_col2\" class=\"data row3 col2\" >0.0829</td>\n",
       "      <td id=\"T_d8591_row3_col3\" class=\"data row3 col3\" >0.9738</td>\n",
       "      <td id=\"T_d8591_row3_col4\" class=\"data row3 col4\" >0.0256</td>\n",
       "      <td id=\"T_d8591_row3_col5\" class=\"data row3 col5\" >0.0309</td>\n",
       "    </tr>\n",
       "    <tr>\n",
       "      <th id=\"T_d8591_level0_row4\" class=\"row_heading level0 row4\" >4</th>\n",
       "      <td id=\"T_d8591_row4_col0\" class=\"data row4 col0\" >0.0630</td>\n",
       "      <td id=\"T_d8591_row4_col1\" class=\"data row4 col1\" >0.0061</td>\n",
       "      <td id=\"T_d8591_row4_col2\" class=\"data row4 col2\" >0.0781</td>\n",
       "      <td id=\"T_d8591_row4_col3\" class=\"data row4 col3\" >0.9796</td>\n",
       "      <td id=\"T_d8591_row4_col4\" class=\"data row4 col4\" >0.0222</td>\n",
       "      <td id=\"T_d8591_row4_col5\" class=\"data row4 col5\" >0.0259</td>\n",
       "    </tr>\n",
       "    <tr>\n",
       "      <th id=\"T_d8591_level0_row5\" class=\"row_heading level0 row5\" >5</th>\n",
       "      <td id=\"T_d8591_row5_col0\" class=\"data row5 col0\" >0.0719</td>\n",
       "      <td id=\"T_d8591_row5_col1\" class=\"data row5 col1\" >0.0075</td>\n",
       "      <td id=\"T_d8591_row5_col2\" class=\"data row5 col2\" >0.0865</td>\n",
       "      <td id=\"T_d8591_row5_col3\" class=\"data row5 col3\" >0.9750</td>\n",
       "      <td id=\"T_d8591_row5_col4\" class=\"data row5 col4\" >0.0257</td>\n",
       "      <td id=\"T_d8591_row5_col5\" class=\"data row5 col5\" >0.0299</td>\n",
       "    </tr>\n",
       "    <tr>\n",
       "      <th id=\"T_d8591_level0_row6\" class=\"row_heading level0 row6\" >6</th>\n",
       "      <td id=\"T_d8591_row6_col0\" class=\"data row6 col0\" >0.0468</td>\n",
       "      <td id=\"T_d8591_row6_col1\" class=\"data row6 col1\" >0.0038</td>\n",
       "      <td id=\"T_d8591_row6_col2\" class=\"data row6 col2\" >0.0616</td>\n",
       "      <td id=\"T_d8591_row6_col3\" class=\"data row6 col3\" >0.9842</td>\n",
       "      <td id=\"T_d8591_row6_col4\" class=\"data row6 col4\" >0.0193</td>\n",
       "      <td id=\"T_d8591_row6_col5\" class=\"data row6 col5\" >0.0209</td>\n",
       "    </tr>\n",
       "    <tr>\n",
       "      <th id=\"T_d8591_level0_row7\" class=\"row_heading level0 row7\" >7</th>\n",
       "      <td id=\"T_d8591_row7_col0\" class=\"data row7 col0\" >0.0630</td>\n",
       "      <td id=\"T_d8591_row7_col1\" class=\"data row7 col1\" >0.0063</td>\n",
       "      <td id=\"T_d8591_row7_col2\" class=\"data row7 col2\" >0.0795</td>\n",
       "      <td id=\"T_d8591_row7_col3\" class=\"data row7 col3\" >0.9699</td>\n",
       "      <td id=\"T_d8591_row7_col4\" class=\"data row7 col4\" >0.0231</td>\n",
       "      <td id=\"T_d8591_row7_col5\" class=\"data row7 col5\" >0.0263</td>\n",
       "    </tr>\n",
       "    <tr>\n",
       "      <th id=\"T_d8591_level0_row8\" class=\"row_heading level0 row8\" >8</th>\n",
       "      <td id=\"T_d8591_row8_col0\" class=\"data row8 col0\" >0.0517</td>\n",
       "      <td id=\"T_d8591_row8_col1\" class=\"data row8 col1\" >0.0043</td>\n",
       "      <td id=\"T_d8591_row8_col2\" class=\"data row8 col2\" >0.0654</td>\n",
       "      <td id=\"T_d8591_row8_col3\" class=\"data row8 col3\" >0.9811</td>\n",
       "      <td id=\"T_d8591_row8_col4\" class=\"data row8 col4\" >0.0188</td>\n",
       "      <td id=\"T_d8591_row8_col5\" class=\"data row8 col5\" >0.0217</td>\n",
       "    </tr>\n",
       "    <tr>\n",
       "      <th id=\"T_d8591_level0_row9\" class=\"row_heading level0 row9\" >9</th>\n",
       "      <td id=\"T_d8591_row9_col0\" class=\"data row9 col0\" >0.0717</td>\n",
       "      <td id=\"T_d8591_row9_col1\" class=\"data row9 col1\" >0.0090</td>\n",
       "      <td id=\"T_d8591_row9_col2\" class=\"data row9 col2\" >0.0947</td>\n",
       "      <td id=\"T_d8591_row9_col3\" class=\"data row9 col3\" >0.9736</td>\n",
       "      <td id=\"T_d8591_row9_col4\" class=\"data row9 col4\" >0.0323</td>\n",
       "      <td id=\"T_d8591_row9_col5\" class=\"data row9 col5\" >0.0352</td>\n",
       "    </tr>\n",
       "    <tr>\n",
       "      <th id=\"T_d8591_level0_row10\" class=\"row_heading level0 row10\" >Mean</th>\n",
       "      <td id=\"T_d8591_row10_col0\" class=\"data row10 col0\" >0.0618</td>\n",
       "      <td id=\"T_d8591_row10_col1\" class=\"data row10 col1\" >0.0062</td>\n",
       "      <td id=\"T_d8591_row10_col2\" class=\"data row10 col2\" >0.0779</td>\n",
       "      <td id=\"T_d8591_row10_col3\" class=\"data row10 col3\" >0.9777</td>\n",
       "      <td id=\"T_d8591_row10_col4\" class=\"data row10 col4\" >0.0234</td>\n",
       "      <td id=\"T_d8591_row10_col5\" class=\"data row10 col5\" >0.0266</td>\n",
       "    </tr>\n",
       "    <tr>\n",
       "      <th id=\"T_d8591_level0_row11\" class=\"row_heading level0 row11\" >Std</th>\n",
       "      <td id=\"T_d8591_row11_col0\" class=\"data row11 col0\" >0.0083</td>\n",
       "      <td id=\"T_d8591_row11_col1\" class=\"data row11 col1\" >0.0015</td>\n",
       "      <td id=\"T_d8591_row11_col2\" class=\"data row11 col2\" >0.0095</td>\n",
       "      <td id=\"T_d8591_row11_col3\" class=\"data row11 col3\" >0.0049</td>\n",
       "      <td id=\"T_d8591_row11_col4\" class=\"data row11 col4\" >0.0037</td>\n",
       "      <td id=\"T_d8591_row11_col5\" class=\"data row11 col5\" >0.0043</td>\n",
       "    </tr>\n",
       "  </tbody>\n",
       "</table>\n"
      ],
      "text/plain": [
       "<pandas.io.formats.style.Styler at 0x1fba62ab890>"
      ]
     },
     "metadata": {},
     "output_type": "display_data"
    },
    {
     "data": {
      "text/html": [],
      "text/plain": [
       "<IPython.core.display.HTML object>"
      ]
     },
     "metadata": {},
     "output_type": "display_data"
    },
    {
     "name": "stdout",
     "output_type": "stream",
     "text": [
      "Fitting 10 folds for each of 10 candidates, totalling 100 fits\n",
      "Original model was better than the tuned model, hence it will be returned. NOTE: The display metrics are for the tuned model (not the original one).\n"
     ]
    },
    {
     "data": {
      "text/plain": [
       "sklearn.ensemble._gb.GradientBoostingRegressor"
      ]
     },
     "execution_count": 21,
     "metadata": {},
     "output_type": "execute_result"
    }
   ],
   "source": [
    "tuned_model = tune_model(best_model)\n",
    "\n",
    "type(tuned_model)"
   ]
  },
  {
   "cell_type": "code",
   "execution_count": 9,
   "metadata": {},
   "outputs": [
    {
     "data": {
      "application/vnd.jupyter.widget-view+json": {
       "model_id": "671c18f8b6c94bdca1867142a74ae3d7",
       "version_major": 2,
       "version_minor": 0
      },
      "text/plain": [
       "interactive(children=(ToggleButtons(description='Plot Type:', icons=('',), options=(('Pipeline Plot', 'pipelin…"
      ]
     },
     "metadata": {},
     "output_type": "display_data"
    }
   ],
   "source": [
    "evaluate_model(tuned_model)\n"
   ]
  },
  {
   "cell_type": "code",
   "execution_count": 10,
   "metadata": {},
   "outputs": [
    {
     "data": {
      "text/html": [
       "<style type=\"text/css\">\n",
       "</style>\n",
       "<table id=\"T_ca5ac\">\n",
       "  <thead>\n",
       "    <tr>\n",
       "      <th class=\"blank level0\" >&nbsp;</th>\n",
       "      <th id=\"T_ca5ac_level0_col0\" class=\"col_heading level0 col0\" >Model</th>\n",
       "      <th id=\"T_ca5ac_level0_col1\" class=\"col_heading level0 col1\" >MAE</th>\n",
       "      <th id=\"T_ca5ac_level0_col2\" class=\"col_heading level0 col2\" >MSE</th>\n",
       "      <th id=\"T_ca5ac_level0_col3\" class=\"col_heading level0 col3\" >RMSE</th>\n",
       "      <th id=\"T_ca5ac_level0_col4\" class=\"col_heading level0 col4\" >R2</th>\n",
       "      <th id=\"T_ca5ac_level0_col5\" class=\"col_heading level0 col5\" >RMSLE</th>\n",
       "      <th id=\"T_ca5ac_level0_col6\" class=\"col_heading level0 col6\" >MAPE</th>\n",
       "    </tr>\n",
       "  </thead>\n",
       "  <tbody>\n",
       "    <tr>\n",
       "      <th id=\"T_ca5ac_level0_row0\" class=\"row_heading level0 row0\" >0</th>\n",
       "      <td id=\"T_ca5ac_row0_col0\" class=\"data row0 col0\" >Gradient Boosting Regressor</td>\n",
       "      <td id=\"T_ca5ac_row0_col1\" class=\"data row0 col1\" >0.0444</td>\n",
       "      <td id=\"T_ca5ac_row0_col2\" class=\"data row0 col2\" >0.0033</td>\n",
       "      <td id=\"T_ca5ac_row0_col3\" class=\"data row0 col3\" >0.0577</td>\n",
       "      <td id=\"T_ca5ac_row0_col4\" class=\"data row0 col4\" >0.9877</td>\n",
       "      <td id=\"T_ca5ac_row0_col5\" class=\"data row0 col5\" >0.0167</td>\n",
       "      <td id=\"T_ca5ac_row0_col6\" class=\"data row0 col6\" >0.0183</td>\n",
       "    </tr>\n",
       "  </tbody>\n",
       "</table>\n"
      ],
      "text/plain": [
       "<pandas.io.formats.style.Styler at 0x1fba6462b50>"
      ]
     },
     "metadata": {},
     "output_type": "display_data"
    },
    {
     "name": "stdout",
     "output_type": "stream",
     "text": [
      "                variety          region  sugar_content_brix  acidity_ph  \\\n",
      "131     Sauvignon Blanc          Sonoma           19.920000        2.82   \n",
      "203  Cabernet Sauvignon          Sonoma           16.469999        2.86   \n",
      "50             Riesling          Sonoma           27.490000        3.44   \n",
      "585            Riesling          Sonoma           12.730000        3.67   \n",
      "138            Riesling         Tuscany           19.610001        3.06   \n",
      "..                  ...             ...                 ...         ...   \n",
      "556           Zinfandel          Sonoma           22.219999        3.53   \n",
      "598          Pinot Noir           Rioja           11.710000        3.20   \n",
      "458              Merlot  Barossa Valley           14.310000        3.48   \n",
      "586               Syrah     Napa Valley           23.900000        2.90   \n",
      "178  Cabernet Sauvignon    Loire Valley           25.219999        3.77   \n",
      "\n",
      "     cluster_weight_g  berry_size_mm  sun_exposure_hours  \\\n",
      "131        296.899994      13.270000                 9.1   \n",
      "203        307.649994      24.450001                10.3   \n",
      "50         111.599998      24.020000                 7.2   \n",
      "585        148.470001      24.480000                 6.3   \n",
      "138        206.429993      19.980000                10.1   \n",
      "..                ...            ...                 ...   \n",
      "556        132.089996      19.950001                 6.7   \n",
      "598        161.649994      16.080000                10.0   \n",
      "458        259.140015      16.240000                11.9   \n",
      "586        186.199997      15.900000                 8.6   \n",
      "178        294.239990      14.900000                 9.2   \n",
      "\n",
      "     soil_moisture_percent  rainfall_mm  quality_score  prediction_label  \n",
      "131              60.299999   476.500000           2.16          2.257768  \n",
      "203              56.000000   267.600006           2.74          2.740324  \n",
      "50               50.500000   727.000000           3.03          2.992806  \n",
      "585              46.400002   605.099976           1.97          2.023706  \n",
      "138              55.500000   601.400024           2.82          2.827579  \n",
      "..                     ...          ...            ...               ...  \n",
      "556              44.700001   313.200012           2.51          2.536195  \n",
      "598              66.800003   798.500000           2.10          1.960871  \n",
      "458              31.600000   335.100006           2.65          2.504487  \n",
      "586              48.799999   450.500000           2.51          2.547515  \n",
      "178              37.900002   326.299988           2.71          2.683559  \n",
      "\n",
      "[300 rows x 11 columns]\n"
     ]
    }
   ],
   "source": [
    "#Make predictions\n",
    "\n",
    "predictions = predict_model(tuned_model)\n",
    "print(predictions)\n"
   ]
  },
  {
   "cell_type": "code",
   "execution_count": 11,
   "metadata": {},
   "outputs": [
    {
     "data": {
      "text/html": [],
      "text/plain": [
       "<IPython.core.display.HTML object>"
      ]
     },
     "metadata": {},
     "output_type": "display_data"
    },
    {
     "name": "stdout",
     "output_type": "stream",
     "text": [
      "   sugar_content_brix  acidity_ph  cluster_weight_g  berry_size_mm  \\\n",
      "0           22.500000         3.5               120             15   \n",
      "1           24.299999         3.7               140             18   \n",
      "\n",
      "   sun_exposure_hours  soil_moisture_percent  rainfall_mm             variety  \\\n",
      "0                   8                     25          200  Cabernet Sauvignon   \n",
      "1                  10                     30          180              Merlot   \n",
      "\n",
      "        region  prediction_label  \n",
      "0  Napa Valley          2.416202  \n",
      "1       Sonoma          2.977378  \n"
     ]
    }
   ],
   "source": [
    "# Prepare new data in the same format as the training data and use\n",
    "#Define the new_data\n",
    "\n",
    "import pandas as pd\n",
    "\n",
    "# Example of new data (replace with actual data)\n",
    "new_data = pd.DataFrame({\n",
    "    'sugar_content_brix': [22.5, 24.3],\n",
    "    'acidity_ph': [3.5, 3.7],\n",
    "    'cluster_weight_g': [120, 140],\n",
    "    'berry_size_mm': [15, 18],\n",
    "    'sun_exposure_hours': [8, 10],\n",
    "    'soil_moisture_percent': [25, 30],\n",
    "    'rainfall_mm': [200, 180],\n",
    "    'variety': ['Cabernet Sauvignon', 'Merlot'],\n",
    "    'region': ['Napa Valley', 'Sonoma']\n",
    "})\n",
    "\n",
    "new_data_predictions = predict_model(tuned_model, data=new_data)\n",
    "print(new_data_predictions)\n"
   ]
  },
  {
   "cell_type": "code",
   "execution_count": 22,
   "metadata": {},
   "outputs": [
    {
     "data": {
      "text/plain": [
       "['best_grape_quality_model.pkl']"
      ]
     },
     "execution_count": 22,
     "metadata": {},
     "output_type": "execute_result"
    }
   ],
   "source": [
    "import joblib\n",
    "joblib.dump(tuned_model, 'best_grape_quality_model.pkl')\n"
   ]
  },
  {
   "cell_type": "code",
   "execution_count": 14,
   "metadata": {},
   "outputs": [
    {
     "name": "stdout",
     "output_type": "stream",
     "text": [
      "GradientBoostingRegressor(random_state=123)\n"
     ]
    }
   ],
   "source": []
  },
  {
   "cell_type": "code",
   "execution_count": 15,
   "metadata": {},
   "outputs": [
    {
     "data": {
      "text/plain": [
       "['gradient_boosting_model.pkl']"
      ]
     },
     "execution_count": 15,
     "metadata": {},
     "output_type": "execute_result"
    }
   ],
   "source": [
    "from sklearn.ensemble import GradientBoostingRegressor\n",
    "import joblib\n",
    "\n",
    "model = GradientBoostingRegressor(random_state=123)\n",
    "# Fit your model\n",
    "# model.fit(X_train, y_train)\n",
    "\n",
    "# Save the model\n",
    "joblib.dump(tuned_model, 'gradient_boosting_model.pkl')\n"
   ]
  },
  {
   "cell_type": "code",
   "execution_count": 16,
   "metadata": {},
   "outputs": [
    {
     "name": "stdout",
     "output_type": "stream",
     "text": [
      "<class 'sklearn.ensemble._gb.GradientBoostingRegressor'>\n"
     ]
    }
   ],
   "source": [
    "print(type(tuned_model))"
   ]
  },
  {
   "cell_type": "code",
   "execution_count": 18,
   "metadata": {},
   "outputs": [
    {
     "name": "stdout",
     "output_type": "stream",
     "text": [
      "1.4.2\n"
     ]
    }
   ],
   "source": [
    "\n",
    "import sklearn\n",
    "print(sklearn.__version__)\n",
    "\n"
   ]
  },
  {
   "cell_type": "code",
   "execution_count": 19,
   "metadata": {},
   "outputs": [
    {
     "name": "stdout",
     "output_type": "stream",
     "text": [
      "1.3.2\n"
     ]
    }
   ],
   "source": [
    "import joblib\n",
    "print(joblib.__version__)\n"
   ]
  },
  {
   "cell_type": "code",
   "execution_count": 20,
   "metadata": {},
   "outputs": [
    {
     "name": "stdout",
     "output_type": "stream",
     "text": [
      "<class 'sklearn.ensemble._gb.GradientBoostingRegressor'>\n"
     ]
    }
   ],
   "source": [
    "from sklearn.ensemble import GradientBoostingRegressor\n",
    "import joblib\n",
    "\n",
    "# Training and saving the model\n",
    "tuned_model = GradientBoostingRegressor(random_state=123)\n",
    "# model.fit(X_train, y_train)\n",
    "joblib.dump(tuned_model, 'tuned_gradient_boosting_model.pkl')\n",
    "\n",
    "# Loading the model\n",
    "tuned_model = joblib.load('tuned_gradient_boosting_model.pkl')\n",
    "print(type(tuned_model))  # Should output <class 'sklearn.ensemble._gb.GradientBoostingRegressor'>\n"
   ]
  },
  {
   "cell_type": "code",
   "execution_count": 23,
   "metadata": {},
   "outputs": [
    {
     "data": {
      "text/plain": [
       "array(['variety_Cabernet Sauvignon', 'variety_Merlot', 'variety_Riesling',\n",
       "       'variety_Syrah', 'variety_Pinot Noir', 'variety_Zinfandel',\n",
       "       'variety_Chardonnay', 'variety_Sauvignon Blanc', 'region_Bordeaux',\n",
       "       'region_Loire Valley', 'region_Barossa Valley', 'region_Tuscany',\n",
       "       'region_Mendoza', 'region_Rioja', 'region_Sonoma',\n",
       "       'region_Napa Valley', 'sugar_content_brix', 'acidity_ph',\n",
       "       'cluster_weight_g', 'berry_size_mm', 'sun_exposure_hours',\n",
       "       'soil_moisture_percent', 'rainfall_mm'], dtype=object)"
      ]
     },
     "execution_count": 23,
     "metadata": {},
     "output_type": "execute_result"
    }
   ],
   "source": [
    "tuned_model.feature_names_in_\n"
   ]
  },
  {
   "cell_type": "code",
   "execution_count": null,
   "metadata": {},
   "outputs": [],
   "source": []
  }
 ],
 "metadata": {
  "kernelspec": {
   "display_name": "Python 3 (ipykernel)",
   "language": "python",
   "name": "python3"
  },
  "language_info": {
   "codemirror_mode": {
    "name": "ipython",
    "version": 3
   },
   "file_extension": ".py",
   "mimetype": "text/x-python",
   "name": "python",
   "nbconvert_exporter": "python",
   "pygments_lexer": "ipython3",
   "version": "3.11.11"
  }
 },
 "nbformat": 4,
 "nbformat_minor": 4
}
