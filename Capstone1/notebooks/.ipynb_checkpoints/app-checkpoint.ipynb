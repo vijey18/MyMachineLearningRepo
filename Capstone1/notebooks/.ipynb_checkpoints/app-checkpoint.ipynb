{
 "cells": [
  {
   "cell_type": "code",
   "execution_count": null,
   "id": "1acd0977-2e8c-4325-baf9-816b36c0af7a",
   "metadata": {},
   "outputs": [],
   "source": [
    "import streamlit as st\n",
    "import pandas as pd\n",
    "import joblib\n",
    "\n",
    "# Load the saved pipeline\n",
    "pipeline_path = 'combined_gradient_boosting_pipeline.pkl'\n",
    "combined_pipeline = joblib.load(pipeline_path)\n",
    "\n",
    "# Streamlit App\n",
    "st.title('Wine Quality Prediction')\n",
    "\n",
    "# Input fields for user\n",
    "st.sidebar.header('Input Features')\n",
    "\n",
    "variety = st.sidebar.selectbox('Variety', ['Variety1', 'Variety2', 'Variety3'])\n",
    "region = st.sidebar.selectbox('Region', ['Region1', 'Region2', 'Region3'])\n",
    "sugar_content_brix = st.sidebar.number_input('Sugar Content (Brix)', min_value=0.0, max_value=40.0)\n",
    "acidity_ph = st.sidebar.number_input('Acidity (pH)', min_value=0.0, max_value=10.0)\n",
    "cluster_weight_g = st.sidebar.number_input('Cluster Weight (g)', min_value=0, max_value=1000)\n",
    "berry_size_mm = st.sidebar.number_input('Berry Size (mm)', min_value=0.0, max_value=15.0)\n",
    "sun_exposure_hours = st.sidebar.number_input('Sun Exposure (hours)', min_value=0, max_value=24)\n",
    "soil_moisture_percent = st.sidebar.number_input('Soil Moisture (%)', min_value=0.0, max_value=100.0)\n",
    "rainfall_mm = st.sidebar.number_input('Rainfall (mm)', min_value=0, max_value=500)\n",
    "\n",
    "# Create a DataFrame from inputs\n",
    "sample_data = pd.DataFrame({\n",
    "    'variety': [variety],\n",
    "    'region': [region],\n",
    "    'sugar_content_brix': [sugar_content_brix],\n",
    "    'acidity_ph': [acidity_ph],\n",
    "    'cluster_weight_g': [cluster_weight_g],\n",
    "    'berry_size_mm': [berry_size_mm],\n",
    "    'sun_exposure_hours': [sun_exposure_hours],\n",
    "    'soil_moisture_percent': [soil_moisture_percent],\n",
    "    'rainfall_mm': [rainfall_mm]\n",
    "})\n",
    "\n",
    "# Make predictions\n",
    "predictions = combined_pipeline.predict(sample_data)\n",
    "\n",
    "# Display predictions\n",
    "if isinstance(predictions, list):\n",
    "    prediction_dict = predictions[0]\n",
    "    st.write(f\"**Predicted Quality Category:** {prediction_dict['quality_category']}\")\n",
    "    st.write(f\"**Predicted Quality Score:** {prediction_dict['quality_score']}\")\n",
    "else:\n",
    "    st.write(predictions)\n"
   ]
  }
 ],
 "metadata": {
  "kernelspec": {
   "display_name": "Python 3 (ipykernel)",
   "language": "python",
   "name": "python3"
  },
  "language_info": {
   "codemirror_mode": {
    "name": "ipython",
    "version": 3
   },
   "file_extension": ".py",
   "mimetype": "text/x-python",
   "name": "python",
   "nbconvert_exporter": "python",
   "pygments_lexer": "ipython3",
   "version": "3.11.11"
  }
 },
 "nbformat": 4,
 "nbformat_minor": 5
}
